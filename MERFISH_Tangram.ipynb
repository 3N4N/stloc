{
 "cells": [
  {
   "cell_type": "markdown",
   "id": "1039e8e8-b2ce-4947-a78d-314b13f994e4",
   "metadata": {},
   "source": [
    "# Import libs"
   ]
  },
  {
   "cell_type": "code",
   "execution_count": 24,
   "id": "47e9908a-c33d-4596-a177-bfa06f720e23",
   "metadata": {},
   "outputs": [
    {
     "name": "stdout",
     "output_type": "stream",
     "text": [
      "The autoreload extension is already loaded. To reload it, use:\n",
      "  %reload_ext autoreload\n"
     ]
    }
   ],
   "source": [
    "import numpy as np\n",
    "import pandas as pd\n",
    "\n",
    "from sklearn.preprocessing import MinMaxScaler\n",
    "\n",
    "import scanpy as sc\n",
    "import anndata as ad\n",
    "import tangram as tg\n",
    "import matplotlib.pyplot as plt\n",
    "import seaborn as sns\n",
    "\n",
    "np.random.seed(10)\n",
    "\n",
    "\n",
    "%load_ext autoreload\n",
    "%autoreload 2\n",
    "%matplotlib inline"
   ]
  },
  {
   "cell_type": "code",
   "execution_count": 2,
   "id": "61b1c087-c701-4234-81cc-96e5c401566f",
   "metadata": {},
   "outputs": [],
   "source": [
    "import torch\n",
    "torch.cuda.empty_cache()\n",
    "device = torch.device(\"cpu\")"
   ]
  },
  {
   "cell_type": "code",
   "execution_count": 3,
   "id": "6a5b25dd-03b0-40bc-9010-d2f65c9063ba",
   "metadata": {},
   "outputs": [],
   "source": [
    "# project_location = \"e:/projects/stloc/\"\n",
    "project_location = \"./\""
   ]
  },
  {
   "cell_type": "markdown",
   "id": "0d60b61d-3d25-4f1a-97cd-4e0855f5eb6e",
   "metadata": {},
   "source": [
    "# Load data"
   ]
  },
  {
   "cell_type": "markdown",
   "id": "5acc4bcb-5428-4a06-98cf-ddaab40fbe64",
   "metadata": {},
   "source": [
    "## Spatial data"
   ]
  },
  {
   "cell_type": "code",
   "execution_count": 4,
   "id": "3946a17b-2db2-406a-9eca-f3be04ac8421",
   "metadata": {},
   "outputs": [
    {
     "data": {
      "text/html": [
       "<div>\n",
       "<style scoped>\n",
       "    .dataframe tbody tr th:only-of-type {\n",
       "        vertical-align: middle;\n",
       "    }\n",
       "\n",
       "    .dataframe tbody tr th {\n",
       "        vertical-align: top;\n",
       "    }\n",
       "\n",
       "    .dataframe thead th {\n",
       "        text-align: right;\n",
       "    }\n",
       "</style>\n",
       "<table border=\"1\" class=\"dataframe\">\n",
       "  <thead>\n",
       "    <tr style=\"text-align: right;\">\n",
       "      <th></th>\n",
       "      <th>Ace2</th>\n",
       "      <th>Adora2a</th>\n",
       "      <th>Aldh1l1</th>\n",
       "      <th>Amigo2</th>\n",
       "      <th>Ano3</th>\n",
       "      <th>Aqp4</th>\n",
       "      <th>Ar</th>\n",
       "      <th>Arhgap36</th>\n",
       "      <th>Avpr1a</th>\n",
       "      <th>Avpr2</th>\n",
       "      <th>...</th>\n",
       "      <th>ODImmature1</th>\n",
       "      <th>ODImmature2</th>\n",
       "      <th>Microglia</th>\n",
       "      <th>ODMature2</th>\n",
       "      <th>ODMature1</th>\n",
       "      <th>Endothelial3</th>\n",
       "      <th>ODMature3</th>\n",
       "      <th>ODMature4</th>\n",
       "      <th>Endothelial2</th>\n",
       "      <th>Ependymal</th>\n",
       "    </tr>\n",
       "  </thead>\n",
       "  <tbody>\n",
       "    <tr>\n",
       "      <th>0</th>\n",
       "      <td>0.000000</td>\n",
       "      <td>0.631323</td>\n",
       "      <td>2.783859</td>\n",
       "      <td>4.017283</td>\n",
       "      <td>0.707772</td>\n",
       "      <td>2.754597</td>\n",
       "      <td>1.262664</td>\n",
       "      <td>14.922339</td>\n",
       "      <td>0.707772</td>\n",
       "      <td>0.0</td>\n",
       "      <td>...</td>\n",
       "      <td>0</td>\n",
       "      <td>0</td>\n",
       "      <td>0</td>\n",
       "      <td>1</td>\n",
       "      <td>1</td>\n",
       "      <td>0</td>\n",
       "      <td>0</td>\n",
       "      <td>0</td>\n",
       "      <td>0</td>\n",
       "      <td>0</td>\n",
       "    </tr>\n",
       "    <tr>\n",
       "      <th>1</th>\n",
       "      <td>0.000000</td>\n",
       "      <td>0.000000</td>\n",
       "      <td>5.027816</td>\n",
       "      <td>0.000000</td>\n",
       "      <td>0.000000</td>\n",
       "      <td>10.056050</td>\n",
       "      <td>0.000000</td>\n",
       "      <td>0.000000</td>\n",
       "      <td>0.000000</td>\n",
       "      <td>0.0</td>\n",
       "      <td>...</td>\n",
       "      <td>0</td>\n",
       "      <td>0</td>\n",
       "      <td>0</td>\n",
       "      <td>1</td>\n",
       "      <td>0</td>\n",
       "      <td>0</td>\n",
       "      <td>0</td>\n",
       "      <td>0</td>\n",
       "      <td>0</td>\n",
       "      <td>0</td>\n",
       "    </tr>\n",
       "    <tr>\n",
       "      <th>2</th>\n",
       "      <td>0.000000</td>\n",
       "      <td>0.000000</td>\n",
       "      <td>0.000000</td>\n",
       "      <td>0.000000</td>\n",
       "      <td>0.000000</td>\n",
       "      <td>3.856702</td>\n",
       "      <td>0.000000</td>\n",
       "      <td>0.854257</td>\n",
       "      <td>0.427118</td>\n",
       "      <td>0.0</td>\n",
       "      <td>...</td>\n",
       "      <td>0</td>\n",
       "      <td>0</td>\n",
       "      <td>0</td>\n",
       "      <td>1</td>\n",
       "      <td>1</td>\n",
       "      <td>0</td>\n",
       "      <td>0</td>\n",
       "      <td>0</td>\n",
       "      <td>0</td>\n",
       "      <td>0</td>\n",
       "    </tr>\n",
       "    <tr>\n",
       "      <th>3</th>\n",
       "      <td>0.000000</td>\n",
       "      <td>0.000000</td>\n",
       "      <td>1.465245</td>\n",
       "      <td>0.732607</td>\n",
       "      <td>0.000000</td>\n",
       "      <td>2.323503</td>\n",
       "      <td>0.795436</td>\n",
       "      <td>0.732607</td>\n",
       "      <td>0.732607</td>\n",
       "      <td>0.0</td>\n",
       "      <td>...</td>\n",
       "      <td>0</td>\n",
       "      <td>0</td>\n",
       "      <td>0</td>\n",
       "      <td>2</td>\n",
       "      <td>0</td>\n",
       "      <td>0</td>\n",
       "      <td>0</td>\n",
       "      <td>0</td>\n",
       "      <td>0</td>\n",
       "      <td>0</td>\n",
       "    </tr>\n",
       "    <tr>\n",
       "      <th>4</th>\n",
       "      <td>6.311896</td>\n",
       "      <td>7.574326</td>\n",
       "      <td>0.000000</td>\n",
       "      <td>0.000000</td>\n",
       "      <td>0.000000</td>\n",
       "      <td>0.000000</td>\n",
       "      <td>0.000000</td>\n",
       "      <td>0.000000</td>\n",
       "      <td>0.000000</td>\n",
       "      <td>0.0</td>\n",
       "      <td>...</td>\n",
       "      <td>0</td>\n",
       "      <td>0</td>\n",
       "      <td>1</td>\n",
       "      <td>0</td>\n",
       "      <td>0</td>\n",
       "      <td>1</td>\n",
       "      <td>0</td>\n",
       "      <td>0</td>\n",
       "      <td>0</td>\n",
       "      <td>0</td>\n",
       "    </tr>\n",
       "  </tbody>\n",
       "</table>\n",
       "<p>5 rows × 171 columns</p>\n",
       "</div>"
      ],
      "text/plain": [
       "       Ace2   Adora2a   Aldh1l1    Amigo2      Ano3       Aqp4        Ar  \\\n",
       "0  0.000000  0.631323  2.783859  4.017283  0.707772   2.754597  1.262664   \n",
       "1  0.000000  0.000000  5.027816  0.000000  0.000000  10.056050  0.000000   \n",
       "2  0.000000  0.000000  0.000000  0.000000  0.000000   3.856702  0.000000   \n",
       "3  0.000000  0.000000  1.465245  0.732607  0.000000   2.323503  0.795436   \n",
       "4  6.311896  7.574326  0.000000  0.000000  0.000000   0.000000  0.000000   \n",
       "\n",
       "    Arhgap36    Avpr1a  Avpr2  ...  ODImmature1  ODImmature2  Microglia  \\\n",
       "0  14.922339  0.707772    0.0  ...            0            0          0   \n",
       "1   0.000000  0.000000    0.0  ...            0            0          0   \n",
       "2   0.854257  0.427118    0.0  ...            0            0          0   \n",
       "3   0.732607  0.732607    0.0  ...            0            0          0   \n",
       "4   0.000000  0.000000    0.0  ...            0            0          1   \n",
       "\n",
       "   ODMature2  ODMature1  Endothelial3  ODMature3  ODMature4  Endothelial2  \\\n",
       "0          1          1             0          0          0             0   \n",
       "1          1          0             0          0          0             0   \n",
       "2          1          1             0          0          0             0   \n",
       "3          2          0             0          0          0             0   \n",
       "4          0          0             1          0          0             0   \n",
       "\n",
       "   Ependymal  \n",
       "0          0  \n",
       "1          0  \n",
       "2          0  \n",
       "3          0  \n",
       "4          0  \n",
       "\n",
       "[5 rows x 171 columns]"
      ]
     },
     "execution_count": 4,
     "metadata": {},
     "output_type": "execute_result"
    }
   ],
   "source": [
    "df_st = pd.read_csv(project_location + \"data/merfish/merfishSpatial.csv\", sep=\" \")\n",
    "coords = df_st['coord']\n",
    "df_st.drop(columns=['coord'], inplace=True)\n",
    "cellTypeCount =16\n",
    "typeCountDf=  df_st.iloc[:,-cellTypeCount:]\n",
    "# df_st = df_st.iloc[: , :-cellTypeCount]\n",
    "df_st.head()\n"
   ]
  },
  {
   "cell_type": "code",
   "execution_count": 5,
   "id": "417f1300",
   "metadata": {},
   "outputs": [
    {
     "data": {
      "text/html": [
       "<div>\n",
       "<style scoped>\n",
       "    .dataframe tbody tr th:only-of-type {\n",
       "        vertical-align: middle;\n",
       "    }\n",
       "\n",
       "    .dataframe tbody tr th {\n",
       "        vertical-align: top;\n",
       "    }\n",
       "\n",
       "    .dataframe thead th {\n",
       "        text-align: right;\n",
       "    }\n",
       "</style>\n",
       "<table border=\"1\" class=\"dataframe\">\n",
       "  <thead>\n",
       "    <tr style=\"text-align: right;\">\n",
       "      <th></th>\n",
       "      <th>Astrocyte</th>\n",
       "      <th>Inhibitory</th>\n",
       "      <th>Pericytes</th>\n",
       "      <th>Ambiguous</th>\n",
       "      <th>Endothelial1</th>\n",
       "      <th>Excitatory</th>\n",
       "      <th>ODImmature1</th>\n",
       "      <th>ODImmature2</th>\n",
       "      <th>Microglia</th>\n",
       "      <th>ODMature2</th>\n",
       "      <th>ODMature1</th>\n",
       "      <th>Endothelial3</th>\n",
       "      <th>ODMature3</th>\n",
       "      <th>ODMature4</th>\n",
       "      <th>Endothelial2</th>\n",
       "      <th>Ependymal</th>\n",
       "    </tr>\n",
       "  </thead>\n",
       "  <tbody>\n",
       "    <tr>\n",
       "      <th>0</th>\n",
       "      <td>0</td>\n",
       "      <td>1</td>\n",
       "      <td>0</td>\n",
       "      <td>0</td>\n",
       "      <td>1</td>\n",
       "      <td>0</td>\n",
       "      <td>0</td>\n",
       "      <td>0</td>\n",
       "      <td>0</td>\n",
       "      <td>1</td>\n",
       "      <td>1</td>\n",
       "      <td>0</td>\n",
       "      <td>0</td>\n",
       "      <td>0</td>\n",
       "      <td>0</td>\n",
       "      <td>0</td>\n",
       "    </tr>\n",
       "    <tr>\n",
       "      <th>1</th>\n",
       "      <td>0</td>\n",
       "      <td>0</td>\n",
       "      <td>0</td>\n",
       "      <td>0</td>\n",
       "      <td>0</td>\n",
       "      <td>0</td>\n",
       "      <td>0</td>\n",
       "      <td>0</td>\n",
       "      <td>0</td>\n",
       "      <td>1</td>\n",
       "      <td>0</td>\n",
       "      <td>0</td>\n",
       "      <td>0</td>\n",
       "      <td>0</td>\n",
       "      <td>0</td>\n",
       "      <td>0</td>\n",
       "    </tr>\n",
       "    <tr>\n",
       "      <th>2</th>\n",
       "      <td>0</td>\n",
       "      <td>0</td>\n",
       "      <td>0</td>\n",
       "      <td>0</td>\n",
       "      <td>0</td>\n",
       "      <td>0</td>\n",
       "      <td>0</td>\n",
       "      <td>0</td>\n",
       "      <td>0</td>\n",
       "      <td>1</td>\n",
       "      <td>1</td>\n",
       "      <td>0</td>\n",
       "      <td>0</td>\n",
       "      <td>0</td>\n",
       "      <td>0</td>\n",
       "      <td>0</td>\n",
       "    </tr>\n",
       "    <tr>\n",
       "      <th>3</th>\n",
       "      <td>0</td>\n",
       "      <td>0</td>\n",
       "      <td>0</td>\n",
       "      <td>0</td>\n",
       "      <td>0</td>\n",
       "      <td>0</td>\n",
       "      <td>0</td>\n",
       "      <td>0</td>\n",
       "      <td>0</td>\n",
       "      <td>2</td>\n",
       "      <td>0</td>\n",
       "      <td>0</td>\n",
       "      <td>0</td>\n",
       "      <td>0</td>\n",
       "      <td>0</td>\n",
       "      <td>0</td>\n",
       "    </tr>\n",
       "    <tr>\n",
       "      <th>4</th>\n",
       "      <td>0</td>\n",
       "      <td>0</td>\n",
       "      <td>0</td>\n",
       "      <td>0</td>\n",
       "      <td>0</td>\n",
       "      <td>0</td>\n",
       "      <td>0</td>\n",
       "      <td>0</td>\n",
       "      <td>1</td>\n",
       "      <td>0</td>\n",
       "      <td>0</td>\n",
       "      <td>1</td>\n",
       "      <td>0</td>\n",
       "      <td>0</td>\n",
       "      <td>0</td>\n",
       "      <td>0</td>\n",
       "    </tr>\n",
       "  </tbody>\n",
       "</table>\n",
       "</div>"
      ],
      "text/plain": [
       "   Astrocyte  Inhibitory  Pericytes  Ambiguous  Endothelial1  Excitatory  \\\n",
       "0          0           1          0          0             1           0   \n",
       "1          0           0          0          0             0           0   \n",
       "2          0           0          0          0             0           0   \n",
       "3          0           0          0          0             0           0   \n",
       "4          0           0          0          0             0           0   \n",
       "\n",
       "   ODImmature1  ODImmature2  Microglia  ODMature2  ODMature1  Endothelial3  \\\n",
       "0            0            0          0          1          1             0   \n",
       "1            0            0          0          1          0             0   \n",
       "2            0            0          0          1          1             0   \n",
       "3            0            0          0          2          0             0   \n",
       "4            0            0          1          0          0             1   \n",
       "\n",
       "   ODMature3  ODMature4  Endothelial2  Ependymal  \n",
       "0          0          0             0          0  \n",
       "1          0          0             0          0  \n",
       "2          0          0             0          0  \n",
       "3          0          0             0          0  \n",
       "4          0          0             0          0  "
      ]
     },
     "execution_count": 5,
     "metadata": {},
     "output_type": "execute_result"
    }
   ],
   "source": [
    "typeCountDf.head()"
   ]
  },
  {
   "cell_type": "code",
   "execution_count": 6,
   "id": "8a37a3de-c289-4e0f-b72e-c241eb0546d1",
   "metadata": {},
   "outputs": [
    {
     "data": {
      "text/html": [
       "<div>\n",
       "<style scoped>\n",
       "    .dataframe tbody tr th:only-of-type {\n",
       "        vertical-align: middle;\n",
       "    }\n",
       "\n",
       "    .dataframe tbody tr th {\n",
       "        vertical-align: top;\n",
       "    }\n",
       "\n",
       "    .dataframe thead th {\n",
       "        text-align: right;\n",
       "    }\n",
       "</style>\n",
       "<table border=\"1\" class=\"dataframe\">\n",
       "  <thead>\n",
       "    <tr style=\"text-align: right;\">\n",
       "      <th></th>\n",
       "      <th>cell_type</th>\n",
       "      <th>marker_gene</th>\n",
       "    </tr>\n",
       "  </thead>\n",
       "  <tbody>\n",
       "    <tr>\n",
       "      <th>0</th>\n",
       "      <td>Astrocyte</td>\n",
       "      <td>Aldh1l1</td>\n",
       "    </tr>\n",
       "    <tr>\n",
       "      <th>1</th>\n",
       "      <td>Astrocyte</td>\n",
       "      <td>Aqp4</td>\n",
       "    </tr>\n",
       "    <tr>\n",
       "      <th>2</th>\n",
       "      <td>Astrocyte</td>\n",
       "      <td>Cxcl14</td>\n",
       "    </tr>\n",
       "    <tr>\n",
       "      <th>3</th>\n",
       "      <td>Astrocyte</td>\n",
       "      <td>Mlc1</td>\n",
       "    </tr>\n",
       "    <tr>\n",
       "      <th>4</th>\n",
       "      <td>Astrocyte</td>\n",
       "      <td>Ttyh2</td>\n",
       "    </tr>\n",
       "  </tbody>\n",
       "</table>\n",
       "</div>"
      ],
      "text/plain": [
       "   cell_type marker_gene\n",
       "0  Astrocyte     Aldh1l1\n",
       "1  Astrocyte        Aqp4\n",
       "2  Astrocyte      Cxcl14\n",
       "3  Astrocyte        Mlc1\n",
       "4  Astrocyte       Ttyh2"
      ]
     },
     "execution_count": 6,
     "metadata": {},
     "output_type": "execute_result"
    }
   ],
   "source": [
    "reference = pd.read_csv(project_location + \"data/merfish/markerGene_for_merfish_data.csv\")\n",
    "\n",
    "reference.drop(columns=['p_value'], inplace=True)\n",
    "# reference.drop(range(148,168))\n",
    "reference.drop(reference.index[reference.cell_type=='EpendymalInhibitory'].tolist(), inplace=True)\n",
    "reference['cell_type'] = reference['cell_type'].astype(str).str.replace(\" \", \"\")\n",
    "reference.head()"
   ]
  },
  {
   "cell_type": "code",
   "execution_count": 7,
   "id": "393cf07e-d271-4398-8081-76b70afff7b5",
   "metadata": {},
   "outputs": [],
   "source": [
    "genes = df_st.columns[:155]\n",
    "markers = reference.groupby('cell_type').agg(list).marker_gene\n",
    "celltypes = reference.cell_type.unique().tolist()\n",
    "expressions = df_st.drop(columns=celltypes)\n",
    "expressions = MinMaxScaler().fit_transform(expressions)\n",
    "counts_st = pd.DataFrame(expressions, columns=genes)\n",
    "cellcount = pd.DataFrame(np.sum(df_st[celltypes], axis=1), columns=['cellcount'])"
   ]
  },
  {
   "cell_type": "code",
   "execution_count": 38,
   "id": "524270ff-3da1-43f3-a291-2bbf3fce0033",
   "metadata": {},
   "outputs": [
    {
     "name": "stdout",
     "output_type": "stream",
     "text": [
      "      cellcount\n",
      "0             4\n",
      "1             1\n",
      "2             2\n",
      "3             2\n",
      "4             2\n",
      "...         ...\n",
      "1244          4\n",
      "1245          1\n",
      "1246          3\n",
      "1247          5\n",
      "1248          1\n",
      "\n",
      "[1249 rows x 1 columns]\n",
      "zero count is cellcount    0\n",
      "dtype: int64\n"
     ]
    },
    {
     "data": {
      "text/plain": [
       "1"
      ]
     },
     "execution_count": 38,
     "metadata": {},
     "output_type": "execute_result"
    }
   ],
   "source": [
    "print(cellcount)\n",
    "zero = (cellcount==0).sum()\n",
    "print('zero count is',zero)\n",
    "len(celltypes)\n"
   ]
  },
  {
   "cell_type": "markdown",
   "id": "8905e07e-3c1a-414d-80a8-60bc62fba36e",
   "metadata": {},
   "source": [
    "## Single-cell data"
   ]
  },
  {
   "cell_type": "code",
   "execution_count": 9,
   "id": "23df6a04-6ad2-4d36-a634-65ee063d69a0",
   "metadata": {},
   "outputs": [],
   "source": [
    "df_sc = pd.read_csv(project_location + \"data/merfish/merfishVisium.csv\")"
   ]
  },
  {
   "cell_type": "code",
   "execution_count": 10,
   "id": "dc4a5656-557c-41c4-b957-be5dc8a86a21",
   "metadata": {},
   "outputs": [
    {
     "data": {
      "text/html": [
       "<div>\n",
       "<style scoped>\n",
       "    .dataframe tbody tr th:only-of-type {\n",
       "        vertical-align: middle;\n",
       "    }\n",
       "\n",
       "    .dataframe tbody tr th {\n",
       "        vertical-align: top;\n",
       "    }\n",
       "\n",
       "    .dataframe thead th {\n",
       "        text-align: right;\n",
       "    }\n",
       "</style>\n",
       "<table border=\"1\" class=\"dataframe\">\n",
       "  <thead>\n",
       "    <tr style=\"text-align: right;\">\n",
       "      <th></th>\n",
       "      <th>Cell_ID</th>\n",
       "      <th>Animal_ID</th>\n",
       "      <th>Animal_sex</th>\n",
       "      <th>Behavior</th>\n",
       "      <th>Bregma</th>\n",
       "      <th>Centroid_X</th>\n",
       "      <th>Centroid_Y</th>\n",
       "      <th>Cell_class</th>\n",
       "      <th>Neuron_cluster_ID</th>\n",
       "    </tr>\n",
       "  </thead>\n",
       "  <tbody>\n",
       "    <tr>\n",
       "      <th>0</th>\n",
       "      <td>1f9a8c19-b089-43d1-b609-7e791dc2c70f</td>\n",
       "      <td>1</td>\n",
       "      <td>Female</td>\n",
       "      <td>Naive</td>\n",
       "      <td>-0.24</td>\n",
       "      <td>-3749.176078</td>\n",
       "      <td>-3749.458442</td>\n",
       "      <td>Astrocyte</td>\n",
       "      <td>NaN</td>\n",
       "    </tr>\n",
       "    <tr>\n",
       "      <th>1</th>\n",
       "      <td>b13e98f4-5c2b-4e96-985e-3e93aedc7221</td>\n",
       "      <td>1</td>\n",
       "      <td>Female</td>\n",
       "      <td>Naive</td>\n",
       "      <td>-0.24</td>\n",
       "      <td>-3746.226210</td>\n",
       "      <td>-3742.259347</td>\n",
       "      <td>Inhibitory</td>\n",
       "      <td>I-1</td>\n",
       "    </tr>\n",
       "    <tr>\n",
       "      <th>2</th>\n",
       "      <td>d06cb29e-10ee-4bbc-b74e-90237999ef4b</td>\n",
       "      <td>1</td>\n",
       "      <td>Female</td>\n",
       "      <td>Naive</td>\n",
       "      <td>-0.24</td>\n",
       "      <td>-3742.897643</td>\n",
       "      <td>-3790.648737</td>\n",
       "      <td>Inhibitory</td>\n",
       "      <td>I-13</td>\n",
       "    </tr>\n",
       "    <tr>\n",
       "      <th>3</th>\n",
       "      <td>12e2a165-57c7-4f37-96dd-23f6574af4ba</td>\n",
       "      <td>1</td>\n",
       "      <td>Female</td>\n",
       "      <td>Naive</td>\n",
       "      <td>-0.24</td>\n",
       "      <td>-3738.423005</td>\n",
       "      <td>-3773.259265</td>\n",
       "      <td>Inhibitory</td>\n",
       "      <td>I-19</td>\n",
       "    </tr>\n",
       "    <tr>\n",
       "      <th>4</th>\n",
       "      <td>14a0f396-b13d-4d45-89a3-86c2047bf3f9</td>\n",
       "      <td>1</td>\n",
       "      <td>Female</td>\n",
       "      <td>Naive</td>\n",
       "      <td>-0.24</td>\n",
       "      <td>-3736.407620</td>\n",
       "      <td>-3895.590306</td>\n",
       "      <td>Pericytes</td>\n",
       "      <td>NaN</td>\n",
       "    </tr>\n",
       "  </tbody>\n",
       "</table>\n",
       "</div>"
      ],
      "text/plain": [
       "                                Cell_ID  Animal_ID Animal_sex Behavior  \\\n",
       "0  1f9a8c19-b089-43d1-b609-7e791dc2c70f          1     Female    Naive   \n",
       "1  b13e98f4-5c2b-4e96-985e-3e93aedc7221          1     Female    Naive   \n",
       "2  d06cb29e-10ee-4bbc-b74e-90237999ef4b          1     Female    Naive   \n",
       "3  12e2a165-57c7-4f37-96dd-23f6574af4ba          1     Female    Naive   \n",
       "4  14a0f396-b13d-4d45-89a3-86c2047bf3f9          1     Female    Naive   \n",
       "\n",
       "   Bregma   Centroid_X   Centroid_Y  Cell_class Neuron_cluster_ID  \n",
       "0   -0.24 -3749.176078 -3749.458442   Astrocyte               NaN  \n",
       "1   -0.24 -3746.226210 -3742.259347  Inhibitory               I-1  \n",
       "2   -0.24 -3742.897643 -3790.648737  Inhibitory              I-13  \n",
       "3   -0.24 -3738.423005 -3773.259265  Inhibitory              I-19  \n",
       "4   -0.24 -3736.407620 -3895.590306   Pericytes               NaN  "
      ]
     },
     "execution_count": 10,
     "metadata": {},
     "output_type": "execute_result"
    }
   ],
   "source": [
    "counts_sc = df_sc[genes]\n",
    "obs_sc = df_sc[[x for x in df_sc.columns if x not in genes]]\n",
    "obs_sc.head()"
   ]
  },
  {
   "cell_type": "code",
   "execution_count": 11,
   "id": "4afa5c3d",
   "metadata": {},
   "outputs": [
    {
     "data": {
      "text/plain": [
       "'Astrocyte'"
      ]
     },
     "execution_count": 11,
     "metadata": {},
     "output_type": "execute_result"
    }
   ],
   "source": [
    "obs_sc.shape\n",
    "obs_sc.loc[0,\"Cell_class\"]"
   ]
  },
  {
   "cell_type": "markdown",
   "id": "d2872087-f05b-4d88-b97d-1f609fa252a3",
   "metadata": {},
   "source": [
    "# Tangram"
   ]
  },
  {
   "cell_type": "code",
   "execution_count": 13,
   "id": "3f449636-4b11-47a4-8543-8dae8f71b4ba",
   "metadata": {},
   "outputs": [
    {
     "name": "stdout",
     "output_type": "stream",
     "text": [
      "(6412, 155)\n",
      "(1249, 155)\n"
     ]
    }
   ],
   "source": [
    "adata_sc = ad.AnnData(counts_sc)\n",
    "adata_st = ad.AnnData(counts_st, obs=cellcount)\n",
    "print(adata_sc.shape)\n",
    "print(adata_st.shape)"
   ]
  },
  {
   "cell_type": "code",
   "execution_count": 14,
   "id": "0de9d4a8-ac4e-4b9e-abbd-7927cb30d35d",
   "metadata": {},
   "outputs": [
    {
     "data": {
      "text/plain": [
       "0"
      ]
     },
     "execution_count": 14,
     "metadata": {},
     "output_type": "execute_result"
    }
   ],
   "source": [
    "adata_st.obs.head()\n",
    "zeroCount=(obs_sc[\"Cell_class\"]==0).sum()\n",
    "zeroCount"
   ]
  },
  {
   "cell_type": "code",
   "execution_count": 15,
   "id": "2d5914a0-ce64-47a0-ac5c-86f09264a6e7",
   "metadata": {},
   "outputs": [
    {
     "name": "stderr",
     "output_type": "stream",
     "text": [
      "INFO:root:155 training genes are saved in `uns``training_genes` of both single cell and spatial Anndatas.\n",
      "INFO:root:155 overlapped genes are saved in `uns``overlap_genes` of both single cell and spatial Anndatas.\n",
      "INFO:root:uniform based density prior is calculated and saved in `obs``uniform_density` of the spatial Anndata.\n",
      "INFO:root:rna count based density prior is calculated and saved in `obs``rna_count_based_density` of the spatial Anndata.\n"
     ]
    }
   ],
   "source": [
    "tg.pp_adatas(adata_sc, adata_st, genes=None)"
   ]
  },
  {
   "cell_type": "code",
   "execution_count": 16,
   "id": "92f12376-0bab-4a09-b307-2ea3d5439aa5",
   "metadata": {},
   "outputs": [
    {
     "name": "stderr",
     "output_type": "stream",
     "text": [
      "INFO:root:Allocate tensors for mapping.\n",
      "INFO:root:Begin training with 155 genes and rna_count_based density_prior in cells mode...\n",
      "INFO:root:Printing scores every 100 epochs.\n"
     ]
    },
    {
     "name": "stdout",
     "output_type": "stream",
     "text": [
      "Score: 0.508, KL reg: 0.151\n",
      "Score: 0.983, KL reg: 0.001\n",
      "Score: 0.988, KL reg: 0.000\n",
      "Score: 0.989, KL reg: 0.000\n",
      "Score: 0.989, KL reg: 0.000\n"
     ]
    },
    {
     "name": "stderr",
     "output_type": "stream",
     "text": [
      "INFO:root:Saving results..\n"
     ]
    }
   ],
   "source": [
    "adata_map_rna = tg.map_cells_to_space(adata_sc, adata_st, device=device, num_epochs=500)"
   ]
  },
  {
   "cell_type": "code",
   "execution_count": 17,
   "id": "41705722-9fb7-41ad-a887-944739034063",
   "metadata": {},
   "outputs": [
    {
     "name": "stdout",
     "output_type": "stream",
     "text": [
      "(6412, 1249)\n"
     ]
    },
    {
     "data": {
      "text/html": [
       "<div>\n",
       "<style scoped>\n",
       "    .dataframe tbody tr th:only-of-type {\n",
       "        vertical-align: middle;\n",
       "    }\n",
       "\n",
       "    .dataframe tbody tr th {\n",
       "        vertical-align: top;\n",
       "    }\n",
       "\n",
       "    .dataframe thead th {\n",
       "        text-align: right;\n",
       "    }\n",
       "</style>\n",
       "<table border=\"1\" class=\"dataframe\">\n",
       "  <thead>\n",
       "    <tr style=\"text-align: right;\">\n",
       "      <th></th>\n",
       "      <th>0</th>\n",
       "      <th>1</th>\n",
       "      <th>2</th>\n",
       "      <th>3</th>\n",
       "      <th>4</th>\n",
       "      <th>5</th>\n",
       "      <th>6</th>\n",
       "      <th>7</th>\n",
       "      <th>8</th>\n",
       "      <th>9</th>\n",
       "      <th>...</th>\n",
       "      <th>1239</th>\n",
       "      <th>1240</th>\n",
       "      <th>1241</th>\n",
       "      <th>1242</th>\n",
       "      <th>1243</th>\n",
       "      <th>1244</th>\n",
       "      <th>1245</th>\n",
       "      <th>1246</th>\n",
       "      <th>1247</th>\n",
       "      <th>1248</th>\n",
       "    </tr>\n",
       "  </thead>\n",
       "  <tbody>\n",
       "    <tr>\n",
       "      <th>0</th>\n",
       "      <td>1.707080e-07</td>\n",
       "      <td>2.103531e-07</td>\n",
       "      <td>7.372856e-08</td>\n",
       "      <td>1.371009e-07</td>\n",
       "      <td>2.014771e-07</td>\n",
       "      <td>1.826401e-07</td>\n",
       "      <td>9.242921e-07</td>\n",
       "      <td>4.070325e-07</td>\n",
       "      <td>2.419328e-07</td>\n",
       "      <td>2.977405e-07</td>\n",
       "      <td>...</td>\n",
       "      <td>2.741928e-07</td>\n",
       "      <td>4.163531e-08</td>\n",
       "      <td>2.479692e-07</td>\n",
       "      <td>2.208269e-07</td>\n",
       "      <td>1.180775e-07</td>\n",
       "      <td>2.109571e-06</td>\n",
       "      <td>6.149136e-08</td>\n",
       "      <td>9.948130e-01</td>\n",
       "      <td>6.350519e-07</td>\n",
       "      <td>2.715033e-07</td>\n",
       "    </tr>\n",
       "    <tr>\n",
       "      <th>1</th>\n",
       "      <td>1.802188e-06</td>\n",
       "      <td>2.231529e-07</td>\n",
       "      <td>7.364775e-08</td>\n",
       "      <td>1.080061e-07</td>\n",
       "      <td>1.494598e-07</td>\n",
       "      <td>1.146498e-06</td>\n",
       "      <td>1.304736e-06</td>\n",
       "      <td>9.847083e-07</td>\n",
       "      <td>3.921332e-07</td>\n",
       "      <td>3.396618e-07</td>\n",
       "      <td>...</td>\n",
       "      <td>6.591522e-07</td>\n",
       "      <td>4.310180e-07</td>\n",
       "      <td>7.451113e-06</td>\n",
       "      <td>7.083023e-07</td>\n",
       "      <td>1.021332e-07</td>\n",
       "      <td>1.465424e-06</td>\n",
       "      <td>2.624172e-07</td>\n",
       "      <td>9.972922e-01</td>\n",
       "      <td>1.690107e-05</td>\n",
       "      <td>6.506538e-07</td>\n",
       "    </tr>\n",
       "    <tr>\n",
       "      <th>2</th>\n",
       "      <td>4.320178e-07</td>\n",
       "      <td>3.747383e-07</td>\n",
       "      <td>2.398177e-07</td>\n",
       "      <td>4.626523e-07</td>\n",
       "      <td>9.606361e-08</td>\n",
       "      <td>7.102860e-07</td>\n",
       "      <td>2.322148e-07</td>\n",
       "      <td>6.701472e-07</td>\n",
       "      <td>2.515991e-06</td>\n",
       "      <td>1.336772e-07</td>\n",
       "      <td>...</td>\n",
       "      <td>3.491747e-07</td>\n",
       "      <td>2.295440e-07</td>\n",
       "      <td>6.784813e-07</td>\n",
       "      <td>3.897242e-07</td>\n",
       "      <td>6.708457e-08</td>\n",
       "      <td>1.174877e-06</td>\n",
       "      <td>1.086150e-07</td>\n",
       "      <td>1.827499e-06</td>\n",
       "      <td>9.980767e-01</td>\n",
       "      <td>4.605094e-07</td>\n",
       "    </tr>\n",
       "    <tr>\n",
       "      <th>3</th>\n",
       "      <td>9.212822e-08</td>\n",
       "      <td>1.180888e-07</td>\n",
       "      <td>5.330325e-08</td>\n",
       "      <td>6.051419e-08</td>\n",
       "      <td>1.193716e-07</td>\n",
       "      <td>1.026518e-06</td>\n",
       "      <td>9.048525e-07</td>\n",
       "      <td>4.639866e-07</td>\n",
       "      <td>2.842980e-07</td>\n",
       "      <td>1.534945e-06</td>\n",
       "      <td>...</td>\n",
       "      <td>2.371367e-07</td>\n",
       "      <td>1.148803e-07</td>\n",
       "      <td>1.060414e-06</td>\n",
       "      <td>2.160421e-07</td>\n",
       "      <td>9.501624e-08</td>\n",
       "      <td>1.089132e-07</td>\n",
       "      <td>1.901491e-07</td>\n",
       "      <td>5.105138e-07</td>\n",
       "      <td>9.976834e-01</td>\n",
       "      <td>4.936709e-07</td>\n",
       "    </tr>\n",
       "    <tr>\n",
       "      <th>4</th>\n",
       "      <td>2.294192e-06</td>\n",
       "      <td>5.447458e-07</td>\n",
       "      <td>1.928733e-06</td>\n",
       "      <td>1.874466e-06</td>\n",
       "      <td>2.245687e-06</td>\n",
       "      <td>3.044599e-06</td>\n",
       "      <td>4.641025e-06</td>\n",
       "      <td>1.027297e-06</td>\n",
       "      <td>1.769798e-05</td>\n",
       "      <td>2.156892e-06</td>\n",
       "      <td>...</td>\n",
       "      <td>3.601441e-06</td>\n",
       "      <td>4.002191e-06</td>\n",
       "      <td>7.402320e-07</td>\n",
       "      <td>4.886939e-06</td>\n",
       "      <td>1.071568e-05</td>\n",
       "      <td>1.303480e-05</td>\n",
       "      <td>8.045084e-06</td>\n",
       "      <td>1.553764e-05</td>\n",
       "      <td>3.681066e-05</td>\n",
       "      <td>1.961922e-06</td>\n",
       "    </tr>\n",
       "  </tbody>\n",
       "</table>\n",
       "<p>5 rows × 1249 columns</p>\n",
       "</div>"
      ],
      "text/plain": [
       "              0             1             2             3             4  \\\n",
       "0  1.707080e-07  2.103531e-07  7.372856e-08  1.371009e-07  2.014771e-07   \n",
       "1  1.802188e-06  2.231529e-07  7.364775e-08  1.080061e-07  1.494598e-07   \n",
       "2  4.320178e-07  3.747383e-07  2.398177e-07  4.626523e-07  9.606361e-08   \n",
       "3  9.212822e-08  1.180888e-07  5.330325e-08  6.051419e-08  1.193716e-07   \n",
       "4  2.294192e-06  5.447458e-07  1.928733e-06  1.874466e-06  2.245687e-06   \n",
       "\n",
       "              5             6             7             8             9  ...  \\\n",
       "0  1.826401e-07  9.242921e-07  4.070325e-07  2.419328e-07  2.977405e-07  ...   \n",
       "1  1.146498e-06  1.304736e-06  9.847083e-07  3.921332e-07  3.396618e-07  ...   \n",
       "2  7.102860e-07  2.322148e-07  6.701472e-07  2.515991e-06  1.336772e-07  ...   \n",
       "3  1.026518e-06  9.048525e-07  4.639866e-07  2.842980e-07  1.534945e-06  ...   \n",
       "4  3.044599e-06  4.641025e-06  1.027297e-06  1.769798e-05  2.156892e-06  ...   \n",
       "\n",
       "           1239          1240          1241          1242          1243  \\\n",
       "0  2.741928e-07  4.163531e-08  2.479692e-07  2.208269e-07  1.180775e-07   \n",
       "1  6.591522e-07  4.310180e-07  7.451113e-06  7.083023e-07  1.021332e-07   \n",
       "2  3.491747e-07  2.295440e-07  6.784813e-07  3.897242e-07  6.708457e-08   \n",
       "3  2.371367e-07  1.148803e-07  1.060414e-06  2.160421e-07  9.501624e-08   \n",
       "4  3.601441e-06  4.002191e-06  7.402320e-07  4.886939e-06  1.071568e-05   \n",
       "\n",
       "           1244          1245          1246          1247          1248  \n",
       "0  2.109571e-06  6.149136e-08  9.948130e-01  6.350519e-07  2.715033e-07  \n",
       "1  1.465424e-06  2.624172e-07  9.972922e-01  1.690107e-05  6.506538e-07  \n",
       "2  1.174877e-06  1.086150e-07  1.827499e-06  9.980767e-01  4.605094e-07  \n",
       "3  1.089132e-07  1.901491e-07  5.105138e-07  9.976834e-01  4.936709e-07  \n",
       "4  1.303480e-05  8.045084e-06  1.553764e-05  3.681066e-05  1.961922e-06  \n",
       "\n",
       "[5 rows x 1249 columns]"
      ]
     },
     "execution_count": 17,
     "metadata": {},
     "output_type": "execute_result"
    }
   ],
   "source": [
    "print(adata_map_rna.to_df().shape)\n",
    "adata_map_rna.to_df().head()"
   ]
  },
  {
   "cell_type": "code",
   "execution_count": 18,
   "id": "d7e49cb0-baa2-4fd4-89f2-2e149c9b2101",
   "metadata": {},
   "outputs": [
    {
     "name": "stderr",
     "output_type": "stream",
     "text": [
      "INFO:root:Allocate tensors for mapping.\n",
      "INFO:root:Begin training with 155 genes and customized density_prior in cells mode...\n",
      "INFO:root:Printing scores every 100 epochs.\n"
     ]
    },
    {
     "name": "stdout",
     "output_type": "stream",
     "text": [
      "Score: 0.508, KL reg: 0.107\n",
      "Score: 0.986, KL reg: 0.000\n",
      "Score: 0.990, KL reg: 0.000\n",
      "Score: 0.991, KL reg: 0.000\n",
      "Score: 0.991, KL reg: 0.000\n"
     ]
    },
    {
     "name": "stderr",
     "output_type": "stream",
     "text": [
      "INFO:root:Saving results..\n"
     ]
    }
   ],
   "source": [
    "adata_map_cellcount = tg.map_cells_to_space(\n",
    "    adata_sc,\n",
    "    adata_st,\n",
    "    target_count=adata_st.obs.cellcount.sum(),\n",
    "    density_prior=np.array(adata_st.obs.cellcount) / adata_st.obs.cellcount.sum(),\n",
    "    device=device,\n",
    "    num_epochs=500\n",
    ")\n",
    "probabilityDf= adata_map_cellcount.to_df()"
   ]
  },
  {
   "cell_type": "code",
   "execution_count": 19,
   "id": "f9c6d70c",
   "metadata": {},
   "outputs": [
    {
     "data": {
      "text/plain": [
       "(6412, 1249)"
      ]
     },
     "execution_count": 19,
     "metadata": {},
     "output_type": "execute_result"
    }
   ],
   "source": [
    "probabilityDf.shape"
   ]
  },
  {
   "cell_type": "markdown",
   "id": "7e4c8d2c",
   "metadata": {},
   "source": [
    "# probability analysis"
   ]
  },
  {
   "cell_type": "code",
   "execution_count": 20,
   "id": "789b580e",
   "metadata": {},
   "outputs": [
    {
     "data": {
      "text/plain": [
       "(1249, 16)"
      ]
     },
     "execution_count": 20,
     "metadata": {},
     "output_type": "execute_result"
    }
   ],
   "source": [
    "np.argmax(probabilityDf.iloc[2])\n",
    "probabilityDf.iloc[2,1247]\n",
    "\n",
    "Nrows= len(df_st)\n",
    "Ncols= len(celltypes)\n",
    "\n",
    "deconvolveDf = pd.DataFrame(np.zeros((Nrows,Ncols)),columns=celltypes)\n",
    "for i in range(len(probabilityDf)):\n",
    "    spotNo = np.argmax(probabilityDf.iloc[i])\n",
    "    cellClass= obs_sc.loc[i,\"Cell_class\"]\n",
    "    deconvolveDf.loc[spotNo,cellClass] = deconvolveDf.loc[spotNo,cellClass] +1\n",
    "\n",
    "\n",
    "deconvolveDf.shape"
   ]
  },
  {
   "cell_type": "code",
   "execution_count": 21,
   "id": "c34c713a",
   "metadata": {},
   "outputs": [
    {
     "data": {
      "text/html": [
       "<div>\n",
       "<style scoped>\n",
       "    .dataframe tbody tr th:only-of-type {\n",
       "        vertical-align: middle;\n",
       "    }\n",
       "\n",
       "    .dataframe tbody tr th {\n",
       "        vertical-align: top;\n",
       "    }\n",
       "\n",
       "    .dataframe thead th {\n",
       "        text-align: right;\n",
       "    }\n",
       "</style>\n",
       "<table border=\"1\" class=\"dataframe\">\n",
       "  <thead>\n",
       "    <tr style=\"text-align: right;\">\n",
       "      <th></th>\n",
       "      <th>Astrocyte</th>\n",
       "      <th>Inhibitory</th>\n",
       "      <th>Pericytes</th>\n",
       "      <th>Ambiguous</th>\n",
       "      <th>Endothelial1</th>\n",
       "      <th>Excitatory</th>\n",
       "      <th>ODImmature1</th>\n",
       "      <th>ODImmature2</th>\n",
       "      <th>Microglia</th>\n",
       "      <th>ODMature2</th>\n",
       "      <th>ODMature1</th>\n",
       "      <th>Endothelial3</th>\n",
       "      <th>ODMature3</th>\n",
       "      <th>ODMature4</th>\n",
       "      <th>Endothelial2</th>\n",
       "      <th>Ependymal</th>\n",
       "    </tr>\n",
       "  </thead>\n",
       "  <tbody>\n",
       "    <tr>\n",
       "      <th>0</th>\n",
       "      <td>0.0</td>\n",
       "      <td>4.0</td>\n",
       "      <td>0.0</td>\n",
       "      <td>1.0</td>\n",
       "      <td>2.0</td>\n",
       "      <td>0.0</td>\n",
       "      <td>0.0</td>\n",
       "      <td>0.0</td>\n",
       "      <td>0.0</td>\n",
       "      <td>2.0</td>\n",
       "      <td>2.0</td>\n",
       "      <td>0.0</td>\n",
       "      <td>0.0</td>\n",
       "      <td>0.0</td>\n",
       "      <td>0.0</td>\n",
       "      <td>0.0</td>\n",
       "    </tr>\n",
       "    <tr>\n",
       "      <th>1</th>\n",
       "      <td>0.0</td>\n",
       "      <td>0.0</td>\n",
       "      <td>0.0</td>\n",
       "      <td>0.0</td>\n",
       "      <td>0.0</td>\n",
       "      <td>0.0</td>\n",
       "      <td>0.0</td>\n",
       "      <td>0.0</td>\n",
       "      <td>0.0</td>\n",
       "      <td>1.0</td>\n",
       "      <td>0.0</td>\n",
       "      <td>0.0</td>\n",
       "      <td>0.0</td>\n",
       "      <td>0.0</td>\n",
       "      <td>0.0</td>\n",
       "      <td>0.0</td>\n",
       "    </tr>\n",
       "    <tr>\n",
       "      <th>2</th>\n",
       "      <td>0.0</td>\n",
       "      <td>0.0</td>\n",
       "      <td>0.0</td>\n",
       "      <td>0.0</td>\n",
       "      <td>0.0</td>\n",
       "      <td>0.0</td>\n",
       "      <td>0.0</td>\n",
       "      <td>0.0</td>\n",
       "      <td>0.0</td>\n",
       "      <td>1.0</td>\n",
       "      <td>1.0</td>\n",
       "      <td>0.0</td>\n",
       "      <td>0.0</td>\n",
       "      <td>0.0</td>\n",
       "      <td>0.0</td>\n",
       "      <td>0.0</td>\n",
       "    </tr>\n",
       "    <tr>\n",
       "      <th>3</th>\n",
       "      <td>0.0</td>\n",
       "      <td>0.0</td>\n",
       "      <td>0.0</td>\n",
       "      <td>1.0</td>\n",
       "      <td>0.0</td>\n",
       "      <td>0.0</td>\n",
       "      <td>0.0</td>\n",
       "      <td>0.0</td>\n",
       "      <td>0.0</td>\n",
       "      <td>2.0</td>\n",
       "      <td>0.0</td>\n",
       "      <td>0.0</td>\n",
       "      <td>0.0</td>\n",
       "      <td>0.0</td>\n",
       "      <td>0.0</td>\n",
       "      <td>0.0</td>\n",
       "    </tr>\n",
       "    <tr>\n",
       "      <th>4</th>\n",
       "      <td>0.0</td>\n",
       "      <td>0.0</td>\n",
       "      <td>0.0</td>\n",
       "      <td>0.0</td>\n",
       "      <td>0.0</td>\n",
       "      <td>0.0</td>\n",
       "      <td>0.0</td>\n",
       "      <td>0.0</td>\n",
       "      <td>1.0</td>\n",
       "      <td>0.0</td>\n",
       "      <td>0.0</td>\n",
       "      <td>1.0</td>\n",
       "      <td>0.0</td>\n",
       "      <td>0.0</td>\n",
       "      <td>0.0</td>\n",
       "      <td>0.0</td>\n",
       "    </tr>\n",
       "  </tbody>\n",
       "</table>\n",
       "</div>"
      ],
      "text/plain": [
       "   Astrocyte  Inhibitory  Pericytes  Ambiguous  Endothelial1  Excitatory  \\\n",
       "0        0.0         4.0        0.0        1.0           2.0         0.0   \n",
       "1        0.0         0.0        0.0        0.0           0.0         0.0   \n",
       "2        0.0         0.0        0.0        0.0           0.0         0.0   \n",
       "3        0.0         0.0        0.0        1.0           0.0         0.0   \n",
       "4        0.0         0.0        0.0        0.0           0.0         0.0   \n",
       "\n",
       "   ODImmature1  ODImmature2  Microglia  ODMature2  ODMature1  Endothelial3  \\\n",
       "0          0.0          0.0        0.0        2.0        2.0           0.0   \n",
       "1          0.0          0.0        0.0        1.0        0.0           0.0   \n",
       "2          0.0          0.0        0.0        1.0        1.0           0.0   \n",
       "3          0.0          0.0        0.0        2.0        0.0           0.0   \n",
       "4          0.0          0.0        1.0        0.0        0.0           1.0   \n",
       "\n",
       "   ODMature3  ODMature4  Endothelial2  Ependymal  \n",
       "0        0.0        0.0           0.0        0.0  \n",
       "1        0.0        0.0           0.0        0.0  \n",
       "2        0.0        0.0           0.0        0.0  \n",
       "3        0.0        0.0           0.0        0.0  \n",
       "4        0.0        0.0           0.0        0.0  "
      ]
     },
     "execution_count": 21,
     "metadata": {},
     "output_type": "execute_result"
    }
   ],
   "source": [
    "deconvolveDf.head()"
   ]
  },
  {
   "cell_type": "code",
   "execution_count": 22,
   "id": "7f6bd001",
   "metadata": {},
   "outputs": [],
   "source": [
    "for i in range(len(deconvolveDf)):\n",
    "    deconvolveDf.iloc[i] = 100* deconvolveDf.iloc[i]/deconvolveDf.iloc[i].sum()\n",
    "\n"
   ]
  },
  {
   "cell_type": "code",
   "execution_count": 23,
   "id": "fbcf15c0",
   "metadata": {},
   "outputs": [
    {
     "name": "stdout",
     "output_type": "stream",
     "text": [
      "   Astrocyte  Inhibitory  Pericytes  Ambiguous  Endothelial1  Excitatory  \\\n",
      "0        0.0   36.363636        0.0   9.090909     18.181818         0.0   \n",
      "1        0.0    0.000000        0.0   0.000000      0.000000         0.0   \n",
      "2        0.0    0.000000        0.0   0.000000      0.000000         0.0   \n",
      "3        0.0    0.000000        0.0  33.333333      0.000000         0.0   \n",
      "4        0.0    0.000000        0.0   0.000000      0.000000         0.0   \n",
      "\n",
      "   ODImmature1  ODImmature2  Microglia   ODMature2  ODMature1  Endothelial3  \\\n",
      "0          0.0          0.0        0.0   18.181818  18.181818           0.0   \n",
      "1          0.0          0.0        0.0  100.000000   0.000000           0.0   \n",
      "2          0.0          0.0        0.0   50.000000  50.000000           0.0   \n",
      "3          0.0          0.0        0.0   66.666667   0.000000           0.0   \n",
      "4          0.0          0.0       50.0    0.000000   0.000000          50.0   \n",
      "\n",
      "   ODMature3  ODMature4  Endothelial2  Ependymal  \n",
      "0        0.0        0.0           0.0        0.0  \n",
      "1        0.0        0.0           0.0        0.0  \n",
      "2        0.0        0.0           0.0        0.0  \n",
      "3        0.0        0.0           0.0        0.0  \n",
      "4        0.0        0.0           0.0        0.0  \n"
     ]
    },
    {
     "data": {
      "text/plain": [
       "Astrocyte       1\n",
       "Inhibitory      1\n",
       "Pericytes       1\n",
       "Ambiguous       1\n",
       "Endothelial1    1\n",
       "Excitatory      1\n",
       "ODImmature1     1\n",
       "ODImmature2     1\n",
       "Microglia       1\n",
       "ODMature2       1\n",
       "ODMature1       1\n",
       "Endothelial3    1\n",
       "ODMature3       1\n",
       "ODMature4       1\n",
       "Endothelial2    1\n",
       "Ependymal       1\n",
       "dtype: int64"
      ]
     },
     "execution_count": 23,
     "metadata": {},
     "output_type": "execute_result"
    }
   ],
   "source": [
    "print(deconvolveDf.head())\n",
    "deconvolveDf.to_csv(\"tangramDeconvolved.csv\",index= False)\n",
    "deconvolveDf.isnull().sum(axis = 0)\n"
   ]
  },
  {
   "cell_type": "code",
   "execution_count": 27,
   "id": "e3b8114c",
   "metadata": {},
   "outputs": [
    {
     "data": {
      "image/png": "[encoded data removed]",
      "text/plain": [
       "<Figure size 432x288 with 1 Axes>"
      ]
     },
     "metadata": {
      "needs_background": "light"
     },
     "output_type": "display_data"
    }
   ],
   "source": [
    "fig, ax = plt.subplots()\n",
    "cellDict={}\n",
    "outputDir=\"./output/merfish/tangram/\"\n",
    "for  c in celltypes:\n",
    "    cellDict[\"count\"]=typeCountDf[c]\n",
    "    cellDict[\"fraction\"]=deconvolveDf[c]\n",
    "    df = pd.DataFrame(cellDict)\n",
    "    sns.boxplot(x='count',y='fraction',data= df,ax=ax)\n",
    "    fileName= outputDir  + c+\".pdf\"\n",
    "    plt.savefig(fileName)\n",
    "\n",
    "\n",
    "\n"
   ]
  },
  {
   "cell_type": "code",
   "execution_count": 37,
   "id": "fef1a5a9",
   "metadata": {},
   "outputs": [
    {
     "name": "stdout",
     "output_type": "stream",
     "text": [
      "[0 1 2 3]\n",
      "[0.0, 0.0, 0.0, 0.0, 0.0, 0.0, 0.0, 0.0, 0.0, 0.0, 0.0, 0.0, 0.0, 0.0, 20.0, 0.0, 0.0, 0.0, 0.0, 0.0, 0.0, 0.0, 0.0, 0.0, 0.0, 0.0, 0.0, 0.0, 0.0, 14.285714285714286, 0.0, 0.0, 0.0, 0.0, 0.0, 0.0, 0.0, 0.0, 0.0, 0.0, 0.0, 0.0, 0.0, 0.0, 0.0, 0.0, 0.0, 0.0, 0.0, 0.0, 0.0, 40.0, 0.0, 0.0, 0.0, 0.0, 0.0, 0.0, 0.0, 0.0, 0.0, 0.0, 0.0, 0.0, 0.0, 0.0, 0.0, 0.0, 0.0, 0.0, 0.0, 0.0, 0.0, 0.0, 15.384615384615385, 0.0, 0.0, 0.0, 0.0, 0.0, 0.0, 0.0, 0.0, 0.0, 0.0, 0.0, 0.0, 0.0, 0.0, 0.0, 0.0, 0.0, 12.5, 0.0, 0.0, 0.0, 0.0, 0.0, 0.0, 0.0, 0.0, 0.0, 8.333333333333334, 0.0, 0.0, 50.0, 0.0, 0.0, 0.0, 0.0, 11.11111111111111, 0.0, 0.0, 0.0, 0.0, 0.0, 0.0, 0.0, 0.0, 0.0, 0.0, 14.285714285714286, 0.0, 0.0, 0.0, 0.0, 0.0, 12.5, 25.0, 0.0, 0.0, 0.0, 0.0, 0.0, 0.0, 0.0, 0.0, 0.0, 0.0, 0.0, 0.0, 0.0, 0.0, 0.0, 0.0, 0.0, 0.0, 0.0, 0.0, 0.0, 0.0, 0.0, 0.0, 0.0, 0.0, 0.0, 0.0, 0.0, 0.0, 0.0, 0.0, 0.0, nan, 0.0, 0.0, 0.0, 0.0, 0.0, 0.0, 0.0, 0.0, 16.666666666666668, 0.0, 0.0, 0.0, 0.0, 0.0, 0.0, 0.0, 0.0, 0.0, 0.0, 0.0, 0.0, 0.0, 0.0, 0.0, 0.0, 0.0, 0.0, 0.0, 0.0, 0.0, 0.0, 0.0, 0.0, 0.0, 0.0, 7.6923076923076925, 0.0, 0.0, 0.0, 0.0, 0.0, 0.0, 0.0, 0.0, 0.0, 0.0, 0.0, 0.0, 0.0, 0.0, 0.0, 0.0, 0.0, 0.0, 0.0, 0.0, 0.0, 0.0, 0.0, 0.0, 0.0, 0.0, 25.0, 0.0, 0.0, 0.0, 0.0, 0.0, 0.0, 0.0, 0.0, 0.0, 0.0, 0.0, 0.0, 0.0, 0.0, 0.0, 0.0, 0.0, 0.0, 0.0, 16.666666666666668, 0.0, 0.0, 0.0, 0.0, 0.0, 0.0, 0.0, 0.0, 0.0, 0.0, 0.0, 0.0, 0.0, 0.0, 0.0, 0.0, 0.0, 0.0, 0.0, 0.0, 0.0, 0.0, 6.666666666666667, 0.0, 0.0, 0.0, 6.25, 0.0, 0.0, 0.0, 0.0, 0.0, 0.0, 0.0, 0.0, 20.0, 0.0, 0.0, 0.0, 0.0, 0.0, 0.0, 0.0, 0.0, 0.0, 0.0, 0.0, 25.0, 0.0, 0.0, 0.0, 0.0, 0.0, 0.0, 0.0, 0.0, 0.0, 0.0, 0.0, 0.0, 0.0, 0.0, 0.0, 0.0, 5.555555555555555, 0.0, 0.0, 0.0, 0.0, 0.0, 0.0, 0.0, 0.0, 0.0, 0.0, 0.0, 0.0, 0.0, 0.0, 0.0, 0.0, 0.0, 9.090909090909092, 0.0, 0.0, 0.0, 0.0, 0.0, 0.0, 0.0, 0.0, 0.0, 0.0, 0.0, 0.0, 0.0, 0.0, 0.0, 0.0, 7.6923076923076925, 0.0, 0.0, 0.0, 14.285714285714286, 0.0, 0.0, 0.0, 0.0, 0.0, 0.0, 0.0, 0.0, 14.285714285714286, 0.0, 0.0, 0.0, 0.0, 16.666666666666668, 0.0, 0.0, 10.0, 0.0, 0.0, 0.0, 0.0, 0.0, 0.0, 0.0, 0.0, 9.090909090909092, 0.0, 0.0, 0.0, 0.0, 0.0, 0.0, 0.0, 0.0, 0.0, 0.0, 0.0, 0.0, 0.0, 0.0, 0.0, 0.0, 0.0, 0.0, 0.0, 0.0, 0.0, 0.0, 0.0, 0.0, 0.0, 0.0, 0.0, 0.0, 0.0, 0.0, 0.0, 0.0, 0.0, 0.0, 0.0, 0.0, 0.0, 0.0, 0.0, 0.0, 0.0, 0.0, 0.0, 0.0, 0.0, 0.0, 25.0, 0.0, 0.0, 0.0, 0.0, 0.0, 0.0, 0.0, 0.0, 0.0, 0.0, 0.0, 0.0, 0.0, 20.0, 0.0, 11.11111111111111, 0.0, 0.0, 0.0, 11.764705882352942, 5.555555555555555, 0.0, 22.22222222222222, 0.0, 0.0, 0.0, 10.0, 0.0, 0.0, 0.0, 0.0, 4.3478260869565215, 33.333333333333336, 0.0, 0.0, 0.0, 0.0, 0.0, 0.0, 8.333333333333334, 7.6923076923076925, 0.0, 0.0, 0.0, 0.0, 0.0, 6.25, 0.0, 10.0, 14.285714285714286, 0.0, 0.0, 10.0, 0.0, 0.0, 0.0, 0.0, 0.0, 0.0, 0.0, 0.0, 0.0, 0.0, 0.0, 0.0, 25.0, 0.0, 0.0, 0.0, 0.0, 0.0, 0.0, 0.0, 0.0, 0.0, 0.0, 0.0, 12.5, 0.0, 0.0, 0.0, 0.0, 0.0, 0.0, 0.0, 0.0, 0.0, 0.0, 0.0, 0.0, 0.0, 0.0, 0.0, 0.0, 0.0, 0.0, 0.0, 0.0, 0.0, 0.0, 0.0, 0.0, 0.0, 11.11111111111111, 16.666666666666668, 0.0, 0.0, 0.0, 0.0, 0.0, 0.0, 0.0, 0.0, 25.0, 0.0, 10.0, 0.0, 0.0, 0.0, 0.0, 0.0, 0.0, 0.0, 0.0, 0.0, 0.0, 0.0, 0.0, 0.0, 0.0, 0.0, 0.0, 8.333333333333334, 16.666666666666668, 0.0, 0.0, 0.0, 0.0, 0.0, 0.0, 0.0, 5.555555555555555, 0.0, 9.090909090909092, 0.0, 0.0, 12.5, 0.0, 28.571428571428573, 0.0, 0.0, 0.0, 6.25, 0.0, 0.0, 0.0, 0.0, 0.0, 0.0, 11.11111111111111, 0.0, 0.0, 0.0, 14.285714285714286, 0.0, 0.0, 0.0, 0.0, 0.0, 0.0, 14.285714285714286, 0.0, 0.0, 0.0, 0.0, 0.0, 0.0, 0.0, 0.0, 0.0, 0.0, 0.0, 0.0, 0.0, 0.0, 0.0, 0.0, 0.0, 0.0, 0.0, 0.0, 0.0, 0.0, 0.0, 0.0, 0.0, 0.0, 0.0, 0.0, 0.0, 0.0, 0.0, 0.0, 0.0, 0.0, 0.0, 0.0, 0.0, 0.0, 0.0, 0.0, 0.0, 0.0, 0.0, 16.666666666666668, 0.0, 0.0, 0.0, 0.0, 0.0, 0.0, 0.0, 0.0, 0.0, 0.0, 0.0, 0.0, 0.0, 0.0, 0.0, 0.0, 0.0, 0.0, 0.0, 0.0, 0.0, 0.0, 0.0, 0.0, 0.0, 0.0, 0.0, 0.0, 0.0, 0.0, 0.0, 0.0, 25.0, 0.0, 0.0, 0.0, 0.0, 0.0, 0.0, 0.0, 0.0, 0.0, 0.0, 0.0, 0.0, 0.0, 0.0, 0.0, 0.0, 0.0, 0.0, 0.0, 0.0, 0.0, 25.0, 0.0, 0.0, 0.0, 0.0, 0.0, 0.0, 0.0, 0.0, 0.0, 0.0, 0.0, 0.0, 0.0, 0.0, 0.0, 0.0, 0.0, 0.0, 0.0, 0.0, 0.0, 0.0, 0.0, 0.0, 0.0, 0.0, 0.0, 0.0, 0.0, 0.0, 0.0, 20.0, 0.0, 0.0, 0.0, 0.0, 0.0, 0.0, 0.0, 0.0, 0.0, 0.0, 0.0, 0.0, 0.0, 0.0, 0.0, 0.0, 0.0, 0.0, 0.0, 0.0, 0.0, 0.0, 0.0, 11.11111111111111, 0.0, 0.0, 0.0, 0.0, 0.0, 0.0, 14.285714285714286, 0.0, 0.0, 0.0, 0.0, 0.0, 0.0, 0.0, 0.0, 0.0, 0.0, 0.0, 0.0, 0.0, 0.0, 0.0, 0.0, 0.0, 0.0, 0.0, 0.0, 0.0, 0.0, 0.0, 0.0, 0.0, 0.0, 0.0, 0.0, 0.0, 0.0, 0.0, 0.0, 0.0, 0.0, 0.0, 0.0, 0.0, 0.0, 0.0, 0.0, 20.0, 0.0, 0.0, 0.0, 0.0, 0.0, 0.0, 0.0, 0.0, 14.285714285714286, 0.0, 0.0, 0.0, 0.0, 0.0, 0.0, 0.0, 0.0, 0.0, 0.0, 0.0, 0.0, 0.0, 0.0, 0.0, 8.333333333333334, 0.0, 0.0, 0.0, 0.0, 0.0, 0.0, 16.666666666666668, 0.0, 0.0, 0.0, 0.0, 8.333333333333334, 0.0, 25.0, 0.0, 0.0, 0.0, 0.0, 0.0, 0.0, 0.0, 0.0, 0.0, 0.0, 0.0, 0.0, 0.0, 0.0, 11.11111111111111, 10.0, 8.333333333333334, 0.0, 0.0, 0.0, 0.0, 0.0, 0.0, 0.0, 0.0, 0.0, 0.0, 0.0, 0.0, 0.0, 0.0, 8.333333333333334, 0.0, 20.0, 0.0, 0.0, 11.11111111111111, 0.0, 0.0, 11.11111111111111, 0.0, 0.0, 0.0, 0.0, 0.0, 0.0, 0.0, 0.0, 0.0, 0.0, 0.0, 0.0, 12.5, 0.0, 0.0, 0.0, 0.0, 0.0, 0.0, 0.0, 0.0, 0.0, 0.0, 0.0, 0.0, 0.0, 0.0, 0.0, 0.0, 0.0, 0.0, 0.0, 0.0, 0.0, 0.0, 0.0, 0.0, 0.0]\n"
     ]
    },
    {
     "data": {
      "image/png": "[encoded data removed]",
      "text/plain": [
       "<Figure size 432x288 with 1 Axes>"
      ]
     },
     "metadata": {
      "needs_background": "light"
     },
     "output_type": "display_data"
    }
   ],
   "source": [
    "celltypes= [\"Astrocyte\"]\n",
    "cellDict={}\n",
    "for  c in celltypes:\n",
    "    uniqueCounts= typeCountDf[c].unique()\n",
    "    print(uniqueCounts)\n",
    "    for val in uniqueCounts:\n",
    "        cellDict[val]=[deconvolveDf.iloc[Index][c] for Index  in range(len(deconvolveDf))  if typeCountDf.iloc[Index][c]==val ]\n",
    "    print(cellDict[0])\n",
    "\n",
    "    fig, ax = plt.subplots()\n",
    "    ax.boxplot(cellDict.values())\n",
    "    ax.set_xticklabels(cellDict.keys())\n",
    "\n",
    "    typeCountCol=type\n",
    "    scatterDf=pd.Dataframe(cellDict)    \n",
    "\n"
   ]
  }
 ],
 "metadata": {
  "kernelspec": {
   "display_name": "Python 3 (ipykernel)",
   "language": "python",
   "name": "python3"
  },
  "language_info": {
   "codemirror_mode": {
    "name": "ipython",
    "version": 3
   },
   "file_extension": ".py",
   "mimetype": "text/x-python",
   "name": "python",
   "nbconvert_exporter": "python",
   "pygments_lexer": "ipython3",
   "version": "3.8.10"
  }
 },
 "nbformat": 4,
 "nbformat_minor": 5
}
