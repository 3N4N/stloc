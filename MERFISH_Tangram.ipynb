{
 "cells": [
  {
   "cell_type": "markdown",
   "id": "1039e8e8-b2ce-4947-a78d-314b13f994e4",
   "metadata": {},
   "source": [
    "# Import libs"
   ]
  },
  {
   "cell_type": "code",
   "execution_count": 105,
   "id": "47e9908a-c33d-4596-a177-bfa06f720e23",
   "metadata": {},
   "outputs": [
    {
     "name": "stdout",
     "output_type": "stream",
     "text": [
      "The autoreload extension is already loaded. To reload it, use:\n",
      "  %reload_ext autoreload\n"
     ]
    }
   ],
   "source": [
    "import numpy as np\n",
    "import pandas as pd\n",
    "import matplotlib.backends.backend_pdf\n",
    "\n",
    "\n",
    "from sklearn.preprocessing import MinMaxScaler\n",
    "\n",
    "import scanpy as sc\n",
    "import anndata as ad\n",
    "import tangram as tg\n",
    "import matplotlib.pyplot as plt\n",
    "import seaborn as sns\n",
    "\n",
    "np.random.seed(10)\n",
    "\n",
    "\n",
    "%load_ext autoreload\n",
    "%autoreload 2\n",
    "%matplotlib inline"
   ]
  },
  {
   "cell_type": "code",
   "execution_count": 106,
   "id": "61b1c087-c701-4234-81cc-96e5c401566f",
   "metadata": {},
   "outputs": [],
   "source": [
    "import torch\n",
    "torch.cuda.empty_cache()\n",
    "device = torch.device(\"cpu\")"
   ]
  },
  {
   "cell_type": "code",
   "execution_count": 107,
   "id": "6a5b25dd-03b0-40bc-9010-d2f65c9063ba",
   "metadata": {},
   "outputs": [],
   "source": [
    "# project_location = \"e:/projects/stloc/\"\n",
    "project_location = \"./\""
   ]
  },
  {
   "cell_type": "markdown",
   "id": "0d60b61d-3d25-4f1a-97cd-4e0855f5eb6e",
   "metadata": {},
   "source": [
    "# Load data"
   ]
  },
  {
   "cell_type": "markdown",
   "id": "5acc4bcb-5428-4a06-98cf-ddaab40fbe64",
   "metadata": {},
   "source": [
    "## Spatial data"
   ]
  },
  {
   "cell_type": "code",
   "execution_count": 108,
   "id": "3946a17b-2db2-406a-9eca-f3be04ac8421",
   "metadata": {},
   "outputs": [
    {
     "data": {
      "text/html": [
       "<div>\n",
       "<style scoped>\n",
       "    .dataframe tbody tr th:only-of-type {\n",
       "        vertical-align: middle;\n",
       "    }\n",
       "\n",
       "    .dataframe tbody tr th {\n",
       "        vertical-align: top;\n",
       "    }\n",
       "\n",
       "    .dataframe thead th {\n",
       "        text-align: right;\n",
       "    }\n",
       "</style>\n",
       "<table border=\"1\" class=\"dataframe\">\n",
       "  <thead>\n",
       "    <tr style=\"text-align: right;\">\n",
       "      <th></th>\n",
       "      <th>Ace2</th>\n",
       "      <th>Adora2a</th>\n",
       "      <th>Aldh1l1</th>\n",
       "      <th>Amigo2</th>\n",
       "      <th>Ano3</th>\n",
       "      <th>Aqp4</th>\n",
       "      <th>Ar</th>\n",
       "      <th>Arhgap36</th>\n",
       "      <th>Avpr1a</th>\n",
       "      <th>Avpr2</th>\n",
       "      <th>...</th>\n",
       "      <th>ODImmature1</th>\n",
       "      <th>ODImmature2</th>\n",
       "      <th>Microglia</th>\n",
       "      <th>ODMature2</th>\n",
       "      <th>ODMature1</th>\n",
       "      <th>Endothelial3</th>\n",
       "      <th>ODMature3</th>\n",
       "      <th>ODMature4</th>\n",
       "      <th>Endothelial2</th>\n",
       "      <th>Ependymal</th>\n",
       "    </tr>\n",
       "  </thead>\n",
       "  <tbody>\n",
       "    <tr>\n",
       "      <th>0</th>\n",
       "      <td>0.000000</td>\n",
       "      <td>0.000000</td>\n",
       "      <td>7.297361</td>\n",
       "      <td>0.000000</td>\n",
       "      <td>0.000000</td>\n",
       "      <td>8.209372</td>\n",
       "      <td>0.000000</td>\n",
       "      <td>0.912141</td>\n",
       "      <td>0.000000</td>\n",
       "      <td>0.000000</td>\n",
       "      <td>...</td>\n",
       "      <td>0</td>\n",
       "      <td>0</td>\n",
       "      <td>0</td>\n",
       "      <td>1</td>\n",
       "      <td>0</td>\n",
       "      <td>0</td>\n",
       "      <td>0</td>\n",
       "      <td>0</td>\n",
       "      <td>0</td>\n",
       "      <td>0</td>\n",
       "    </tr>\n",
       "    <tr>\n",
       "      <th>1</th>\n",
       "      <td>0.000000</td>\n",
       "      <td>0.000000</td>\n",
       "      <td>12.356107</td>\n",
       "      <td>14.387232</td>\n",
       "      <td>1.947237</td>\n",
       "      <td>48.028312</td>\n",
       "      <td>8.152290</td>\n",
       "      <td>17.650087</td>\n",
       "      <td>1.559171</td>\n",
       "      <td>0.388066</td>\n",
       "      <td>...</td>\n",
       "      <td>1</td>\n",
       "      <td>0</td>\n",
       "      <td>0</td>\n",
       "      <td>5</td>\n",
       "      <td>0</td>\n",
       "      <td>0</td>\n",
       "      <td>0</td>\n",
       "      <td>0</td>\n",
       "      <td>0</td>\n",
       "      <td>0</td>\n",
       "    </tr>\n",
       "    <tr>\n",
       "      <th>2</th>\n",
       "      <td>0.000000</td>\n",
       "      <td>0.000000</td>\n",
       "      <td>1.266888</td>\n",
       "      <td>2.486004</td>\n",
       "      <td>1.219116</td>\n",
       "      <td>4.845359</td>\n",
       "      <td>2.533784</td>\n",
       "      <td>1.573353</td>\n",
       "      <td>0.427118</td>\n",
       "      <td>2.650253</td>\n",
       "      <td>...</td>\n",
       "      <td>1</td>\n",
       "      <td>0</td>\n",
       "      <td>0</td>\n",
       "      <td>6</td>\n",
       "      <td>1</td>\n",
       "      <td>0</td>\n",
       "      <td>0</td>\n",
       "      <td>0</td>\n",
       "      <td>0</td>\n",
       "      <td>0</td>\n",
       "    </tr>\n",
       "    <tr>\n",
       "      <th>3</th>\n",
       "      <td>6.311896</td>\n",
       "      <td>9.177481</td>\n",
       "      <td>24.853501</td>\n",
       "      <td>20.157140</td>\n",
       "      <td>2.040983</td>\n",
       "      <td>16.319888</td>\n",
       "      <td>6.722705</td>\n",
       "      <td>4.156006</td>\n",
       "      <td>0.000000</td>\n",
       "      <td>1.400860</td>\n",
       "      <td>...</td>\n",
       "      <td>0</td>\n",
       "      <td>0</td>\n",
       "      <td>1</td>\n",
       "      <td>2</td>\n",
       "      <td>1</td>\n",
       "      <td>1</td>\n",
       "      <td>0</td>\n",
       "      <td>0</td>\n",
       "      <td>0</td>\n",
       "      <td>0</td>\n",
       "    </tr>\n",
       "    <tr>\n",
       "      <th>4</th>\n",
       "      <td>6.548440</td>\n",
       "      <td>4.512264</td>\n",
       "      <td>28.471008</td>\n",
       "      <td>73.614627</td>\n",
       "      <td>9.291271</td>\n",
       "      <td>34.175079</td>\n",
       "      <td>24.652650</td>\n",
       "      <td>25.305026</td>\n",
       "      <td>0.532110</td>\n",
       "      <td>0.665022</td>\n",
       "      <td>...</td>\n",
       "      <td>0</td>\n",
       "      <td>0</td>\n",
       "      <td>0</td>\n",
       "      <td>0</td>\n",
       "      <td>0</td>\n",
       "      <td>1</td>\n",
       "      <td>0</td>\n",
       "      <td>0</td>\n",
       "      <td>0</td>\n",
       "      <td>0</td>\n",
       "    </tr>\n",
       "  </tbody>\n",
       "</table>\n",
       "<p>5 rows × 171 columns</p>\n",
       "</div>"
      ],
      "text/plain": [
       "       Ace2   Adora2a    Aldh1l1     Amigo2      Ano3       Aqp4         Ar  \\\n",
       "0  0.000000  0.000000   7.297361   0.000000  0.000000   8.209372   0.000000   \n",
       "1  0.000000  0.000000  12.356107  14.387232  1.947237  48.028312   8.152290   \n",
       "2  0.000000  0.000000   1.266888   2.486004  1.219116   4.845359   2.533784   \n",
       "3  6.311896  9.177481  24.853501  20.157140  2.040983  16.319888   6.722705   \n",
       "4  6.548440  4.512264  28.471008  73.614627  9.291271  34.175079  24.652650   \n",
       "\n",
       "    Arhgap36    Avpr1a     Avpr2  ...  ODImmature1  ODImmature2  Microglia  \\\n",
       "0   0.912141  0.000000  0.000000  ...            0            0          0   \n",
       "1  17.650087  1.559171  0.388066  ...            1            0          0   \n",
       "2   1.573353  0.427118  2.650253  ...            1            0          0   \n",
       "3   4.156006  0.000000  1.400860  ...            0            0          1   \n",
       "4  25.305026  0.532110  0.665022  ...            0            0          0   \n",
       "\n",
       "   ODMature2  ODMature1  Endothelial3  ODMature3  ODMature4  Endothelial2  \\\n",
       "0          1          0             0          0          0             0   \n",
       "1          5          0             0          0          0             0   \n",
       "2          6          1             0          0          0             0   \n",
       "3          2          1             1          0          0             0   \n",
       "4          0          0             1          0          0             0   \n",
       "\n",
       "   Ependymal  \n",
       "0          0  \n",
       "1          0  \n",
       "2          0  \n",
       "3          0  \n",
       "4          0  \n",
       "\n",
       "[5 rows x 171 columns]"
      ]
     },
     "execution_count": 108,
     "metadata": {},
     "output_type": "execute_result"
    }
   ],
   "source": [
    "df_st = pd.read_csv(project_location + \"data/merfish/merfishSpatial.csv\", sep=\" \")\n",
    "coords = df_st['coord']\n",
    "df_st.drop(columns=['coord'], inplace=True)\n",
    "cellTypeCount =16\n",
    "typeCountDf=  df_st.iloc[:,-cellTypeCount:]\n",
    "# df_st = df_st.iloc[: , :-cellTypeCount]\n",
    "df_st.head()\n"
   ]
  },
  {
   "cell_type": "code",
   "execution_count": 109,
   "id": "417f1300",
   "metadata": {},
   "outputs": [
    {
     "data": {
      "text/html": [
       "<div>\n",
       "<style scoped>\n",
       "    .dataframe tbody tr th:only-of-type {\n",
       "        vertical-align: middle;\n",
       "    }\n",
       "\n",
       "    .dataframe tbody tr th {\n",
       "        vertical-align: top;\n",
       "    }\n",
       "\n",
       "    .dataframe thead th {\n",
       "        text-align: right;\n",
       "    }\n",
       "</style>\n",
       "<table border=\"1\" class=\"dataframe\">\n",
       "  <thead>\n",
       "    <tr style=\"text-align: right;\">\n",
       "      <th></th>\n",
       "      <th>Astrocyte</th>\n",
       "      <th>Inhibitory</th>\n",
       "      <th>Pericytes</th>\n",
       "      <th>Ambiguous</th>\n",
       "      <th>Endothelial1</th>\n",
       "      <th>Excitatory</th>\n",
       "      <th>ODImmature1</th>\n",
       "      <th>ODImmature2</th>\n",
       "      <th>Microglia</th>\n",
       "      <th>ODMature2</th>\n",
       "      <th>ODMature1</th>\n",
       "      <th>Endothelial3</th>\n",
       "      <th>ODMature3</th>\n",
       "      <th>ODMature4</th>\n",
       "      <th>Endothelial2</th>\n",
       "      <th>Ependymal</th>\n",
       "    </tr>\n",
       "  </thead>\n",
       "  <tbody>\n",
       "    <tr>\n",
       "      <th>0</th>\n",
       "      <td>0</td>\n",
       "      <td>0</td>\n",
       "      <td>0</td>\n",
       "      <td>0</td>\n",
       "      <td>0</td>\n",
       "      <td>0</td>\n",
       "      <td>0</td>\n",
       "      <td>0</td>\n",
       "      <td>0</td>\n",
       "      <td>1</td>\n",
       "      <td>0</td>\n",
       "      <td>0</td>\n",
       "      <td>0</td>\n",
       "      <td>0</td>\n",
       "      <td>0</td>\n",
       "      <td>0</td>\n",
       "    </tr>\n",
       "    <tr>\n",
       "      <th>1</th>\n",
       "      <td>1</td>\n",
       "      <td>2</td>\n",
       "      <td>0</td>\n",
       "      <td>3</td>\n",
       "      <td>0</td>\n",
       "      <td>0</td>\n",
       "      <td>1</td>\n",
       "      <td>0</td>\n",
       "      <td>0</td>\n",
       "      <td>5</td>\n",
       "      <td>0</td>\n",
       "      <td>0</td>\n",
       "      <td>0</td>\n",
       "      <td>0</td>\n",
       "      <td>0</td>\n",
       "      <td>0</td>\n",
       "    </tr>\n",
       "    <tr>\n",
       "      <th>2</th>\n",
       "      <td>0</td>\n",
       "      <td>0</td>\n",
       "      <td>0</td>\n",
       "      <td>1</td>\n",
       "      <td>0</td>\n",
       "      <td>0</td>\n",
       "      <td>1</td>\n",
       "      <td>0</td>\n",
       "      <td>0</td>\n",
       "      <td>6</td>\n",
       "      <td>1</td>\n",
       "      <td>0</td>\n",
       "      <td>0</td>\n",
       "      <td>0</td>\n",
       "      <td>0</td>\n",
       "      <td>0</td>\n",
       "    </tr>\n",
       "    <tr>\n",
       "      <th>3</th>\n",
       "      <td>1</td>\n",
       "      <td>1</td>\n",
       "      <td>0</td>\n",
       "      <td>0</td>\n",
       "      <td>1</td>\n",
       "      <td>1</td>\n",
       "      <td>0</td>\n",
       "      <td>0</td>\n",
       "      <td>1</td>\n",
       "      <td>2</td>\n",
       "      <td>1</td>\n",
       "      <td>1</td>\n",
       "      <td>0</td>\n",
       "      <td>0</td>\n",
       "      <td>0</td>\n",
       "      <td>0</td>\n",
       "    </tr>\n",
       "    <tr>\n",
       "      <th>4</th>\n",
       "      <td>2</td>\n",
       "      <td>4</td>\n",
       "      <td>0</td>\n",
       "      <td>0</td>\n",
       "      <td>1</td>\n",
       "      <td>2</td>\n",
       "      <td>0</td>\n",
       "      <td>0</td>\n",
       "      <td>0</td>\n",
       "      <td>0</td>\n",
       "      <td>0</td>\n",
       "      <td>1</td>\n",
       "      <td>0</td>\n",
       "      <td>0</td>\n",
       "      <td>0</td>\n",
       "      <td>0</td>\n",
       "    </tr>\n",
       "  </tbody>\n",
       "</table>\n",
       "</div>"
      ],
      "text/plain": [
       "   Astrocyte  Inhibitory  Pericytes  Ambiguous  Endothelial1  Excitatory  \\\n",
       "0          0           0          0          0             0           0   \n",
       "1          1           2          0          3             0           0   \n",
       "2          0           0          0          1             0           0   \n",
       "3          1           1          0          0             1           1   \n",
       "4          2           4          0          0             1           2   \n",
       "\n",
       "   ODImmature1  ODImmature2  Microglia  ODMature2  ODMature1  Endothelial3  \\\n",
       "0            0            0          0          1          0             0   \n",
       "1            1            0          0          5          0             0   \n",
       "2            1            0          0          6          1             0   \n",
       "3            0            0          1          2          1             1   \n",
       "4            0            0          0          0          0             1   \n",
       "\n",
       "   ODMature3  ODMature4  Endothelial2  Ependymal  \n",
       "0          0          0             0          0  \n",
       "1          0          0             0          0  \n",
       "2          0          0             0          0  \n",
       "3          0          0             0          0  \n",
       "4          0          0             0          0  "
      ]
     },
     "execution_count": 109,
     "metadata": {},
     "output_type": "execute_result"
    }
   ],
   "source": [
    "typeCountDf.head()"
   ]
  },
  {
   "cell_type": "code",
   "execution_count": 110,
   "id": "8a37a3de-c289-4e0f-b72e-c241eb0546d1",
   "metadata": {},
   "outputs": [
    {
     "data": {
      "text/html": [
       "<div>\n",
       "<style scoped>\n",
       "    .dataframe tbody tr th:only-of-type {\n",
       "        vertical-align: middle;\n",
       "    }\n",
       "\n",
       "    .dataframe tbody tr th {\n",
       "        vertical-align: top;\n",
       "    }\n",
       "\n",
       "    .dataframe thead th {\n",
       "        text-align: right;\n",
       "    }\n",
       "</style>\n",
       "<table border=\"1\" class=\"dataframe\">\n",
       "  <thead>\n",
       "    <tr style=\"text-align: right;\">\n",
       "      <th></th>\n",
       "      <th>cell_type</th>\n",
       "      <th>marker_gene</th>\n",
       "    </tr>\n",
       "  </thead>\n",
       "  <tbody>\n",
       "    <tr>\n",
       "      <th>0</th>\n",
       "      <td>Astrocyte</td>\n",
       "      <td>Aldh1l1</td>\n",
       "    </tr>\n",
       "    <tr>\n",
       "      <th>1</th>\n",
       "      <td>Astrocyte</td>\n",
       "      <td>Aqp4</td>\n",
       "    </tr>\n",
       "    <tr>\n",
       "      <th>2</th>\n",
       "      <td>Astrocyte</td>\n",
       "      <td>Cxcl14</td>\n",
       "    </tr>\n",
       "    <tr>\n",
       "      <th>3</th>\n",
       "      <td>Astrocyte</td>\n",
       "      <td>Mlc1</td>\n",
       "    </tr>\n",
       "    <tr>\n",
       "      <th>4</th>\n",
       "      <td>Astrocyte</td>\n",
       "      <td>Ttyh2</td>\n",
       "    </tr>\n",
       "  </tbody>\n",
       "</table>\n",
       "</div>"
      ],
      "text/plain": [
       "   cell_type marker_gene\n",
       "0  Astrocyte     Aldh1l1\n",
       "1  Astrocyte        Aqp4\n",
       "2  Astrocyte      Cxcl14\n",
       "3  Astrocyte        Mlc1\n",
       "4  Astrocyte       Ttyh2"
      ]
     },
     "execution_count": 110,
     "metadata": {},
     "output_type": "execute_result"
    }
   ],
   "source": [
    "reference = pd.read_csv(project_location + \"data/merfish/markerGene_for_merfish_data.csv\")\n",
    "\n",
    "reference.drop(columns=['p_value'], inplace=True)\n",
    "# reference.drop(range(148,168))\n",
    "reference.drop(reference.index[reference.cell_type=='EpendymalInhibitory'].tolist(), inplace=True)\n",
    "reference['cell_type'] = reference['cell_type'].astype(str).str.replace(\" \", \"\")\n",
    "reference.head()"
   ]
  },
  {
   "cell_type": "code",
   "execution_count": 111,
   "id": "393cf07e-d271-4398-8081-76b70afff7b5",
   "metadata": {},
   "outputs": [],
   "source": [
    "genes = df_st.columns[:155]\n",
    "markers = reference.groupby('cell_type').agg(list).marker_gene\n",
    "celltypes = reference.cell_type.unique().tolist()\n",
    "expressions = df_st.drop(columns=celltypes)\n",
    "expressions = MinMaxScaler().fit_transform(expressions)\n",
    "counts_st = pd.DataFrame(expressions, columns=genes)\n",
    "cellcount = pd.DataFrame(np.sum(df_st[celltypes], axis=1), columns=['cellcount'])"
   ]
  },
  {
   "cell_type": "code",
   "execution_count": 112,
   "id": "524270ff-3da1-43f3-a291-2bbf3fce0033",
   "metadata": {},
   "outputs": [
    {
     "name": "stdout",
     "output_type": "stream",
     "text": [
      "     cellcount\n",
      "0            1\n",
      "1           12\n",
      "2            9\n",
      "3            9\n",
      "4           10\n",
      "..         ...\n",
      "317          8\n",
      "318         14\n",
      "319          7\n",
      "320         10\n",
      "321          7\n",
      "\n",
      "[322 rows x 1 columns]\n",
      "zero count is cellcount    0\n",
      "dtype: int64\n"
     ]
    },
    {
     "data": {
      "text/plain": [
       "16"
      ]
     },
     "execution_count": 112,
     "metadata": {},
     "output_type": "execute_result"
    }
   ],
   "source": [
    "print(cellcount)\n",
    "zero = (cellcount==0).sum()\n",
    "print('zero count is',zero)\n",
    "len(celltypes)\n"
   ]
  },
  {
   "cell_type": "markdown",
   "id": "8905e07e-3c1a-414d-80a8-60bc62fba36e",
   "metadata": {},
   "source": [
    "## Single-cell data"
   ]
  },
  {
   "cell_type": "code",
   "execution_count": 113,
   "id": "23df6a04-6ad2-4d36-a634-65ee063d69a0",
   "metadata": {},
   "outputs": [],
   "source": [
    "df_sc = pd.read_csv(project_location + \"data/merfish/merfishVisium.csv\")"
   ]
  },
  {
   "cell_type": "code",
   "execution_count": 114,
   "id": "dc4a5656-557c-41c4-b957-be5dc8a86a21",
   "metadata": {},
   "outputs": [
    {
     "data": {
      "text/html": [
       "<div>\n",
       "<style scoped>\n",
       "    .dataframe tbody tr th:only-of-type {\n",
       "        vertical-align: middle;\n",
       "    }\n",
       "\n",
       "    .dataframe tbody tr th {\n",
       "        vertical-align: top;\n",
       "    }\n",
       "\n",
       "    .dataframe thead th {\n",
       "        text-align: right;\n",
       "    }\n",
       "</style>\n",
       "<table border=\"1\" class=\"dataframe\">\n",
       "  <thead>\n",
       "    <tr style=\"text-align: right;\">\n",
       "      <th></th>\n",
       "      <th>Cell_ID</th>\n",
       "      <th>Animal_ID</th>\n",
       "      <th>Animal_sex</th>\n",
       "      <th>Behavior</th>\n",
       "      <th>Bregma</th>\n",
       "      <th>Centroid_X</th>\n",
       "      <th>Centroid_Y</th>\n",
       "      <th>Cell_class</th>\n",
       "      <th>Neuron_cluster_ID</th>\n",
       "    </tr>\n",
       "  </thead>\n",
       "  <tbody>\n",
       "    <tr>\n",
       "      <th>0</th>\n",
       "      <td>1f9a8c19-b089-43d1-b609-7e791dc2c70f</td>\n",
       "      <td>1</td>\n",
       "      <td>Female</td>\n",
       "      <td>Naive</td>\n",
       "      <td>-0.24</td>\n",
       "      <td>-3749.176078</td>\n",
       "      <td>-3749.458442</td>\n",
       "      <td>Astrocyte</td>\n",
       "      <td>NaN</td>\n",
       "    </tr>\n",
       "    <tr>\n",
       "      <th>1</th>\n",
       "      <td>b13e98f4-5c2b-4e96-985e-3e93aedc7221</td>\n",
       "      <td>1</td>\n",
       "      <td>Female</td>\n",
       "      <td>Naive</td>\n",
       "      <td>-0.24</td>\n",
       "      <td>-3746.226210</td>\n",
       "      <td>-3742.259347</td>\n",
       "      <td>Inhibitory</td>\n",
       "      <td>I-1</td>\n",
       "    </tr>\n",
       "    <tr>\n",
       "      <th>2</th>\n",
       "      <td>d06cb29e-10ee-4bbc-b74e-90237999ef4b</td>\n",
       "      <td>1</td>\n",
       "      <td>Female</td>\n",
       "      <td>Naive</td>\n",
       "      <td>-0.24</td>\n",
       "      <td>-3742.897643</td>\n",
       "      <td>-3790.648737</td>\n",
       "      <td>Inhibitory</td>\n",
       "      <td>I-13</td>\n",
       "    </tr>\n",
       "    <tr>\n",
       "      <th>3</th>\n",
       "      <td>12e2a165-57c7-4f37-96dd-23f6574af4ba</td>\n",
       "      <td>1</td>\n",
       "      <td>Female</td>\n",
       "      <td>Naive</td>\n",
       "      <td>-0.24</td>\n",
       "      <td>-3738.423005</td>\n",
       "      <td>-3773.259265</td>\n",
       "      <td>Inhibitory</td>\n",
       "      <td>I-19</td>\n",
       "    </tr>\n",
       "    <tr>\n",
       "      <th>4</th>\n",
       "      <td>14a0f396-b13d-4d45-89a3-86c2047bf3f9</td>\n",
       "      <td>1</td>\n",
       "      <td>Female</td>\n",
       "      <td>Naive</td>\n",
       "      <td>-0.24</td>\n",
       "      <td>-3736.407620</td>\n",
       "      <td>-3895.590306</td>\n",
       "      <td>Pericytes</td>\n",
       "      <td>NaN</td>\n",
       "    </tr>\n",
       "  </tbody>\n",
       "</table>\n",
       "</div>"
      ],
      "text/plain": [
       "                                Cell_ID  Animal_ID Animal_sex Behavior  \\\n",
       "0  1f9a8c19-b089-43d1-b609-7e791dc2c70f          1     Female    Naive   \n",
       "1  b13e98f4-5c2b-4e96-985e-3e93aedc7221          1     Female    Naive   \n",
       "2  d06cb29e-10ee-4bbc-b74e-90237999ef4b          1     Female    Naive   \n",
       "3  12e2a165-57c7-4f37-96dd-23f6574af4ba          1     Female    Naive   \n",
       "4  14a0f396-b13d-4d45-89a3-86c2047bf3f9          1     Female    Naive   \n",
       "\n",
       "   Bregma   Centroid_X   Centroid_Y  Cell_class Neuron_cluster_ID  \n",
       "0   -0.24 -3749.176078 -3749.458442   Astrocyte               NaN  \n",
       "1   -0.24 -3746.226210 -3742.259347  Inhibitory               I-1  \n",
       "2   -0.24 -3742.897643 -3790.648737  Inhibitory              I-13  \n",
       "3   -0.24 -3738.423005 -3773.259265  Inhibitory              I-19  \n",
       "4   -0.24 -3736.407620 -3895.590306   Pericytes               NaN  "
      ]
     },
     "execution_count": 114,
     "metadata": {},
     "output_type": "execute_result"
    }
   ],
   "source": [
    "counts_sc = df_sc[genes]\n",
    "obs_sc = df_sc[[x for x in df_sc.columns if x not in genes]]\n",
    "obs_sc.head()"
   ]
  },
  {
   "cell_type": "code",
   "execution_count": 115,
   "id": "4afa5c3d",
   "metadata": {},
   "outputs": [
    {
     "data": {
      "text/plain": [
       "'Astrocyte'"
      ]
     },
     "execution_count": 115,
     "metadata": {},
     "output_type": "execute_result"
    }
   ],
   "source": [
    "obs_sc.shape\n",
    "obs_sc.loc[0,\"Cell_class\"]"
   ]
  },
  {
   "cell_type": "markdown",
   "id": "d2872087-f05b-4d88-b97d-1f609fa252a3",
   "metadata": {},
   "source": [
    "# Tangram"
   ]
  },
  {
   "cell_type": "code",
   "execution_count": 116,
   "id": "3f449636-4b11-47a4-8543-8dae8f71b4ba",
   "metadata": {},
   "outputs": [
    {
     "name": "stdout",
     "output_type": "stream",
     "text": [
      "(6412, 155)\n",
      "(322, 155)\n"
     ]
    }
   ],
   "source": [
    "adata_sc = ad.AnnData(counts_sc)\n",
    "adata_st = ad.AnnData(counts_st, obs=cellcount)\n",
    "print(adata_sc.shape)\n",
    "print(adata_st.shape)"
   ]
  },
  {
   "cell_type": "code",
   "execution_count": 117,
   "id": "0de9d4a8-ac4e-4b9e-abbd-7927cb30d35d",
   "metadata": {},
   "outputs": [
    {
     "data": {
      "text/plain": [
       "0"
      ]
     },
     "execution_count": 117,
     "metadata": {},
     "output_type": "execute_result"
    }
   ],
   "source": [
    "adata_st.obs.head()\n",
    "zeroCount=(obs_sc[\"Cell_class\"]==0).sum()\n",
    "zeroCount"
   ]
  },
  {
   "cell_type": "code",
   "execution_count": 118,
   "id": "2d5914a0-ce64-47a0-ac5c-86f09264a6e7",
   "metadata": {},
   "outputs": [
    {
     "name": "stderr",
     "output_type": "stream",
     "text": [
      "INFO:root:155 training genes are saved in `uns``training_genes` of both single cell and spatial Anndatas.\n",
      "INFO:root:155 overlapped genes are saved in `uns``overlap_genes` of both single cell and spatial Anndatas.\n",
      "INFO:root:uniform based density prior is calculated and saved in `obs``uniform_density` of the spatial Anndata.\n",
      "INFO:root:rna count based density prior is calculated and saved in `obs``rna_count_based_density` of the spatial Anndata.\n"
     ]
    }
   ],
   "source": [
    "tg.pp_adatas(adata_sc, adata_st, genes=None)"
   ]
  },
  {
   "cell_type": "code",
   "execution_count": 119,
   "id": "92f12376-0bab-4a09-b307-2ea3d5439aa5",
   "metadata": {},
   "outputs": [],
   "source": [
    "# adata_map_rna = tg.map_cells_to_space(adata_sc, adata_st, device=device, num_epochs=500)"
   ]
  },
  {
   "cell_type": "code",
   "execution_count": 120,
   "id": "d7e49cb0-baa2-4fd4-89f2-2e149c9b2101",
   "metadata": {},
   "outputs": [
    {
     "name": "stderr",
     "output_type": "stream",
     "text": [
      "INFO:root:Allocate tensors for mapping.\n",
      "INFO:root:Begin training with 155 genes and customized density_prior in cells mode...\n",
      "INFO:root:Printing scores every 100 epochs.\n"
     ]
    },
    {
     "name": "stdout",
     "output_type": "stream",
     "text": [
      "Score: 0.681, KL reg: 0.035\n",
      "Score: 0.994, KL reg: 0.000\n",
      "Score: 0.996, KL reg: 0.000\n",
      "Score: 0.997, KL reg: 0.000\n",
      "Score: 0.997, KL reg: 0.000\n"
     ]
    },
    {
     "name": "stderr",
     "output_type": "stream",
     "text": [
      "INFO:root:Saving results..\n"
     ]
    }
   ],
   "source": [
    "adata_map_cellcount = tg.map_cells_to_space(\n",
    "    adata_sc,\n",
    "    adata_st,\n",
    "    target_count=adata_st.obs.cellcount.sum(),\n",
    "    density_prior=np.array(adata_st.obs.cellcount) / adata_st.obs.cellcount.sum(),\n",
    "    device=device,\n",
    "    num_epochs=500\n",
    ")\n",
    "probabilityDf= adata_map_cellcount.to_df()"
   ]
  },
  {
   "cell_type": "code",
   "execution_count": 121,
   "id": "f9c6d70c",
   "metadata": {},
   "outputs": [
    {
     "data": {
      "text/plain": [
       "(6412, 322)"
      ]
     },
     "execution_count": 121,
     "metadata": {},
     "output_type": "execute_result"
    }
   ],
   "source": [
    "probabilityDf.shape"
   ]
  },
  {
   "cell_type": "markdown",
   "id": "7e4c8d2c",
   "metadata": {},
   "source": [
    "# probability analysis"
   ]
  },
  {
   "cell_type": "code",
   "execution_count": 123,
   "id": "789b580e",
   "metadata": {},
   "outputs": [
    {
     "data": {
      "text/plain": [
       "(322, 16)"
      ]
     },
     "execution_count": 123,
     "metadata": {},
     "output_type": "execute_result"
    }
   ],
   "source": [
    "np.argmax(probabilityDf.iloc[2])\n",
    "# probabilityDf.iloc[2,1247]\n",
    "\n",
    "Nrows= len(df_st)\n",
    "Ncols= len(celltypes)\n",
    "\n",
    "deconvolveDf = pd.DataFrame(np.zeros((Nrows,Ncols)),columns=celltypes)\n",
    "for i in range(len(probabilityDf)):\n",
    "    spotNo = np.argmax(probabilityDf.iloc[i])\n",
    "    cellClass= obs_sc.loc[i,\"Cell_class\"]\n",
    "    deconvolveDf.loc[spotNo,cellClass] = deconvolveDf.loc[spotNo,cellClass] +1\n",
    "\n",
    "\n",
    "deconvolveDf.shape"
   ]
  },
  {
   "cell_type": "code",
   "execution_count": 124,
   "id": "c34c713a",
   "metadata": {},
   "outputs": [
    {
     "data": {
      "text/html": [
       "<div>\n",
       "<style scoped>\n",
       "    .dataframe tbody tr th:only-of-type {\n",
       "        vertical-align: middle;\n",
       "    }\n",
       "\n",
       "    .dataframe tbody tr th {\n",
       "        vertical-align: top;\n",
       "    }\n",
       "\n",
       "    .dataframe thead th {\n",
       "        text-align: right;\n",
       "    }\n",
       "</style>\n",
       "<table border=\"1\" class=\"dataframe\">\n",
       "  <thead>\n",
       "    <tr style=\"text-align: right;\">\n",
       "      <th></th>\n",
       "      <th>Astrocyte</th>\n",
       "      <th>Inhibitory</th>\n",
       "      <th>Pericytes</th>\n",
       "      <th>Ambiguous</th>\n",
       "      <th>Endothelial1</th>\n",
       "      <th>Excitatory</th>\n",
       "      <th>ODImmature1</th>\n",
       "      <th>ODImmature2</th>\n",
       "      <th>Microglia</th>\n",
       "      <th>ODMature2</th>\n",
       "      <th>ODMature1</th>\n",
       "      <th>Endothelial3</th>\n",
       "      <th>ODMature3</th>\n",
       "      <th>ODMature4</th>\n",
       "      <th>Endothelial2</th>\n",
       "      <th>Ependymal</th>\n",
       "    </tr>\n",
       "  </thead>\n",
       "  <tbody>\n",
       "    <tr>\n",
       "      <th>0</th>\n",
       "      <td>0.0</td>\n",
       "      <td>0.0</td>\n",
       "      <td>0.0</td>\n",
       "      <td>0.0</td>\n",
       "      <td>0.0</td>\n",
       "      <td>0.0</td>\n",
       "      <td>0.0</td>\n",
       "      <td>0.0</td>\n",
       "      <td>0.0</td>\n",
       "      <td>2.0</td>\n",
       "      <td>0.0</td>\n",
       "      <td>0.0</td>\n",
       "      <td>0.0</td>\n",
       "      <td>0.0</td>\n",
       "      <td>0.0</td>\n",
       "      <td>0.0</td>\n",
       "    </tr>\n",
       "    <tr>\n",
       "      <th>1</th>\n",
       "      <td>4.0</td>\n",
       "      <td>5.0</td>\n",
       "      <td>0.0</td>\n",
       "      <td>4.0</td>\n",
       "      <td>4.0</td>\n",
       "      <td>2.0</td>\n",
       "      <td>1.0</td>\n",
       "      <td>0.0</td>\n",
       "      <td>0.0</td>\n",
       "      <td>10.0</td>\n",
       "      <td>0.0</td>\n",
       "      <td>0.0</td>\n",
       "      <td>0.0</td>\n",
       "      <td>0.0</td>\n",
       "      <td>0.0</td>\n",
       "      <td>0.0</td>\n",
       "    </tr>\n",
       "    <tr>\n",
       "      <th>2</th>\n",
       "      <td>0.0</td>\n",
       "      <td>0.0</td>\n",
       "      <td>0.0</td>\n",
       "      <td>2.0</td>\n",
       "      <td>0.0</td>\n",
       "      <td>0.0</td>\n",
       "      <td>2.0</td>\n",
       "      <td>0.0</td>\n",
       "      <td>0.0</td>\n",
       "      <td>12.0</td>\n",
       "      <td>1.0</td>\n",
       "      <td>0.0</td>\n",
       "      <td>0.0</td>\n",
       "      <td>0.0</td>\n",
       "      <td>0.0</td>\n",
       "      <td>0.0</td>\n",
       "    </tr>\n",
       "    <tr>\n",
       "      <th>3</th>\n",
       "      <td>2.0</td>\n",
       "      <td>3.0</td>\n",
       "      <td>0.0</td>\n",
       "      <td>2.0</td>\n",
       "      <td>1.0</td>\n",
       "      <td>1.0</td>\n",
       "      <td>0.0</td>\n",
       "      <td>0.0</td>\n",
       "      <td>2.0</td>\n",
       "      <td>3.0</td>\n",
       "      <td>1.0</td>\n",
       "      <td>2.0</td>\n",
       "      <td>0.0</td>\n",
       "      <td>0.0</td>\n",
       "      <td>0.0</td>\n",
       "      <td>0.0</td>\n",
       "    </tr>\n",
       "    <tr>\n",
       "      <th>4</th>\n",
       "      <td>3.0</td>\n",
       "      <td>5.0</td>\n",
       "      <td>0.0</td>\n",
       "      <td>0.0</td>\n",
       "      <td>1.0</td>\n",
       "      <td>3.0</td>\n",
       "      <td>1.0</td>\n",
       "      <td>0.0</td>\n",
       "      <td>0.0</td>\n",
       "      <td>0.0</td>\n",
       "      <td>0.0</td>\n",
       "      <td>1.0</td>\n",
       "      <td>0.0</td>\n",
       "      <td>0.0</td>\n",
       "      <td>0.0</td>\n",
       "      <td>1.0</td>\n",
       "    </tr>\n",
       "  </tbody>\n",
       "</table>\n",
       "</div>"
      ],
      "text/plain": [
       "   Astrocyte  Inhibitory  Pericytes  Ambiguous  Endothelial1  Excitatory  \\\n",
       "0        0.0         0.0        0.0        0.0           0.0         0.0   \n",
       "1        4.0         5.0        0.0        4.0           4.0         2.0   \n",
       "2        0.0         0.0        0.0        2.0           0.0         0.0   \n",
       "3        2.0         3.0        0.0        2.0           1.0         1.0   \n",
       "4        3.0         5.0        0.0        0.0           1.0         3.0   \n",
       "\n",
       "   ODImmature1  ODImmature2  Microglia  ODMature2  ODMature1  Endothelial3  \\\n",
       "0          0.0          0.0        0.0        2.0        0.0           0.0   \n",
       "1          1.0          0.0        0.0       10.0        0.0           0.0   \n",
       "2          2.0          0.0        0.0       12.0        1.0           0.0   \n",
       "3          0.0          0.0        2.0        3.0        1.0           2.0   \n",
       "4          1.0          0.0        0.0        0.0        0.0           1.0   \n",
       "\n",
       "   ODMature3  ODMature4  Endothelial2  Ependymal  \n",
       "0        0.0        0.0           0.0        0.0  \n",
       "1        0.0        0.0           0.0        0.0  \n",
       "2        0.0        0.0           0.0        0.0  \n",
       "3        0.0        0.0           0.0        0.0  \n",
       "4        0.0        0.0           0.0        1.0  "
      ]
     },
     "execution_count": 124,
     "metadata": {},
     "output_type": "execute_result"
    }
   ],
   "source": [
    "deconvolveDf.head()"
   ]
  },
  {
   "cell_type": "code",
   "execution_count": 125,
   "id": "7f6bd001",
   "metadata": {},
   "outputs": [],
   "source": [
    "for i in range(len(deconvolveDf)):\n",
    "    deconvolveDf.iloc[i] = 100* deconvolveDf.iloc[i]/deconvolveDf.iloc[i].sum()"
   ]
  },
  {
   "cell_type": "code",
   "execution_count": 126,
   "id": "fbcf15c0",
   "metadata": {},
   "outputs": [
    {
     "name": "stdout",
     "output_type": "stream",
     "text": [
      "   Astrocyte  Inhibitory  Pericytes  Ambiguous  Endothelial1  Excitatory  \\\n",
      "0   0.000000    0.000000        0.0   0.000000      0.000000    0.000000   \n",
      "1  13.333333   16.666667        0.0  13.333333     13.333333    6.666667   \n",
      "2   0.000000    0.000000        0.0  11.764706      0.000000    0.000000   \n",
      "3  11.764706   17.647059        0.0  11.764706      5.882353    5.882353   \n",
      "4  20.000000   33.333333        0.0   0.000000      6.666667   20.000000   \n",
      "\n",
      "   ODImmature1  ODImmature2  Microglia   ODMature2  ODMature1  Endothelial3  \\\n",
      "0     0.000000          0.0   0.000000  100.000000   0.000000      0.000000   \n",
      "1     3.333333          0.0   0.000000   33.333333   0.000000      0.000000   \n",
      "2    11.764706          0.0   0.000000   70.588235   5.882353      0.000000   \n",
      "3     0.000000          0.0  11.764706   17.647059   5.882353     11.764706   \n",
      "4     6.666667          0.0   0.000000    0.000000   0.000000      6.666667   \n",
      "\n",
      "   ODMature3  ODMature4  Endothelial2  Ependymal  \n",
      "0        0.0        0.0           0.0   0.000000  \n",
      "1        0.0        0.0           0.0   0.000000  \n",
      "2        0.0        0.0           0.0   0.000000  \n",
      "3        0.0        0.0           0.0   0.000000  \n",
      "4        0.0        0.0           0.0   6.666667  \n"
     ]
    },
    {
     "data": {
      "text/plain": [
       "Astrocyte       0\n",
       "Inhibitory      0\n",
       "Pericytes       0\n",
       "Ambiguous       0\n",
       "Endothelial1    0\n",
       "Excitatory      0\n",
       "ODImmature1     0\n",
       "ODImmature2     0\n",
       "Microglia       0\n",
       "ODMature2       0\n",
       "ODMature1       0\n",
       "Endothelial3    0\n",
       "ODMature3       0\n",
       "ODMature4       0\n",
       "Endothelial2    0\n",
       "Ependymal       0\n",
       "dtype: int64"
      ]
     },
     "execution_count": 126,
     "metadata": {},
     "output_type": "execute_result"
    }
   ],
   "source": [
    "print(deconvolveDf.head())\n",
    "deconvolveDf.to_csv(\"tangramDeconvolved.csv\",index= False)\n",
    "deconvolveDf.isnull().sum(axis = 0)"
   ]
  },
  {
   "cell_type": "code",
   "execution_count": 128,
   "id": "e3b8114c",
   "metadata": {},
   "outputs": [
    {
     "data": {
      "image/png": "[encoded data removed]",
      "text/plain": [
       "<Figure size 432x288 with 1 Axes>"
      ]
     },
     "metadata": {
      "needs_background": "light"
     },
     "output_type": "display_data"
    }
   ],
   "source": [
    "fig, ax = plt.subplots()\n",
    "cellDict={}\n",
    "outputDir = project_location + \"./output/merfish/tangram/\"\n",
    "for  c in celltypes:\n",
    "    cellDict[\"count\"]=typeCountDf[c]\n",
    "    cellDict[\"fraction\"]=deconvolveDf[c]\n",
    "    df = pd.DataFrame(cellDict)\n",
    "    sns.boxplot(x='count',y='fraction',data= df,ax=ax)\n",
    "    fileName= outputDir  + c+\".pdf\"\n",
    "    plt.savefig(fileName)"
   ]
  },
  {
   "cell_type": "code",
   "execution_count": 130,
   "id": "fef1a5a9",
   "metadata": {},
   "outputs": [
    {
     "data": {
      "image/png": "[encoded data removed]",
      "text/plain": [
       "<Figure size 432x288 with 1 Axes>"
      ]
     },
     "metadata": {
      "needs_background": "light"
     },
     "output_type": "display_data"
    },
    {
     "data": {
      "image/png": "[encoded data removed]",
      "text/plain": [
       "<Figure size 432x288 with 1 Axes>"
      ]
     },
     "metadata": {
      "needs_background": "light"
     },
     "output_type": "display_data"
    }
   ],
   "source": [
    "celltypes= [\"Inhibitory\"]\n",
    "cellDict={}\n",
    "for  c in celltypes:\n",
    "    uniqueCounts= (typeCountDf[c].unique())\n",
    "    uniqueCounts = np.sort(uniqueCounts)\n",
    "    for val in uniqueCounts:\n",
    "        cellDict[val]=[deconvolveDf.iloc[Index][c] for Index  in range(len(deconvolveDf))  if abs(typeCountDf.iloc[Index][c]-val)<0.0000001 ]\n",
    "    # print(cellDict[0])\n",
    "\n",
    "    fig, ax  = plt.subplots()\n",
    "    ax.boxplot(cellDict.values())\n",
    "    ax.set_xticklabels(cellDict.keys())\n",
    "\n",
    "    scatterDict={\n",
    "        \"count\": typeCountDf[c],\n",
    "        \"fraction\":deconvolveDf[c],\n",
    "    }\n",
    "    scatterDf=pd.DataFrame(scatterDict)   \n",
    "    ax1 = scatterDf.plot.scatter(x='count',\n",
    "                      y='fraction',\n",
    "                    )\n",
    "    # pdf = matplotlib.backends.backend_pdf.PdfPages(\"./output/merfish/tangram2c\"+c+\".pdf\")\n",
    "    # pdf.savefig(ax)\n",
    "    # pdf.savefig(ax1)"
   ]
  },
  {
   "cell_type": "code",
   "execution_count": 140,
   "id": "01bb8151-4775-48d9-9e75-cfcdc767ac46",
   "metadata": {},
   "outputs": [
    {
     "name": "stdout",
     "output_type": "stream",
     "text": [
      "7 Excitatory 22.22222222222222\n",
      "11 Microglia 16.666666666666668\n",
      "10 Ambiguous 18.181818181818183\n",
      "9 ODMature1 17.647058823529413\n",
      "7 Ambiguous 16.666666666666668\n"
     ]
    }
   ],
   "source": [
    "for i in range(deconvolveDf.shape[0]):\n",
    "    for j in range(deconvolveDf.shape[1]):\n",
    "        # if celltype-specific cellcount is zero and deconvolution percentage > threshold\n",
    "        if typeCountDf.iloc[i,j] == 0 and deconvolveDf.iloc[i,j] > 15:\n",
    "            print(cellcount.iloc[i][0], deconvolveDf.columns[j], deconvolveDf.iloc[i,j])"
   ]
  },
  {
   "cell_type": "code",
   "execution_count": 133,
   "id": "2bef1a1e-82be-479d-a16f-3fdba9b69b5e",
   "metadata": {},
   "outputs": [
    {
     "data": {
      "text/plain": [
       "cellcount\n",
       "10           55\n",
       "9            43\n",
       "11           40\n",
       "12           35\n",
       "8            30\n",
       "13           27\n",
       "7            22\n",
       "14           20\n",
       "15           20\n",
       "16           10\n",
       "6             6\n",
       "5             4\n",
       "18            4\n",
       "17            3\n",
       "4             2\n",
       "1             1\n",
       "dtype: int64"
      ]
     },
     "execution_count": 133,
     "metadata": {},
     "output_type": "execute_result"
    }
   ],
   "source": [
    "cellcount.value_counts()"
   ]
  }
 ],
 "metadata": {
  "kernelspec": {
   "display_name": "Python 3 (ipykernel)",
   "language": "python",
   "name": "python3"
  },
  "language_info": {
   "codemirror_mode": {
    "name": "ipython",
    "version": 3
   },
   "file_extension": ".py",
   "mimetype": "text/x-python",
   "name": "python",
   "nbconvert_exporter": "python",
   "pygments_lexer": "ipython3",
   "version": "3.8.10"
  }
 },
 "nbformat": 4,
 "nbformat_minor": 5
}
