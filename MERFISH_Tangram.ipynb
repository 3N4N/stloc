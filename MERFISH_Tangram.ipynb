{
 "cells": [
  {
   "cell_type": "markdown",
   "id": "1039e8e8-b2ce-4947-a78d-314b13f994e4",
   "metadata": {},
   "source": [
    "# Import libs"
   ]
  },
  {
   "cell_type": "code",
   "execution_count": 4,
   "id": "47e9908a-c33d-4596-a177-bfa06f720e23",
   "metadata": {},
   "outputs": [],
   "source": [
    "import numpy as np\n",
    "import pandas as pd\n",
    "\n",
    "from sklearn.preprocessing import MinMaxScaler\n",
    "\n",
    "import scanpy as sc\n",
    "import anndata as ad\n",
    "import tangram as tg\n",
    "\n",
    "%load_ext autoreload\n",
    "%autoreload 2\n",
    "%matplotlib inline"
   ]
  },
  {
   "cell_type": "code",
   "execution_count": 5,
   "id": "61b1c087-c701-4234-81cc-96e5c401566f",
   "metadata": {},
   "outputs": [],
   "source": [
    "import torch\n",
    "torch.cuda.empty_cache()\n",
    "device = torch.device(\"cpu\")"
   ]
  },
  {
   "cell_type": "code",
   "execution_count": 6,
   "id": "6a5b25dd-03b0-40bc-9010-d2f65c9063ba",
   "metadata": {},
   "outputs": [],
   "source": [
    "# project_location = \"e:/projects/stloc/\"\n",
    "project_location = \"./stloc/\""
   ]
  },
  {
   "cell_type": "markdown",
   "id": "0d60b61d-3d25-4f1a-97cd-4e0855f5eb6e",
   "metadata": {},
   "source": [
    "# Load data"
   ]
  },
  {
   "cell_type": "markdown",
   "id": "5acc4bcb-5428-4a06-98cf-ddaab40fbe64",
   "metadata": {},
   "source": [
    "## Spatial data"
   ]
  },
  {
   "cell_type": "code",
   "execution_count": 48,
   "id": "3946a17b-2db2-406a-9eca-f3be04ac8421",
   "metadata": {},
   "outputs": [
    {
     "data": {
      "text/html": [
       "<div>\n",
       "<style scoped>\n",
       "    .dataframe tbody tr th:only-of-type {\n",
       "        vertical-align: middle;\n",
       "    }\n",
       "\n",
       "    .dataframe tbody tr th {\n",
       "        vertical-align: top;\n",
       "    }\n",
       "\n",
       "    .dataframe thead th {\n",
       "        text-align: right;\n",
       "    }\n",
       "</style>\n",
       "<table border=\"1\" class=\"dataframe\">\n",
       "  <thead>\n",
       "    <tr style=\"text-align: right;\">\n",
       "      <th></th>\n",
       "      <th>Ace2</th>\n",
       "      <th>Adora2a</th>\n",
       "      <th>Aldh1l1</th>\n",
       "      <th>Amigo2</th>\n",
       "      <th>Ano3</th>\n",
       "      <th>Aqp4</th>\n",
       "      <th>Ar</th>\n",
       "      <th>Arhgap36</th>\n",
       "      <th>Avpr1a</th>\n",
       "      <th>Avpr2</th>\n",
       "      <th>...</th>\n",
       "      <th>ODImmature1</th>\n",
       "      <th>ODImmature2</th>\n",
       "      <th>Microglia</th>\n",
       "      <th>ODMature2</th>\n",
       "      <th>ODMature1</th>\n",
       "      <th>Endothelial3</th>\n",
       "      <th>ODMature3</th>\n",
       "      <th>ODMature4</th>\n",
       "      <th>Endothelial2</th>\n",
       "      <th>Ependymal</th>\n",
       "    </tr>\n",
       "  </thead>\n",
       "  <tbody>\n",
       "    <tr>\n",
       "      <th>0</th>\n",
       "      <td>0.000000</td>\n",
       "      <td>0.631323</td>\n",
       "      <td>2.783859</td>\n",
       "      <td>4.017283</td>\n",
       "      <td>0.707772</td>\n",
       "      <td>2.754597</td>\n",
       "      <td>1.262664</td>\n",
       "      <td>14.922339</td>\n",
       "      <td>0.707772</td>\n",
       "      <td>0.0</td>\n",
       "      <td>...</td>\n",
       "      <td>0</td>\n",
       "      <td>0</td>\n",
       "      <td>0</td>\n",
       "      <td>1</td>\n",
       "      <td>1</td>\n",
       "      <td>0</td>\n",
       "      <td>0</td>\n",
       "      <td>0</td>\n",
       "      <td>0</td>\n",
       "      <td>0</td>\n",
       "    </tr>\n",
       "    <tr>\n",
       "      <th>1</th>\n",
       "      <td>0.000000</td>\n",
       "      <td>0.000000</td>\n",
       "      <td>5.027816</td>\n",
       "      <td>0.000000</td>\n",
       "      <td>0.000000</td>\n",
       "      <td>10.056050</td>\n",
       "      <td>0.000000</td>\n",
       "      <td>0.000000</td>\n",
       "      <td>0.000000</td>\n",
       "      <td>0.0</td>\n",
       "      <td>...</td>\n",
       "      <td>0</td>\n",
       "      <td>0</td>\n",
       "      <td>0</td>\n",
       "      <td>0</td>\n",
       "      <td>0</td>\n",
       "      <td>0</td>\n",
       "      <td>0</td>\n",
       "      <td>0</td>\n",
       "      <td>0</td>\n",
       "      <td>0</td>\n",
       "    </tr>\n",
       "    <tr>\n",
       "      <th>2</th>\n",
       "      <td>0.000000</td>\n",
       "      <td>0.000000</td>\n",
       "      <td>0.000000</td>\n",
       "      <td>0.000000</td>\n",
       "      <td>0.000000</td>\n",
       "      <td>3.856702</td>\n",
       "      <td>0.000000</td>\n",
       "      <td>0.854257</td>\n",
       "      <td>0.427118</td>\n",
       "      <td>0.0</td>\n",
       "      <td>...</td>\n",
       "      <td>0</td>\n",
       "      <td>0</td>\n",
       "      <td>0</td>\n",
       "      <td>1</td>\n",
       "      <td>0</td>\n",
       "      <td>0</td>\n",
       "      <td>0</td>\n",
       "      <td>0</td>\n",
       "      <td>0</td>\n",
       "      <td>0</td>\n",
       "    </tr>\n",
       "    <tr>\n",
       "      <th>3</th>\n",
       "      <td>0.000000</td>\n",
       "      <td>0.000000</td>\n",
       "      <td>1.465245</td>\n",
       "      <td>0.732607</td>\n",
       "      <td>0.000000</td>\n",
       "      <td>2.323503</td>\n",
       "      <td>0.795436</td>\n",
       "      <td>0.732607</td>\n",
       "      <td>0.732607</td>\n",
       "      <td>0.0</td>\n",
       "      <td>...</td>\n",
       "      <td>0</td>\n",
       "      <td>0</td>\n",
       "      <td>0</td>\n",
       "      <td>1</td>\n",
       "      <td>0</td>\n",
       "      <td>0</td>\n",
       "      <td>0</td>\n",
       "      <td>0</td>\n",
       "      <td>0</td>\n",
       "      <td>0</td>\n",
       "    </tr>\n",
       "    <tr>\n",
       "      <th>4</th>\n",
       "      <td>6.311896</td>\n",
       "      <td>7.574326</td>\n",
       "      <td>0.000000</td>\n",
       "      <td>0.000000</td>\n",
       "      <td>0.000000</td>\n",
       "      <td>0.000000</td>\n",
       "      <td>0.000000</td>\n",
       "      <td>0.000000</td>\n",
       "      <td>0.000000</td>\n",
       "      <td>0.0</td>\n",
       "      <td>...</td>\n",
       "      <td>0</td>\n",
       "      <td>0</td>\n",
       "      <td>0</td>\n",
       "      <td>0</td>\n",
       "      <td>0</td>\n",
       "      <td>1</td>\n",
       "      <td>0</td>\n",
       "      <td>0</td>\n",
       "      <td>0</td>\n",
       "      <td>0</td>\n",
       "    </tr>\n",
       "  </tbody>\n",
       "</table>\n",
       "<p>5 rows × 171 columns</p>\n",
       "</div>"
      ],
      "text/plain": [
       "       Ace2   Adora2a   Aldh1l1    Amigo2      Ano3       Aqp4        Ar  \\\n",
       "0  0.000000  0.631323  2.783859  4.017283  0.707772   2.754597  1.262664   \n",
       "1  0.000000  0.000000  5.027816  0.000000  0.000000  10.056050  0.000000   \n",
       "2  0.000000  0.000000  0.000000  0.000000  0.000000   3.856702  0.000000   \n",
       "3  0.000000  0.000000  1.465245  0.732607  0.000000   2.323503  0.795436   \n",
       "4  6.311896  7.574326  0.000000  0.000000  0.000000   0.000000  0.000000   \n",
       "\n",
       "    Arhgap36    Avpr1a  Avpr2  ...  ODImmature1  ODImmature2  Microglia  \\\n",
       "0  14.922339  0.707772    0.0  ...            0            0          0   \n",
       "1   0.000000  0.000000    0.0  ...            0            0          0   \n",
       "2   0.854257  0.427118    0.0  ...            0            0          0   \n",
       "3   0.732607  0.732607    0.0  ...            0            0          0   \n",
       "4   0.000000  0.000000    0.0  ...            0            0          0   \n",
       "\n",
       "   ODMature2  ODMature1  Endothelial3  ODMature3  ODMature4  Endothelial2  \\\n",
       "0          1          1             0          0          0             0   \n",
       "1          0          0             0          0          0             0   \n",
       "2          1          0             0          0          0             0   \n",
       "3          1          0             0          0          0             0   \n",
       "4          0          0             1          0          0             0   \n",
       "\n",
       "   Ependymal  \n",
       "0          0  \n",
       "1          0  \n",
       "2          0  \n",
       "3          0  \n",
       "4          0  \n",
       "\n",
       "[5 rows x 171 columns]"
      ]
     },
     "execution_count": 48,
     "metadata": {},
     "output_type": "execute_result"
    }
   ],
   "source": [
    "df_st = pd.read_csv(project_location + \"data/merfish/merfishSpatial.csv\", sep=\" \")\n",
    "coords = df_st['coord']\n",
    "df_st.drop(columns=['coord'], inplace=True)\n",
    "df_st.head()"
   ]
  },
  {
   "cell_type": "code",
   "execution_count": 49,
   "id": "8a37a3de-c289-4e0f-b72e-c241eb0546d1",
   "metadata": {},
   "outputs": [
    {
     "data": {
      "text/html": [
       "<div>\n",
       "<style scoped>\n",
       "    .dataframe tbody tr th:only-of-type {\n",
       "        vertical-align: middle;\n",
       "    }\n",
       "\n",
       "    .dataframe tbody tr th {\n",
       "        vertical-align: top;\n",
       "    }\n",
       "\n",
       "    .dataframe thead th {\n",
       "        text-align: right;\n",
       "    }\n",
       "</style>\n",
       "<table border=\"1\" class=\"dataframe\">\n",
       "  <thead>\n",
       "    <tr style=\"text-align: right;\">\n",
       "      <th></th>\n",
       "      <th>cell_type</th>\n",
       "      <th>marker_gene</th>\n",
       "    </tr>\n",
       "  </thead>\n",
       "  <tbody>\n",
       "    <tr>\n",
       "      <th>0</th>\n",
       "      <td>Astrocyte</td>\n",
       "      <td>Aldh1l1</td>\n",
       "    </tr>\n",
       "    <tr>\n",
       "      <th>1</th>\n",
       "      <td>Astrocyte</td>\n",
       "      <td>Aqp4</td>\n",
       "    </tr>\n",
       "    <tr>\n",
       "      <th>2</th>\n",
       "      <td>Astrocyte</td>\n",
       "      <td>Cxcl14</td>\n",
       "    </tr>\n",
       "    <tr>\n",
       "      <th>3</th>\n",
       "      <td>Astrocyte</td>\n",
       "      <td>Mlc1</td>\n",
       "    </tr>\n",
       "    <tr>\n",
       "      <th>4</th>\n",
       "      <td>Astrocyte</td>\n",
       "      <td>Ttyh2</td>\n",
       "    </tr>\n",
       "  </tbody>\n",
       "</table>\n",
       "</div>"
      ],
      "text/plain": [
       "   cell_type marker_gene\n",
       "0  Astrocyte     Aldh1l1\n",
       "1  Astrocyte        Aqp4\n",
       "2  Astrocyte      Cxcl14\n",
       "3  Astrocyte        Mlc1\n",
       "4  Astrocyte       Ttyh2"
      ]
     },
     "execution_count": 49,
     "metadata": {},
     "output_type": "execute_result"
    }
   ],
   "source": [
    "reference = pd.read_csv(project_location + \"data/merfish/markerGene_for_merfish_data.csv\")\n",
    "\n",
    "reference.drop(columns=['p_value'], inplace=True)\n",
    "# reference.drop(range(148,168))\n",
    "reference.drop(reference.index[reference.cell_type=='EpendymalInhibitory'].tolist(), inplace=True)\n",
    "reference['cell_type'] = reference['cell_type'].astype(str).str.replace(\" \", \"\")\n",
    "reference.head()"
   ]
  },
  {
   "cell_type": "code",
   "execution_count": 50,
   "id": "393cf07e-d271-4398-8081-76b70afff7b5",
   "metadata": {},
   "outputs": [],
   "source": [
    "genes = df_st.columns[:155]\n",
    "markers = reference.groupby('cell_type').agg(list).marker_gene\n",
    "celltypes = reference.cell_type.unique().tolist()\n",
    "expressions = df_st.drop(columns=celltypes)\n",
    "expressions = MinMaxScaler().fit_transform(expressions)\n",
    "counts_st = pd.DataFrame(expressions, columns=genes)\n",
    "cellcount = pd.DataFrame(np.sum(df_st[celltypes], axis=1), columns=['cellcount'])"
   ]
  },
  {
   "cell_type": "code",
   "execution_count": 86,
   "id": "524270ff-3da1-43f3-a291-2bbf3fce0033",
   "metadata": {},
   "outputs": [
    {
     "name": "stdout",
     "output_type": "stream",
     "text": [
      "zero count is cellcount    224\n",
      "dtype: int64\n"
     ]
    }
   ],
   "source": [
    "# df_st.shape\n",
    "zero = (cellcount==0).sum()\n",
    "print('zero count is',zero)\n"
   ]
  },
  {
   "cell_type": "markdown",
   "id": "8905e07e-3c1a-414d-80a8-60bc62fba36e",
   "metadata": {},
   "source": [
    "## Single-cell data"
   ]
  },
  {
   "cell_type": "code",
   "execution_count": 52,
   "id": "23df6a04-6ad2-4d36-a634-65ee063d69a0",
   "metadata": {},
   "outputs": [],
   "source": [
    "df_sc = pd.read_csv(project_location + \"data/merfish/merfishVisium.csv\")"
   ]
  },
  {
   "cell_type": "code",
   "execution_count": 53,
   "id": "dc4a5656-557c-41c4-b957-be5dc8a86a21",
   "metadata": {},
   "outputs": [
    {
     "data": {
      "text/html": [
       "<div>\n",
       "<style scoped>\n",
       "    .dataframe tbody tr th:only-of-type {\n",
       "        vertical-align: middle;\n",
       "    }\n",
       "\n",
       "    .dataframe tbody tr th {\n",
       "        vertical-align: top;\n",
       "    }\n",
       "\n",
       "    .dataframe thead th {\n",
       "        text-align: right;\n",
       "    }\n",
       "</style>\n",
       "<table border=\"1\" class=\"dataframe\">\n",
       "  <thead>\n",
       "    <tr style=\"text-align: right;\">\n",
       "      <th></th>\n",
       "      <th>Cell_ID</th>\n",
       "      <th>Animal_ID</th>\n",
       "      <th>Animal_sex</th>\n",
       "      <th>Behavior</th>\n",
       "      <th>Bregma</th>\n",
       "      <th>Centroid_X</th>\n",
       "      <th>Centroid_Y</th>\n",
       "      <th>Cell_class</th>\n",
       "      <th>Neuron_cluster_ID</th>\n",
       "    </tr>\n",
       "  </thead>\n",
       "  <tbody>\n",
       "    <tr>\n",
       "      <th>0</th>\n",
       "      <td>1f9a8c19-b089-43d1-b609-7e791dc2c70f</td>\n",
       "      <td>1</td>\n",
       "      <td>Female</td>\n",
       "      <td>Naive</td>\n",
       "      <td>-0.24</td>\n",
       "      <td>-3749.176078</td>\n",
       "      <td>-3749.458442</td>\n",
       "      <td>Astrocyte</td>\n",
       "      <td>NaN</td>\n",
       "    </tr>\n",
       "    <tr>\n",
       "      <th>1</th>\n",
       "      <td>b13e98f4-5c2b-4e96-985e-3e93aedc7221</td>\n",
       "      <td>1</td>\n",
       "      <td>Female</td>\n",
       "      <td>Naive</td>\n",
       "      <td>-0.24</td>\n",
       "      <td>-3746.226210</td>\n",
       "      <td>-3742.259347</td>\n",
       "      <td>Inhibitory</td>\n",
       "      <td>I-1</td>\n",
       "    </tr>\n",
       "    <tr>\n",
       "      <th>2</th>\n",
       "      <td>d06cb29e-10ee-4bbc-b74e-90237999ef4b</td>\n",
       "      <td>1</td>\n",
       "      <td>Female</td>\n",
       "      <td>Naive</td>\n",
       "      <td>-0.24</td>\n",
       "      <td>-3742.897643</td>\n",
       "      <td>-3790.648737</td>\n",
       "      <td>Inhibitory</td>\n",
       "      <td>I-13</td>\n",
       "    </tr>\n",
       "    <tr>\n",
       "      <th>3</th>\n",
       "      <td>12e2a165-57c7-4f37-96dd-23f6574af4ba</td>\n",
       "      <td>1</td>\n",
       "      <td>Female</td>\n",
       "      <td>Naive</td>\n",
       "      <td>-0.24</td>\n",
       "      <td>-3738.423005</td>\n",
       "      <td>-3773.259265</td>\n",
       "      <td>Inhibitory</td>\n",
       "      <td>I-19</td>\n",
       "    </tr>\n",
       "    <tr>\n",
       "      <th>4</th>\n",
       "      <td>14a0f396-b13d-4d45-89a3-86c2047bf3f9</td>\n",
       "      <td>1</td>\n",
       "      <td>Female</td>\n",
       "      <td>Naive</td>\n",
       "      <td>-0.24</td>\n",
       "      <td>-3736.407620</td>\n",
       "      <td>-3895.590306</td>\n",
       "      <td>Pericytes</td>\n",
       "      <td>NaN</td>\n",
       "    </tr>\n",
       "  </tbody>\n",
       "</table>\n",
       "</div>"
      ],
      "text/plain": [
       "                                Cell_ID  Animal_ID Animal_sex Behavior  \\\n",
       "0  1f9a8c19-b089-43d1-b609-7e791dc2c70f          1     Female    Naive   \n",
       "1  b13e98f4-5c2b-4e96-985e-3e93aedc7221          1     Female    Naive   \n",
       "2  d06cb29e-10ee-4bbc-b74e-90237999ef4b          1     Female    Naive   \n",
       "3  12e2a165-57c7-4f37-96dd-23f6574af4ba          1     Female    Naive   \n",
       "4  14a0f396-b13d-4d45-89a3-86c2047bf3f9          1     Female    Naive   \n",
       "\n",
       "   Bregma   Centroid_X   Centroid_Y  Cell_class Neuron_cluster_ID  \n",
       "0   -0.24 -3749.176078 -3749.458442   Astrocyte               NaN  \n",
       "1   -0.24 -3746.226210 -3742.259347  Inhibitory               I-1  \n",
       "2   -0.24 -3742.897643 -3790.648737  Inhibitory              I-13  \n",
       "3   -0.24 -3738.423005 -3773.259265  Inhibitory              I-19  \n",
       "4   -0.24 -3736.407620 -3895.590306   Pericytes               NaN  "
      ]
     },
     "execution_count": 53,
     "metadata": {},
     "output_type": "execute_result"
    }
   ],
   "source": [
    "counts_sc = df_sc[genes]\n",
    "obs_sc = df_sc[[x for x in df_sc.columns if x not in genes]]\n",
    "obs_sc.head()"
   ]
  },
  {
   "cell_type": "code",
   "execution_count": 54,
   "id": "4afa5c3d",
   "metadata": {},
   "outputs": [
    {
     "data": {
      "text/plain": [
       "'Astrocyte'"
      ]
     },
     "execution_count": 54,
     "metadata": {},
     "output_type": "execute_result"
    }
   ],
   "source": [
    "obs_sc.shape\n",
    "obs_sc.loc[0,\"Cell_class\"]"
   ]
  },
  {
   "cell_type": "markdown",
   "id": "d2872087-f05b-4d88-b97d-1f609fa252a3",
   "metadata": {},
   "source": [
    "# Tangram"
   ]
  },
  {
   "cell_type": "code",
   "execution_count": 55,
   "id": "3f449636-4b11-47a4-8543-8dae8f71b4ba",
   "metadata": {},
   "outputs": [
    {
     "name": "stdout",
     "output_type": "stream",
     "text": [
      "(6412, 155)\n",
      "(1249, 155)\n"
     ]
    }
   ],
   "source": [
    "adata_sc = ad.AnnData(counts_sc)\n",
    "adata_st = ad.AnnData(counts_st, obs=cellcount)\n",
    "print(adata_sc.shape)\n",
    "print(adata_st.shape)"
   ]
  },
  {
   "cell_type": "code",
   "execution_count": 82,
   "id": "0de9d4a8-ac4e-4b9e-abbd-7927cb30d35d",
   "metadata": {},
   "outputs": [
    {
     "data": {
      "text/plain": [
       "AnnData object with n_obs × n_vars = 1249 × 155\n",
       "    obs: 'cellcount', 'uniform_density', 'rna_count_based_density'\n",
       "    var: 'n_cells', 'sparsity'\n",
       "    uns: 'training_genes', 'overlap_genes'"
      ]
     },
     "execution_count": 82,
     "metadata": {},
     "output_type": "execute_result"
    }
   ],
   "source": [
    "adata_st.obs.head()\n",
    "# zeroCount=(obs_sc[\"Cell_class\"]==0).sum()\n"
   ]
  },
  {
   "cell_type": "code",
   "execution_count": 57,
   "id": "2d5914a0-ce64-47a0-ac5c-86f09264a6e7",
   "metadata": {},
   "outputs": [
    {
     "name": "stderr",
     "output_type": "stream",
     "text": [
      "INFO:root:155 training genes are saved in `uns``training_genes` of both single cell and spatial Anndatas.\n",
      "INFO:root:155 overlapped genes are saved in `uns``overlap_genes` of both single cell and spatial Anndatas.\n",
      "INFO:root:uniform based density prior is calculated and saved in `obs``uniform_density` of the spatial Anndata.\n",
      "INFO:root:rna count based density prior is calculated and saved in `obs``rna_count_based_density` of the spatial Anndata.\n"
     ]
    }
   ],
   "source": [
    "tg.pp_adatas(adata_sc, adata_st, genes=None)"
   ]
  },
  {
   "cell_type": "code",
   "execution_count": 58,
   "id": "92f12376-0bab-4a09-b307-2ea3d5439aa5",
   "metadata": {},
   "outputs": [
    {
     "name": "stderr",
     "output_type": "stream",
     "text": [
      "INFO:root:Allocate tensors for mapping.\n",
      "INFO:root:Begin training with 155 genes and rna_count_based density_prior in cells mode...\n",
      "INFO:root:Printing scores every 100 epochs.\n"
     ]
    },
    {
     "name": "stdout",
     "output_type": "stream",
     "text": [
      "Score: 0.508, KL reg: 0.151\n",
      "Score: 0.983, KL reg: 0.001\n",
      "Score: 0.988, KL reg: 0.000\n",
      "Score: 0.989, KL reg: 0.000\n",
      "Score: 0.989, KL reg: 0.000\n"
     ]
    },
    {
     "name": "stderr",
     "output_type": "stream",
     "text": [
      "INFO:root:Saving results..\n"
     ]
    }
   ],
   "source": [
    "adata_map_rna = tg.map_cells_to_space(adata_sc, adata_st, device=device, num_epochs=500)"
   ]
  },
  {
   "cell_type": "code",
   "execution_count": 20,
   "id": "41705722-9fb7-41ad-a887-944739034063",
   "metadata": {},
   "outputs": [
    {
     "name": "stdout",
     "output_type": "stream",
     "text": [
      "(6412, 1249)\n"
     ]
    },
    {
     "data": {
      "text/html": [
       "<div>\n",
       "<style scoped>\n",
       "    .dataframe tbody tr th:only-of-type {\n",
       "        vertical-align: middle;\n",
       "    }\n",
       "\n",
       "    .dataframe tbody tr th {\n",
       "        vertical-align: top;\n",
       "    }\n",
       "\n",
       "    .dataframe thead th {\n",
       "        text-align: right;\n",
       "    }\n",
       "</style>\n",
       "<table border=\"1\" class=\"dataframe\">\n",
       "  <thead>\n",
       "    <tr style=\"text-align: right;\">\n",
       "      <th></th>\n",
       "      <th>0</th>\n",
       "      <th>1</th>\n",
       "      <th>2</th>\n",
       "      <th>3</th>\n",
       "      <th>4</th>\n",
       "      <th>5</th>\n",
       "      <th>6</th>\n",
       "      <th>7</th>\n",
       "      <th>8</th>\n",
       "      <th>9</th>\n",
       "      <th>...</th>\n",
       "      <th>1239</th>\n",
       "      <th>1240</th>\n",
       "      <th>1241</th>\n",
       "      <th>1242</th>\n",
       "      <th>1243</th>\n",
       "      <th>1244</th>\n",
       "      <th>1245</th>\n",
       "      <th>1246</th>\n",
       "      <th>1247</th>\n",
       "      <th>1248</th>\n",
       "    </tr>\n",
       "  </thead>\n",
       "  <tbody>\n",
       "    <tr>\n",
       "      <th>0</th>\n",
       "      <td>8.328721e-08</td>\n",
       "      <td>2.345741e-07</td>\n",
       "      <td>3.763995e-07</td>\n",
       "      <td>1.534281e-07</td>\n",
       "      <td>3.448148e-07</td>\n",
       "      <td>7.609757e-08</td>\n",
       "      <td>2.314369e-06</td>\n",
       "      <td>9.884618e-07</td>\n",
       "      <td>2.987654e-07</td>\n",
       "      <td>3.635387e-07</td>\n",
       "      <td>...</td>\n",
       "      <td>3.126729e-07</td>\n",
       "      <td>6.026074e-08</td>\n",
       "      <td>5.585241e-07</td>\n",
       "      <td>8.979840e-07</td>\n",
       "      <td>2.543524e-07</td>\n",
       "      <td>1.001547e-06</td>\n",
       "      <td>9.245763e-07</td>\n",
       "      <td>9.813517e-01</td>\n",
       "      <td>4.246305e-07</td>\n",
       "      <td>1.905592e-07</td>\n",
       "    </tr>\n",
       "    <tr>\n",
       "      <th>1</th>\n",
       "      <td>1.600638e-07</td>\n",
       "      <td>1.611434e-07</td>\n",
       "      <td>5.432863e-07</td>\n",
       "      <td>5.878340e-08</td>\n",
       "      <td>9.742198e-07</td>\n",
       "      <td>1.037845e-07</td>\n",
       "      <td>3.441358e-08</td>\n",
       "      <td>3.987220e-07</td>\n",
       "      <td>4.245252e-07</td>\n",
       "      <td>3.033094e-07</td>\n",
       "      <td>...</td>\n",
       "      <td>2.034778e-07</td>\n",
       "      <td>3.235256e-07</td>\n",
       "      <td>1.191153e-05</td>\n",
       "      <td>4.659870e-07</td>\n",
       "      <td>4.481985e-07</td>\n",
       "      <td>4.294650e-07</td>\n",
       "      <td>5.965369e-07</td>\n",
       "      <td>9.947686e-01</td>\n",
       "      <td>1.547774e-03</td>\n",
       "      <td>7.502450e-07</td>\n",
       "    </tr>\n",
       "    <tr>\n",
       "      <th>2</th>\n",
       "      <td>1.151779e-07</td>\n",
       "      <td>1.603974e-07</td>\n",
       "      <td>3.144310e-08</td>\n",
       "      <td>1.395429e-07</td>\n",
       "      <td>6.045381e-08</td>\n",
       "      <td>5.261430e-07</td>\n",
       "      <td>1.100216e-07</td>\n",
       "      <td>3.923840e-07</td>\n",
       "      <td>1.010913e-07</td>\n",
       "      <td>8.473393e-07</td>\n",
       "      <td>...</td>\n",
       "      <td>4.430716e-07</td>\n",
       "      <td>1.626301e-08</td>\n",
       "      <td>3.669247e-07</td>\n",
       "      <td>2.575632e-07</td>\n",
       "      <td>5.127390e-08</td>\n",
       "      <td>7.476120e-08</td>\n",
       "      <td>9.025911e-07</td>\n",
       "      <td>1.329402e-07</td>\n",
       "      <td>9.986860e-01</td>\n",
       "      <td>2.314991e-07</td>\n",
       "    </tr>\n",
       "    <tr>\n",
       "      <th>3</th>\n",
       "      <td>8.212434e-08</td>\n",
       "      <td>1.304487e-07</td>\n",
       "      <td>1.189635e-07</td>\n",
       "      <td>9.477837e-08</td>\n",
       "      <td>8.108015e-08</td>\n",
       "      <td>1.768097e-06</td>\n",
       "      <td>5.588211e-07</td>\n",
       "      <td>1.819106e-06</td>\n",
       "      <td>2.220222e-07</td>\n",
       "      <td>8.417074e-07</td>\n",
       "      <td>...</td>\n",
       "      <td>8.079193e-08</td>\n",
       "      <td>8.080426e-08</td>\n",
       "      <td>9.802468e-08</td>\n",
       "      <td>1.009974e-05</td>\n",
       "      <td>1.547398e-07</td>\n",
       "      <td>7.011547e-07</td>\n",
       "      <td>4.399845e-07</td>\n",
       "      <td>5.459723e-07</td>\n",
       "      <td>9.970515e-01</td>\n",
       "      <td>1.681645e-07</td>\n",
       "    </tr>\n",
       "    <tr>\n",
       "      <th>4</th>\n",
       "      <td>5.007190e-06</td>\n",
       "      <td>9.737385e-07</td>\n",
       "      <td>9.019274e-07</td>\n",
       "      <td>4.612345e-07</td>\n",
       "      <td>5.595609e-07</td>\n",
       "      <td>2.141731e-06</td>\n",
       "      <td>2.585484e-06</td>\n",
       "      <td>5.223499e-04</td>\n",
       "      <td>3.639371e-06</td>\n",
       "      <td>1.441093e-06</td>\n",
       "      <td>...</td>\n",
       "      <td>2.324459e-06</td>\n",
       "      <td>1.997343e-06</td>\n",
       "      <td>1.431437e-06</td>\n",
       "      <td>8.160324e-06</td>\n",
       "      <td>7.159709e-06</td>\n",
       "      <td>6.004784e-06</td>\n",
       "      <td>2.237070e-06</td>\n",
       "      <td>5.241531e-07</td>\n",
       "      <td>2.664614e-06</td>\n",
       "      <td>1.659714e-05</td>\n",
       "    </tr>\n",
       "  </tbody>\n",
       "</table>\n",
       "<p>5 rows × 1249 columns</p>\n",
       "</div>"
      ],
      "text/plain": [
       "              0             1             2             3             4  \\\n",
       "0  8.328721e-08  2.345741e-07  3.763995e-07  1.534281e-07  3.448148e-07   \n",
       "1  1.600638e-07  1.611434e-07  5.432863e-07  5.878340e-08  9.742198e-07   \n",
       "2  1.151779e-07  1.603974e-07  3.144310e-08  1.395429e-07  6.045381e-08   \n",
       "3  8.212434e-08  1.304487e-07  1.189635e-07  9.477837e-08  8.108015e-08   \n",
       "4  5.007190e-06  9.737385e-07  9.019274e-07  4.612345e-07  5.595609e-07   \n",
       "\n",
       "              5             6             7             8             9  ...  \\\n",
       "0  7.609757e-08  2.314369e-06  9.884618e-07  2.987654e-07  3.635387e-07  ...   \n",
       "1  1.037845e-07  3.441358e-08  3.987220e-07  4.245252e-07  3.033094e-07  ...   \n",
       "2  5.261430e-07  1.100216e-07  3.923840e-07  1.010913e-07  8.473393e-07  ...   \n",
       "3  1.768097e-06  5.588211e-07  1.819106e-06  2.220222e-07  8.417074e-07  ...   \n",
       "4  2.141731e-06  2.585484e-06  5.223499e-04  3.639371e-06  1.441093e-06  ...   \n",
       "\n",
       "           1239          1240          1241          1242          1243  \\\n",
       "0  3.126729e-07  6.026074e-08  5.585241e-07  8.979840e-07  2.543524e-07   \n",
       "1  2.034778e-07  3.235256e-07  1.191153e-05  4.659870e-07  4.481985e-07   \n",
       "2  4.430716e-07  1.626301e-08  3.669247e-07  2.575632e-07  5.127390e-08   \n",
       "3  8.079193e-08  8.080426e-08  9.802468e-08  1.009974e-05  1.547398e-07   \n",
       "4  2.324459e-06  1.997343e-06  1.431437e-06  8.160324e-06  7.159709e-06   \n",
       "\n",
       "           1244          1245          1246          1247          1248  \n",
       "0  1.001547e-06  9.245763e-07  9.813517e-01  4.246305e-07  1.905592e-07  \n",
       "1  4.294650e-07  5.965369e-07  9.947686e-01  1.547774e-03  7.502450e-07  \n",
       "2  7.476120e-08  9.025911e-07  1.329402e-07  9.986860e-01  2.314991e-07  \n",
       "3  7.011547e-07  4.399845e-07  5.459723e-07  9.970515e-01  1.681645e-07  \n",
       "4  6.004784e-06  2.237070e-06  5.241531e-07  2.664614e-06  1.659714e-05  \n",
       "\n",
       "[5 rows x 1249 columns]"
      ]
     },
     "execution_count": 20,
     "metadata": {},
     "output_type": "execute_result"
    }
   ],
   "source": [
    "print(adata_map_rna.to_df().shape)\n",
    "adata_map_rna.to_df().head()"
   ]
  },
  {
   "cell_type": "code",
   "execution_count": 59,
   "id": "d7e49cb0-baa2-4fd4-89f2-2e149c9b2101",
   "metadata": {},
   "outputs": [
    {
     "name": "stderr",
     "output_type": "stream",
     "text": [
      "INFO:root:Allocate tensors for mapping.\n",
      "INFO:root:Begin training with 155 genes and customized density_prior in cells mode...\n",
      "INFO:root:Printing scores every 100 epochs.\n"
     ]
    },
    {
     "name": "stdout",
     "output_type": "stream",
     "text": [
      "Score: 0.508, KL reg: 0.321\n",
      "Score: 0.970, KL reg: 0.003\n",
      "Score: 0.975, KL reg: 0.003\n",
      "Score: 0.975, KL reg: 0.003\n",
      "Score: 0.976, KL reg: 0.003\n"
     ]
    },
    {
     "name": "stderr",
     "output_type": "stream",
     "text": [
      "INFO:root:Saving results..\n"
     ]
    }
   ],
   "source": [
    "adata_map_cellcount = tg.map_cells_to_space(\n",
    "    adata_sc,\n",
    "    adata_st,\n",
    "    target_count=adata_st.obs.cellcount.sum(),\n",
    "    density_prior=np.array(adata_st.obs.cellcount) / adata_st.obs.cellcount.sum(),\n",
    "    device=device,\n",
    "    num_epochs=500\n",
    ")\n",
    "probabilityDf= adata_map_cellcount.to_df()"
   ]
  },
  {
   "cell_type": "code",
   "execution_count": 60,
   "id": "f9c6d70c",
   "metadata": {},
   "outputs": [
    {
     "data": {
      "text/plain": [
       "(6412, 1249)"
      ]
     },
     "execution_count": 60,
     "metadata": {},
     "output_type": "execute_result"
    }
   ],
   "source": [
    "probabilityDf.shape"
   ]
  },
  {
   "cell_type": "markdown",
   "id": "7e4c8d2c",
   "metadata": {},
   "source": [
    "# probability analysis"
   ]
  },
  {
   "cell_type": "code",
   "execution_count": 72,
   "id": "789b580e",
   "metadata": {},
   "outputs": [
    {
     "data": {
      "text/plain": [
       "(1249, 16)"
      ]
     },
     "execution_count": 72,
     "metadata": {},
     "output_type": "execute_result"
    }
   ],
   "source": [
    "np.argmax(probabilityDf.iloc[2])\n",
    "probabilityDf.iloc[2,1247]\n",
    "\n",
    "Nrows= len(df_st)\n",
    "Ncols= len(celltypes)\n",
    "\n",
    "deconvolveDf = pd.DataFrame(np.zeros((Nrows,Ncols)),columns=celltypes)\n",
    "for i in range(len(probabilityDf)):\n",
    "    spotNo = np.argmax(probabilityDf.iloc[i])\n",
    "    cellClass= obs_sc.loc[i,\"Cell_class\"]\n",
    "    deconvolveDf.loc[spotNo,cellClass] = deconvolveDf.loc[spotNo,cellClass] +1\n",
    "\n",
    "\n",
    "deconvolveDf.shape"
   ]
  },
  {
   "cell_type": "code",
   "execution_count": 73,
   "id": "c34c713a",
   "metadata": {},
   "outputs": [
    {
     "data": {
      "text/html": [
       "<div>\n",
       "<style scoped>\n",
       "    .dataframe tbody tr th:only-of-type {\n",
       "        vertical-align: middle;\n",
       "    }\n",
       "\n",
       "    .dataframe tbody tr th {\n",
       "        vertical-align: top;\n",
       "    }\n",
       "\n",
       "    .dataframe thead th {\n",
       "        text-align: right;\n",
       "    }\n",
       "</style>\n",
       "<table border=\"1\" class=\"dataframe\">\n",
       "  <thead>\n",
       "    <tr style=\"text-align: right;\">\n",
       "      <th></th>\n",
       "      <th>Astrocyte</th>\n",
       "      <th>Inhibitory</th>\n",
       "      <th>Pericytes</th>\n",
       "      <th>Ambiguous</th>\n",
       "      <th>Endothelial1</th>\n",
       "      <th>Excitatory</th>\n",
       "      <th>ODImmature1</th>\n",
       "      <th>ODImmature2</th>\n",
       "      <th>Microglia</th>\n",
       "      <th>ODMature2</th>\n",
       "      <th>ODMature1</th>\n",
       "      <th>Endothelial3</th>\n",
       "      <th>ODMature3</th>\n",
       "      <th>ODMature4</th>\n",
       "      <th>Endothelial2</th>\n",
       "      <th>Ependymal</th>\n",
       "    </tr>\n",
       "  </thead>\n",
       "  <tbody>\n",
       "    <tr>\n",
       "      <th>0</th>\n",
       "      <td>1.0</td>\n",
       "      <td>2.0</td>\n",
       "      <td>0.0</td>\n",
       "      <td>0.0</td>\n",
       "      <td>2.0</td>\n",
       "      <td>0.0</td>\n",
       "      <td>0.0</td>\n",
       "      <td>0.0</td>\n",
       "      <td>0.0</td>\n",
       "      <td>2.0</td>\n",
       "      <td>3.0</td>\n",
       "      <td>0.0</td>\n",
       "      <td>0.0</td>\n",
       "      <td>0.0</td>\n",
       "      <td>0.0</td>\n",
       "      <td>0.0</td>\n",
       "    </tr>\n",
       "    <tr>\n",
       "      <th>1</th>\n",
       "      <td>0.0</td>\n",
       "      <td>0.0</td>\n",
       "      <td>0.0</td>\n",
       "      <td>0.0</td>\n",
       "      <td>0.0</td>\n",
       "      <td>0.0</td>\n",
       "      <td>0.0</td>\n",
       "      <td>0.0</td>\n",
       "      <td>0.0</td>\n",
       "      <td>0.0</td>\n",
       "      <td>0.0</td>\n",
       "      <td>0.0</td>\n",
       "      <td>0.0</td>\n",
       "      <td>0.0</td>\n",
       "      <td>0.0</td>\n",
       "      <td>0.0</td>\n",
       "    </tr>\n",
       "    <tr>\n",
       "      <th>2</th>\n",
       "      <td>0.0</td>\n",
       "      <td>0.0</td>\n",
       "      <td>0.0</td>\n",
       "      <td>0.0</td>\n",
       "      <td>0.0</td>\n",
       "      <td>0.0</td>\n",
       "      <td>0.0</td>\n",
       "      <td>0.0</td>\n",
       "      <td>0.0</td>\n",
       "      <td>3.0</td>\n",
       "      <td>1.0</td>\n",
       "      <td>0.0</td>\n",
       "      <td>0.0</td>\n",
       "      <td>0.0</td>\n",
       "      <td>0.0</td>\n",
       "      <td>0.0</td>\n",
       "    </tr>\n",
       "    <tr>\n",
       "      <th>3</th>\n",
       "      <td>0.0</td>\n",
       "      <td>0.0</td>\n",
       "      <td>0.0</td>\n",
       "      <td>0.0</td>\n",
       "      <td>0.0</td>\n",
       "      <td>0.0</td>\n",
       "      <td>0.0</td>\n",
       "      <td>0.0</td>\n",
       "      <td>0.0</td>\n",
       "      <td>2.0</td>\n",
       "      <td>0.0</td>\n",
       "      <td>0.0</td>\n",
       "      <td>0.0</td>\n",
       "      <td>0.0</td>\n",
       "      <td>0.0</td>\n",
       "      <td>0.0</td>\n",
       "    </tr>\n",
       "    <tr>\n",
       "      <th>4</th>\n",
       "      <td>0.0</td>\n",
       "      <td>0.0</td>\n",
       "      <td>0.0</td>\n",
       "      <td>0.0</td>\n",
       "      <td>0.0</td>\n",
       "      <td>0.0</td>\n",
       "      <td>0.0</td>\n",
       "      <td>0.0</td>\n",
       "      <td>1.0</td>\n",
       "      <td>0.0</td>\n",
       "      <td>0.0</td>\n",
       "      <td>1.0</td>\n",
       "      <td>0.0</td>\n",
       "      <td>0.0</td>\n",
       "      <td>0.0</td>\n",
       "      <td>0.0</td>\n",
       "    </tr>\n",
       "  </tbody>\n",
       "</table>\n",
       "</div>"
      ],
      "text/plain": [
       "   Astrocyte  Inhibitory  Pericytes  Ambiguous  Endothelial1  Excitatory  \\\n",
       "0        1.0         2.0        0.0        0.0           2.0         0.0   \n",
       "1        0.0         0.0        0.0        0.0           0.0         0.0   \n",
       "2        0.0         0.0        0.0        0.0           0.0         0.0   \n",
       "3        0.0         0.0        0.0        0.0           0.0         0.0   \n",
       "4        0.0         0.0        0.0        0.0           0.0         0.0   \n",
       "\n",
       "   ODImmature1  ODImmature2  Microglia  ODMature2  ODMature1  Endothelial3  \\\n",
       "0          0.0          0.0        0.0        2.0        3.0           0.0   \n",
       "1          0.0          0.0        0.0        0.0        0.0           0.0   \n",
       "2          0.0          0.0        0.0        3.0        1.0           0.0   \n",
       "3          0.0          0.0        0.0        2.0        0.0           0.0   \n",
       "4          0.0          0.0        1.0        0.0        0.0           1.0   \n",
       "\n",
       "   ODMature3  ODMature4  Endothelial2  Ependymal  \n",
       "0        0.0        0.0           0.0        0.0  \n",
       "1        0.0        0.0           0.0        0.0  \n",
       "2        0.0        0.0           0.0        0.0  \n",
       "3        0.0        0.0           0.0        0.0  \n",
       "4        0.0        0.0           0.0        0.0  "
      ]
     },
     "execution_count": 73,
     "metadata": {},
     "output_type": "execute_result"
    }
   ],
   "source": [
    "deconvolveDf.head()"
   ]
  },
  {
   "cell_type": "code",
   "execution_count": 74,
   "id": "7f6bd001",
   "metadata": {},
   "outputs": [],
   "source": [
    "for i in range(len(deconvolveDf)):\n",
    "    deconvolveDf.iloc[i] = deconvolveDf.iloc[i]/deconvolveDf.iloc[i].sum()\n",
    "\n"
   ]
  },
  {
   "cell_type": "code",
   "execution_count": 77,
   "id": "fbcf15c0",
   "metadata": {},
   "outputs": [
    {
     "data": {
      "text/plain": [
       "Astrocyte       205\n",
       "Inhibitory      205\n",
       "Pericytes       205\n",
       "Ambiguous       205\n",
       "Endothelial1    205\n",
       "Excitatory      205\n",
       "ODImmature1     205\n",
       "ODImmature2     205\n",
       "Microglia       205\n",
       "ODMature2       205\n",
       "ODMature1       205\n",
       "Endothelial3    205\n",
       "ODMature3       205\n",
       "ODMature4       205\n",
       "Endothelial2    205\n",
       "Ependymal       205\n",
       "dtype: int64"
      ]
     },
     "execution_count": 77,
     "metadata": {},
     "output_type": "execute_result"
    }
   ],
   "source": [
    "deconvolveDf.head()\n",
    "deconvolveDf.to_csv(\"tangramDeconvolved.csv\",index= False)\n",
    "deconvolveDf.isnull().sum(axis = 0)\n"
   ]
  }
 ],
 "metadata": {
  "kernelspec": {
   "display_name": "Python 3 (ipykernel)",
   "language": "python",
   "name": "python3"
  },
  "language_info": {
   "codemirror_mode": {
    "name": "ipython",
    "version": 3
   },
   "file_extension": ".py",
   "mimetype": "text/x-python",
   "name": "python",
   "nbconvert_exporter": "python",
   "pygments_lexer": "ipython3",
   "version": "3.8.10"
  }
 },
 "nbformat": 4,
 "nbformat_minor": 5
}
