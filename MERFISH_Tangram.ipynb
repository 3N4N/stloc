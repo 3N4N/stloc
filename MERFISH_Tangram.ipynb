{
 "cells": [
  {
   "cell_type": "markdown",
   "id": "1039e8e8-b2ce-4947-a78d-314b13f994e4",
   "metadata": {
    "id": "1039e8e8-b2ce-4947-a78d-314b13f994e4"
   },
   "source": [
    "# Import libs"
   ]
  },
  {
   "cell_type": "code",
   "execution_count": 1,
   "id": "47e9908a-c33d-4596-a177-bfa06f720e23",
   "metadata": {
    "id": "47e9908a-c33d-4596-a177-bfa06f720e23"
   },
   "outputs": [],
   "source": [
    "import numpy as np\n",
    "import pandas as pd\n",
    "import matplotlib.backends.backend_pdf\n",
    "import seaborn as sns\n",
    "\n",
    "from sklearn.preprocessing import MinMaxScaler\n",
    "\n",
    "import scanpy as sc\n",
    "import anndata as ad\n",
    "import tangram as tg\n",
    "import matplotlib.pyplot as plt\n",
    "import seaborn as sns\n",
    "import copy"
   ]
  },
  {
   "cell_type": "code",
   "execution_count": 2,
   "id": "b64b10e4-59b8-4106-b02b-d6910c149f11",
   "metadata": {
    "id": "b64b10e4-59b8-4106-b02b-d6910c149f11"
   },
   "outputs": [],
   "source": [
    "np.random.seed(10)\n",
    "\n",
    "%load_ext autoreload\n",
    "%autoreload 2\n",
    "%matplotlib inline\n",
    "plt.rcParams['figure.figsize'] = [10,5]"
   ]
  },
  {
   "cell_type": "code",
   "execution_count": 3,
   "id": "61b1c087-c701-4234-81cc-96e5c401566f",
   "metadata": {
    "id": "61b1c087-c701-4234-81cc-96e5c401566f"
   },
   "outputs": [],
   "source": [
    "import torch\n",
    "torch.cuda.empty_cache()\n",
    "device = torch.device(\"cpu\")"
   ]
  },
  {
   "cell_type": "code",
   "execution_count": 4,
   "id": "6a5b25dd-03b0-40bc-9010-d2f65c9063ba",
   "metadata": {
    "id": "6a5b25dd-03b0-40bc-9010-d2f65c9063ba"
   },
   "outputs": [],
   "source": [
    "project_location = \"./\"\n",
    "project_location = \"e:/projects/stloc/\""
   ]
  },
  {
   "cell_type": "markdown",
   "id": "0d60b61d-3d25-4f1a-97cd-4e0855f5eb6e",
   "metadata": {
    "id": "0d60b61d-3d25-4f1a-97cd-4e0855f5eb6e"
   },
   "source": [
    "# Load data"
   ]
  },
  {
   "cell_type": "code",
   "execution_count": 5,
   "id": "dNFong2ZKR0K",
   "metadata": {
    "id": "dNFong2ZKR0K"
   },
   "outputs": [],
   "source": [
    "running_data = None\n",
    "# running_data = '2celltypes'"
   ]
  },
  {
   "cell_type": "markdown",
   "id": "5acc4bcb-5428-4a06-98cf-ddaab40fbe64",
   "metadata": {
    "id": "5acc4bcb-5428-4a06-98cf-ddaab40fbe64"
   },
   "source": [
    "## Spatial data"
   ]
  },
  {
   "cell_type": "code",
   "execution_count": 6,
   "id": "3946a17b-2db2-406a-9eca-f3be04ac8421",
   "metadata": {
    "colab": {
     "base_uri": "https://localhost:8080/",
     "height": 255
    },
    "id": "3946a17b-2db2-406a-9eca-f3be04ac8421",
    "outputId": "58d0b1cf-68d3-499b-f11b-b9d8b2baeb9c"
   },
   "outputs": [
    {
     "data": {
      "text/html": [
       "<div>\n",
       "<style scoped>\n",
       "    .dataframe tbody tr th:only-of-type {\n",
       "        vertical-align: middle;\n",
       "    }\n",
       "\n",
       "    .dataframe tbody tr th {\n",
       "        vertical-align: top;\n",
       "    }\n",
       "\n",
       "    .dataframe thead th {\n",
       "        text-align: right;\n",
       "    }\n",
       "</style>\n",
       "<table border=\"1\" class=\"dataframe\">\n",
       "  <thead>\n",
       "    <tr style=\"text-align: right;\">\n",
       "      <th></th>\n",
       "      <th>Ace2</th>\n",
       "      <th>Adora2a</th>\n",
       "      <th>Aldh1l1</th>\n",
       "      <th>Amigo2</th>\n",
       "      <th>Ano3</th>\n",
       "      <th>Aqp4</th>\n",
       "      <th>Ar</th>\n",
       "      <th>Arhgap36</th>\n",
       "      <th>Avpr1a</th>\n",
       "      <th>Avpr2</th>\n",
       "      <th>...</th>\n",
       "      <th>ODImmature1</th>\n",
       "      <th>ODImmature2</th>\n",
       "      <th>Microglia</th>\n",
       "      <th>ODMature2</th>\n",
       "      <th>ODMature1</th>\n",
       "      <th>Endothelial3</th>\n",
       "      <th>ODMature3</th>\n",
       "      <th>ODMature4</th>\n",
       "      <th>Endothelial2</th>\n",
       "      <th>Ependymal</th>\n",
       "    </tr>\n",
       "  </thead>\n",
       "  <tbody>\n",
       "    <tr>\n",
       "      <th>0</th>\n",
       "      <td>3.993327</td>\n",
       "      <td>20.596571</td>\n",
       "      <td>7.531108</td>\n",
       "      <td>13.294050</td>\n",
       "      <td>5.552498</td>\n",
       "      <td>9.445471</td>\n",
       "      <td>9.026888</td>\n",
       "      <td>23.262853</td>\n",
       "      <td>1.559171</td>\n",
       "      <td>0.000000</td>\n",
       "      <td>...</td>\n",
       "      <td>1</td>\n",
       "      <td>0</td>\n",
       "      <td>0</td>\n",
       "      <td>1</td>\n",
       "      <td>2</td>\n",
       "      <td>1</td>\n",
       "      <td>0</td>\n",
       "      <td>0</td>\n",
       "      <td>0</td>\n",
       "      <td>0</td>\n",
       "    </tr>\n",
       "    <tr>\n",
       "      <th>1</th>\n",
       "      <td>0.000000</td>\n",
       "      <td>0.000000</td>\n",
       "      <td>10.676513</td>\n",
       "      <td>0.606719</td>\n",
       "      <td>0.000000</td>\n",
       "      <td>43.836144</td>\n",
       "      <td>0.000000</td>\n",
       "      <td>8.300263</td>\n",
       "      <td>0.606719</td>\n",
       "      <td>1.437811</td>\n",
       "      <td>...</td>\n",
       "      <td>0</td>\n",
       "      <td>0</td>\n",
       "      <td>0</td>\n",
       "      <td>4</td>\n",
       "      <td>0</td>\n",
       "      <td>0</td>\n",
       "      <td>0</td>\n",
       "      <td>0</td>\n",
       "      <td>0</td>\n",
       "      <td>0</td>\n",
       "    </tr>\n",
       "    <tr>\n",
       "      <th>2</th>\n",
       "      <td>0.000000</td>\n",
       "      <td>0.000000</td>\n",
       "      <td>3.378244</td>\n",
       "      <td>1.219116</td>\n",
       "      <td>1.219116</td>\n",
       "      <td>7.910641</td>\n",
       "      <td>0.000000</td>\n",
       "      <td>1.529895</td>\n",
       "      <td>1.102756</td>\n",
       "      <td>0.000000</td>\n",
       "      <td>...</td>\n",
       "      <td>0</td>\n",
       "      <td>0</td>\n",
       "      <td>0</td>\n",
       "      <td>2</td>\n",
       "      <td>1</td>\n",
       "      <td>0</td>\n",
       "      <td>0</td>\n",
       "      <td>0</td>\n",
       "      <td>0</td>\n",
       "      <td>0</td>\n",
       "    </tr>\n",
       "    <tr>\n",
       "      <th>3</th>\n",
       "      <td>0.000000</td>\n",
       "      <td>0.000000</td>\n",
       "      <td>1.465245</td>\n",
       "      <td>0.732607</td>\n",
       "      <td>0.000000</td>\n",
       "      <td>2.323503</td>\n",
       "      <td>0.795436</td>\n",
       "      <td>0.732607</td>\n",
       "      <td>0.732607</td>\n",
       "      <td>0.000000</td>\n",
       "      <td>...</td>\n",
       "      <td>0</td>\n",
       "      <td>0</td>\n",
       "      <td>0</td>\n",
       "      <td>2</td>\n",
       "      <td>1</td>\n",
       "      <td>0</td>\n",
       "      <td>0</td>\n",
       "      <td>0</td>\n",
       "      <td>0</td>\n",
       "      <td>0</td>\n",
       "    </tr>\n",
       "    <tr>\n",
       "      <th>4</th>\n",
       "      <td>6.311896</td>\n",
       "      <td>7.574326</td>\n",
       "      <td>0.600405</td>\n",
       "      <td>0.600405</td>\n",
       "      <td>0.600405</td>\n",
       "      <td>0.600405</td>\n",
       "      <td>0.000000</td>\n",
       "      <td>0.600405</td>\n",
       "      <td>0.000000</td>\n",
       "      <td>0.000000</td>\n",
       "      <td>...</td>\n",
       "      <td>0</td>\n",
       "      <td>0</td>\n",
       "      <td>1</td>\n",
       "      <td>1</td>\n",
       "      <td>0</td>\n",
       "      <td>1</td>\n",
       "      <td>0</td>\n",
       "      <td>0</td>\n",
       "      <td>0</td>\n",
       "      <td>0</td>\n",
       "    </tr>\n",
       "  </tbody>\n",
       "</table>\n",
       "<p>5 rows × 171 columns</p>\n",
       "</div>"
      ],
      "text/plain": [
       "       Ace2    Adora2a    Aldh1l1     Amigo2      Ano3       Aqp4        Ar  \\\n",
       "0  3.993327  20.596571   7.531108  13.294050  5.552498   9.445471  9.026888   \n",
       "1  0.000000   0.000000  10.676513   0.606719  0.000000  43.836144  0.000000   \n",
       "2  0.000000   0.000000   3.378244   1.219116  1.219116   7.910641  0.000000   \n",
       "3  0.000000   0.000000   1.465245   0.732607  0.000000   2.323503  0.795436   \n",
       "4  6.311896   7.574326   0.600405   0.600405  0.600405   0.600405  0.000000   \n",
       "\n",
       "    Arhgap36    Avpr1a     Avpr2  ...  ODImmature1  ODImmature2  Microglia  \\\n",
       "0  23.262853  1.559171  0.000000  ...            1            0          0   \n",
       "1   8.300263  0.606719  1.437811  ...            0            0          0   \n",
       "2   1.529895  1.102756  0.000000  ...            0            0          0   \n",
       "3   0.732607  0.732607  0.000000  ...            0            0          0   \n",
       "4   0.600405  0.000000  0.000000  ...            0            0          1   \n",
       "\n",
       "   ODMature2  ODMature1  Endothelial3  ODMature3  ODMature4  Endothelial2  \\\n",
       "0          1          2             1          0          0             0   \n",
       "1          4          0             0          0          0             0   \n",
       "2          2          1             0          0          0             0   \n",
       "3          2          1             0          0          0             0   \n",
       "4          1          0             1          0          0             0   \n",
       "\n",
       "   Ependymal  \n",
       "0          0  \n",
       "1          0  \n",
       "2          0  \n",
       "3          0  \n",
       "4          0  \n",
       "\n",
       "[5 rows x 171 columns]"
      ]
     },
     "execution_count": 6,
     "metadata": {},
     "output_type": "execute_result"
    }
   ],
   "source": [
    "if running_data != '2celltypes':\n",
    "    df_st = pd.read_csv(project_location + \"data/merfish/merfishSpatial.csv\", sep=\" \")\n",
    "else:\n",
    "    df_st = pd.read_csv(project_location + \"data/FaultSpatial.csv\", sep=\",\")\n",
    "coords = df_st['coord']\n",
    "df_st.drop(columns=['coord'], inplace=True)\n",
    "df_st.head()"
   ]
  },
  {
   "cell_type": "code",
   "execution_count": 8,
   "id": "8a37a3de-c289-4e0f-b72e-c241eb0546d1",
   "metadata": {
    "colab": {
     "base_uri": "https://localhost:8080/",
     "height": 206
    },
    "id": "8a37a3de-c289-4e0f-b72e-c241eb0546d1",
    "outputId": "d500e6c8-962e-4950-db96-823b73746902"
   },
   "outputs": [
    {
     "data": {
      "text/html": [
       "<div>\n",
       "<style scoped>\n",
       "    .dataframe tbody tr th:only-of-type {\n",
       "        vertical-align: middle;\n",
       "    }\n",
       "\n",
       "    .dataframe tbody tr th {\n",
       "        vertical-align: top;\n",
       "    }\n",
       "\n",
       "    .dataframe thead th {\n",
       "        text-align: right;\n",
       "    }\n",
       "</style>\n",
       "<table border=\"1\" class=\"dataframe\">\n",
       "  <thead>\n",
       "    <tr style=\"text-align: right;\">\n",
       "      <th></th>\n",
       "      <th>cell_type</th>\n",
       "      <th>marker_gene</th>\n",
       "    </tr>\n",
       "  </thead>\n",
       "  <tbody>\n",
       "    <tr>\n",
       "      <th>0</th>\n",
       "      <td>Astrocyte</td>\n",
       "      <td>Aldh1l1</td>\n",
       "    </tr>\n",
       "    <tr>\n",
       "      <th>1</th>\n",
       "      <td>Astrocyte</td>\n",
       "      <td>Aqp4</td>\n",
       "    </tr>\n",
       "    <tr>\n",
       "      <th>2</th>\n",
       "      <td>Astrocyte</td>\n",
       "      <td>Cxcl14</td>\n",
       "    </tr>\n",
       "    <tr>\n",
       "      <th>3</th>\n",
       "      <td>Astrocyte</td>\n",
       "      <td>Mlc1</td>\n",
       "    </tr>\n",
       "    <tr>\n",
       "      <th>4</th>\n",
       "      <td>Astrocyte</td>\n",
       "      <td>Ttyh2</td>\n",
       "    </tr>\n",
       "  </tbody>\n",
       "</table>\n",
       "</div>"
      ],
      "text/plain": [
       "   cell_type marker_gene\n",
       "0  Astrocyte     Aldh1l1\n",
       "1  Astrocyte        Aqp4\n",
       "2  Astrocyte      Cxcl14\n",
       "3  Astrocyte        Mlc1\n",
       "4  Astrocyte       Ttyh2"
      ]
     },
     "execution_count": 8,
     "metadata": {},
     "output_type": "execute_result"
    }
   ],
   "source": [
    "reference = pd.read_csv(project_location + \"data/merfish/markerGene_for_merfish_data.csv\")\n",
    "reference.drop(columns=['p_value'], inplace=True)\n",
    "# reference.drop(range(148,168))\n",
    "reference.drop(reference.index[reference.cell_type=='EpendymalInhibitory'].tolist(), inplace=True)\n",
    "reference['cell_type'] = reference['cell_type'].astype(str).str.replace(\" \", \"\")\n",
    "reference.head()"
   ]
  },
  {
   "cell_type": "code",
   "execution_count": 9,
   "id": "393cf07e-d271-4398-8081-76b70afff7b5",
   "metadata": {
    "colab": {
     "base_uri": "https://localhost:8080/",
     "height": 444
    },
    "id": "393cf07e-d271-4398-8081-76b70afff7b5",
    "outputId": "af8e9fee-0e13-4769-f08c-be70facc8371"
   },
   "outputs": [
    {
     "data": {
      "text/html": [
       "<div>\n",
       "<style scoped>\n",
       "    .dataframe tbody tr th:only-of-type {\n",
       "        vertical-align: middle;\n",
       "    }\n",
       "\n",
       "    .dataframe tbody tr th {\n",
       "        vertical-align: top;\n",
       "    }\n",
       "\n",
       "    .dataframe thead th {\n",
       "        text-align: right;\n",
       "    }\n",
       "</style>\n",
       "<table border=\"1\" class=\"dataframe\">\n",
       "  <thead>\n",
       "    <tr style=\"text-align: right;\">\n",
       "      <th></th>\n",
       "      <th>Astrocyte</th>\n",
       "      <th>Inhibitory</th>\n",
       "      <th>Pericytes</th>\n",
       "      <th>Ambiguous</th>\n",
       "      <th>Endothelial1</th>\n",
       "      <th>Excitatory</th>\n",
       "      <th>ODImmature1</th>\n",
       "      <th>ODImmature2</th>\n",
       "      <th>Microglia</th>\n",
       "      <th>ODMature2</th>\n",
       "      <th>ODMature1</th>\n",
       "      <th>Endothelial3</th>\n",
       "      <th>ODMature3</th>\n",
       "      <th>ODMature4</th>\n",
       "      <th>Endothelial2</th>\n",
       "      <th>Ependymal</th>\n",
       "    </tr>\n",
       "  </thead>\n",
       "  <tbody>\n",
       "    <tr>\n",
       "      <th>0</th>\n",
       "      <td>0</td>\n",
       "      <td>2</td>\n",
       "      <td>0</td>\n",
       "      <td>1</td>\n",
       "      <td>1</td>\n",
       "      <td>0</td>\n",
       "      <td>1</td>\n",
       "      <td>0</td>\n",
       "      <td>0</td>\n",
       "      <td>1</td>\n",
       "      <td>2</td>\n",
       "      <td>1</td>\n",
       "      <td>0</td>\n",
       "      <td>0</td>\n",
       "      <td>0</td>\n",
       "      <td>0</td>\n",
       "    </tr>\n",
       "    <tr>\n",
       "      <th>1</th>\n",
       "      <td>0</td>\n",
       "      <td>0</td>\n",
       "      <td>0</td>\n",
       "      <td>1</td>\n",
       "      <td>0</td>\n",
       "      <td>0</td>\n",
       "      <td>0</td>\n",
       "      <td>0</td>\n",
       "      <td>0</td>\n",
       "      <td>4</td>\n",
       "      <td>0</td>\n",
       "      <td>0</td>\n",
       "      <td>0</td>\n",
       "      <td>0</td>\n",
       "      <td>0</td>\n",
       "      <td>0</td>\n",
       "    </tr>\n",
       "    <tr>\n",
       "      <th>2</th>\n",
       "      <td>0</td>\n",
       "      <td>0</td>\n",
       "      <td>0</td>\n",
       "      <td>1</td>\n",
       "      <td>0</td>\n",
       "      <td>0</td>\n",
       "      <td>0</td>\n",
       "      <td>0</td>\n",
       "      <td>0</td>\n",
       "      <td>2</td>\n",
       "      <td>1</td>\n",
       "      <td>0</td>\n",
       "      <td>0</td>\n",
       "      <td>0</td>\n",
       "      <td>0</td>\n",
       "      <td>0</td>\n",
       "    </tr>\n",
       "    <tr>\n",
       "      <th>3</th>\n",
       "      <td>0</td>\n",
       "      <td>0</td>\n",
       "      <td>0</td>\n",
       "      <td>0</td>\n",
       "      <td>0</td>\n",
       "      <td>0</td>\n",
       "      <td>0</td>\n",
       "      <td>0</td>\n",
       "      <td>0</td>\n",
       "      <td>2</td>\n",
       "      <td>1</td>\n",
       "      <td>0</td>\n",
       "      <td>0</td>\n",
       "      <td>0</td>\n",
       "      <td>0</td>\n",
       "      <td>0</td>\n",
       "    </tr>\n",
       "    <tr>\n",
       "      <th>4</th>\n",
       "      <td>0</td>\n",
       "      <td>0</td>\n",
       "      <td>0</td>\n",
       "      <td>0</td>\n",
       "      <td>1</td>\n",
       "      <td>0</td>\n",
       "      <td>0</td>\n",
       "      <td>0</td>\n",
       "      <td>1</td>\n",
       "      <td>1</td>\n",
       "      <td>0</td>\n",
       "      <td>1</td>\n",
       "      <td>0</td>\n",
       "      <td>0</td>\n",
       "      <td>0</td>\n",
       "      <td>0</td>\n",
       "    </tr>\n",
       "    <tr>\n",
       "      <th>...</th>\n",
       "      <td>...</td>\n",
       "      <td>...</td>\n",
       "      <td>...</td>\n",
       "      <td>...</td>\n",
       "      <td>...</td>\n",
       "      <td>...</td>\n",
       "      <td>...</td>\n",
       "      <td>...</td>\n",
       "      <td>...</td>\n",
       "      <td>...</td>\n",
       "      <td>...</td>\n",
       "      <td>...</td>\n",
       "      <td>...</td>\n",
       "      <td>...</td>\n",
       "      <td>...</td>\n",
       "      <td>...</td>\n",
       "    </tr>\n",
       "    <tr>\n",
       "      <th>1278</th>\n",
       "      <td>1</td>\n",
       "      <td>3</td>\n",
       "      <td>0</td>\n",
       "      <td>0</td>\n",
       "      <td>0</td>\n",
       "      <td>0</td>\n",
       "      <td>0</td>\n",
       "      <td>0</td>\n",
       "      <td>0</td>\n",
       "      <td>0</td>\n",
       "      <td>0</td>\n",
       "      <td>0</td>\n",
       "      <td>0</td>\n",
       "      <td>0</td>\n",
       "      <td>0</td>\n",
       "      <td>0</td>\n",
       "    </tr>\n",
       "    <tr>\n",
       "      <th>1279</th>\n",
       "      <td>0</td>\n",
       "      <td>2</td>\n",
       "      <td>0</td>\n",
       "      <td>0</td>\n",
       "      <td>0</td>\n",
       "      <td>1</td>\n",
       "      <td>0</td>\n",
       "      <td>0</td>\n",
       "      <td>0</td>\n",
       "      <td>0</td>\n",
       "      <td>0</td>\n",
       "      <td>0</td>\n",
       "      <td>0</td>\n",
       "      <td>0</td>\n",
       "      <td>0</td>\n",
       "      <td>0</td>\n",
       "    </tr>\n",
       "    <tr>\n",
       "      <th>1280</th>\n",
       "      <td>2</td>\n",
       "      <td>1</td>\n",
       "      <td>0</td>\n",
       "      <td>1</td>\n",
       "      <td>0</td>\n",
       "      <td>1</td>\n",
       "      <td>0</td>\n",
       "      <td>0</td>\n",
       "      <td>0</td>\n",
       "      <td>0</td>\n",
       "      <td>0</td>\n",
       "      <td>0</td>\n",
       "      <td>0</td>\n",
       "      <td>0</td>\n",
       "      <td>0</td>\n",
       "      <td>0</td>\n",
       "    </tr>\n",
       "    <tr>\n",
       "      <th>1281</th>\n",
       "      <td>1</td>\n",
       "      <td>2</td>\n",
       "      <td>0</td>\n",
       "      <td>1</td>\n",
       "      <td>2</td>\n",
       "      <td>0</td>\n",
       "      <td>0</td>\n",
       "      <td>0</td>\n",
       "      <td>0</td>\n",
       "      <td>0</td>\n",
       "      <td>0</td>\n",
       "      <td>0</td>\n",
       "      <td>0</td>\n",
       "      <td>0</td>\n",
       "      <td>0</td>\n",
       "      <td>0</td>\n",
       "    </tr>\n",
       "    <tr>\n",
       "      <th>1282</th>\n",
       "      <td>1</td>\n",
       "      <td>0</td>\n",
       "      <td>0</td>\n",
       "      <td>0</td>\n",
       "      <td>0</td>\n",
       "      <td>0</td>\n",
       "      <td>1</td>\n",
       "      <td>0</td>\n",
       "      <td>0</td>\n",
       "      <td>0</td>\n",
       "      <td>0</td>\n",
       "      <td>0</td>\n",
       "      <td>0</td>\n",
       "      <td>0</td>\n",
       "      <td>0</td>\n",
       "      <td>0</td>\n",
       "    </tr>\n",
       "  </tbody>\n",
       "</table>\n",
       "<p>1283 rows × 16 columns</p>\n",
       "</div>"
      ],
      "text/plain": [
       "      Astrocyte  Inhibitory  Pericytes  Ambiguous  Endothelial1  Excitatory  \\\n",
       "0             0           2          0          1             1           0   \n",
       "1             0           0          0          1             0           0   \n",
       "2             0           0          0          1             0           0   \n",
       "3             0           0          0          0             0           0   \n",
       "4             0           0          0          0             1           0   \n",
       "...         ...         ...        ...        ...           ...         ...   \n",
       "1278          1           3          0          0             0           0   \n",
       "1279          0           2          0          0             0           1   \n",
       "1280          2           1          0          1             0           1   \n",
       "1281          1           2          0          1             2           0   \n",
       "1282          1           0          0          0             0           0   \n",
       "\n",
       "      ODImmature1  ODImmature2  Microglia  ODMature2  ODMature1  Endothelial3  \\\n",
       "0               1            0          0          1          2             1   \n",
       "1               0            0          0          4          0             0   \n",
       "2               0            0          0          2          1             0   \n",
       "3               0            0          0          2          1             0   \n",
       "4               0            0          1          1          0             1   \n",
       "...           ...          ...        ...        ...        ...           ...   \n",
       "1278            0            0          0          0          0             0   \n",
       "1279            0            0          0          0          0             0   \n",
       "1280            0            0          0          0          0             0   \n",
       "1281            0            0          0          0          0             0   \n",
       "1282            1            0          0          0          0             0   \n",
       "\n",
       "      ODMature3  ODMature4  Endothelial2  Ependymal  \n",
       "0             0          0             0          0  \n",
       "1             0          0             0          0  \n",
       "2             0          0             0          0  \n",
       "3             0          0             0          0  \n",
       "4             0          0             0          0  \n",
       "...         ...        ...           ...        ...  \n",
       "1278          0          0             0          0  \n",
       "1279          0          0             0          0  \n",
       "1280          0          0             0          0  \n",
       "1281          0          0             0          0  \n",
       "1282          0          0             0          0  \n",
       "\n",
       "[1283 rows x 16 columns]"
      ]
     },
     "execution_count": 9,
     "metadata": {},
     "output_type": "execute_result"
    }
   ],
   "source": [
    "genes = df_st.columns[:155]\n",
    "markers = reference.groupby('cell_type').agg(list).marker_gene\n",
    "celltypes = reference.cell_type.unique().tolist()\n",
    "if running_data == '2celltypes':\n",
    "    celltypes = ['Excitatory', 'Inhibitory']\n",
    "expressions = df_st.drop(columns=celltypes)\n",
    "expressions = MinMaxScaler().fit_transform(expressions)\n",
    "counts_st = pd.DataFrame(expressions, columns=genes)\n",
    "cellcount = pd.DataFrame(np.sum(df_st[celltypes], axis=1), columns=['cellcount'])\n",
    "typeCountDf = df_st[celltypes]\n",
    "typeCountDf"
   ]
  },
  {
   "cell_type": "code",
   "execution_count": 10,
   "id": "524270ff-3da1-43f3-a291-2bbf3fce0033",
   "metadata": {
    "colab": {
     "base_uri": "https://localhost:8080/"
    },
    "id": "524270ff-3da1-43f3-a291-2bbf3fce0033",
    "outputId": "9d80475f-6d46-4102-b202-eb8d56af4dc9"
   },
   "outputs": [
    {
     "name": "stdout",
     "output_type": "stream",
     "text": [
      "      cellcount\n",
      "0             9\n",
      "1             5\n",
      "2             4\n",
      "3             3\n",
      "4             4\n",
      "...         ...\n",
      "1278          4\n",
      "1279          3\n",
      "1280          5\n",
      "1281          6\n",
      "1282          2\n",
      "\n",
      "[1283 rows x 1 columns]\n",
      "zero count is cellcount    0\n",
      "dtype: int64\n"
     ]
    },
    {
     "data": {
      "text/plain": [
       "16"
      ]
     },
     "execution_count": 10,
     "metadata": {},
     "output_type": "execute_result"
    }
   ],
   "source": [
    "print(cellcount)\n",
    "zero = (cellcount==0).sum()\n",
    "print('zero count is',zero)\n",
    "len(celltypes)"
   ]
  },
  {
   "cell_type": "markdown",
   "id": "8905e07e-3c1a-414d-80a8-60bc62fba36e",
   "metadata": {
    "id": "8905e07e-3c1a-414d-80a8-60bc62fba36e"
   },
   "source": [
    "## Single-cell data"
   ]
  },
  {
   "cell_type": "code",
   "execution_count": 11,
   "id": "23df6a04-6ad2-4d36-a634-65ee063d69a0",
   "metadata": {
    "colab": {
     "base_uri": "https://localhost:8080/",
     "height": 342
    },
    "id": "23df6a04-6ad2-4d36-a634-65ee063d69a0",
    "outputId": "53ec25fd-14c7-4bee-a922-3d7c83961a60"
   },
   "outputs": [
    {
     "data": {
      "text/html": [
       "<div>\n",
       "<style scoped>\n",
       "    .dataframe tbody tr th:only-of-type {\n",
       "        vertical-align: middle;\n",
       "    }\n",
       "\n",
       "    .dataframe tbody tr th {\n",
       "        vertical-align: top;\n",
       "    }\n",
       "\n",
       "    .dataframe thead th {\n",
       "        text-align: right;\n",
       "    }\n",
       "</style>\n",
       "<table border=\"1\" class=\"dataframe\">\n",
       "  <thead>\n",
       "    <tr style=\"text-align: right;\">\n",
       "      <th></th>\n",
       "      <th>Cell_ID</th>\n",
       "      <th>Animal_ID</th>\n",
       "      <th>Animal_sex</th>\n",
       "      <th>Behavior</th>\n",
       "      <th>Bregma</th>\n",
       "      <th>Centroid_X</th>\n",
       "      <th>Centroid_Y</th>\n",
       "      <th>Cell_class</th>\n",
       "      <th>Neuron_cluster_ID</th>\n",
       "      <th>Ace2</th>\n",
       "      <th>...</th>\n",
       "      <th>Penk</th>\n",
       "      <th>Scg2</th>\n",
       "      <th>Sln</th>\n",
       "      <th>Sst</th>\n",
       "      <th>Tac1</th>\n",
       "      <th>Tac2</th>\n",
       "      <th>Th</th>\n",
       "      <th>Trh</th>\n",
       "      <th>Ucn3</th>\n",
       "      <th>Vgf</th>\n",
       "    </tr>\n",
       "  </thead>\n",
       "  <tbody>\n",
       "    <tr>\n",
       "      <th>0</th>\n",
       "      <td>1f9a8c19-b089-43d1-b609-7e791dc2c70f</td>\n",
       "      <td>1</td>\n",
       "      <td>Female</td>\n",
       "      <td>Naive</td>\n",
       "      <td>-0.24</td>\n",
       "      <td>-3749.176078</td>\n",
       "      <td>-3749.458442</td>\n",
       "      <td>Astrocyte</td>\n",
       "      <td>NaN</td>\n",
       "      <td>0.0</td>\n",
       "      <td>...</td>\n",
       "      <td>0.000000</td>\n",
       "      <td>0.0</td>\n",
       "      <td>0.000000</td>\n",
       "      <td>0.0</td>\n",
       "      <td>0.000000</td>\n",
       "      <td>0.000000</td>\n",
       "      <td>0.273327</td>\n",
       "      <td>0.0</td>\n",
       "      <td>0.003225</td>\n",
       "      <td>0.000000</td>\n",
       "    </tr>\n",
       "    <tr>\n",
       "      <th>1</th>\n",
       "      <td>b13e98f4-5c2b-4e96-985e-3e93aedc7221</td>\n",
       "      <td>1</td>\n",
       "      <td>Female</td>\n",
       "      <td>Naive</td>\n",
       "      <td>-0.24</td>\n",
       "      <td>-3746.226210</td>\n",
       "      <td>-3742.259347</td>\n",
       "      <td>Inhibitory</td>\n",
       "      <td>I-1</td>\n",
       "      <td>0.0</td>\n",
       "      <td>...</td>\n",
       "      <td>0.097542</td>\n",
       "      <td>0.0</td>\n",
       "      <td>0.000000</td>\n",
       "      <td>0.0</td>\n",
       "      <td>0.000000</td>\n",
       "      <td>0.016809</td>\n",
       "      <td>0.293094</td>\n",
       "      <td>0.0</td>\n",
       "      <td>0.006602</td>\n",
       "      <td>0.018258</td>\n",
       "    </tr>\n",
       "    <tr>\n",
       "      <th>2</th>\n",
       "      <td>d06cb29e-10ee-4bbc-b74e-90237999ef4b</td>\n",
       "      <td>1</td>\n",
       "      <td>Female</td>\n",
       "      <td>Naive</td>\n",
       "      <td>-0.24</td>\n",
       "      <td>-3742.897643</td>\n",
       "      <td>-3790.648737</td>\n",
       "      <td>Inhibitory</td>\n",
       "      <td>I-13</td>\n",
       "      <td>0.0</td>\n",
       "      <td>...</td>\n",
       "      <td>0.087302</td>\n",
       "      <td>0.0</td>\n",
       "      <td>0.063460</td>\n",
       "      <td>0.0</td>\n",
       "      <td>0.072791</td>\n",
       "      <td>0.000000</td>\n",
       "      <td>0.289555</td>\n",
       "      <td>0.0</td>\n",
       "      <td>0.000000</td>\n",
       "      <td>0.018325</td>\n",
       "    </tr>\n",
       "    <tr>\n",
       "      <th>3</th>\n",
       "      <td>12e2a165-57c7-4f37-96dd-23f6574af4ba</td>\n",
       "      <td>1</td>\n",
       "      <td>Female</td>\n",
       "      <td>Naive</td>\n",
       "      <td>-0.24</td>\n",
       "      <td>-3738.423005</td>\n",
       "      <td>-3773.259265</td>\n",
       "      <td>Inhibitory</td>\n",
       "      <td>I-19</td>\n",
       "      <td>0.0</td>\n",
       "      <td>...</td>\n",
       "      <td>0.098912</td>\n",
       "      <td>0.0</td>\n",
       "      <td>0.000000</td>\n",
       "      <td>0.0</td>\n",
       "      <td>0.048410</td>\n",
       "      <td>0.000000</td>\n",
       "      <td>0.247843</td>\n",
       "      <td>0.0</td>\n",
       "      <td>0.000000</td>\n",
       "      <td>0.008280</td>\n",
       "    </tr>\n",
       "    <tr>\n",
       "      <th>4</th>\n",
       "      <td>14a0f396-b13d-4d45-89a3-86c2047bf3f9</td>\n",
       "      <td>1</td>\n",
       "      <td>Female</td>\n",
       "      <td>Naive</td>\n",
       "      <td>-0.24</td>\n",
       "      <td>-3736.407620</td>\n",
       "      <td>-3895.590306</td>\n",
       "      <td>Pericytes</td>\n",
       "      <td>NaN</td>\n",
       "      <td>0.0</td>\n",
       "      <td>...</td>\n",
       "      <td>0.047054</td>\n",
       "      <td>0.0</td>\n",
       "      <td>0.178222</td>\n",
       "      <td>0.0</td>\n",
       "      <td>0.000000</td>\n",
       "      <td>0.000000</td>\n",
       "      <td>0.294404</td>\n",
       "      <td>0.0</td>\n",
       "      <td>0.000000</td>\n",
       "      <td>0.000000</td>\n",
       "    </tr>\n",
       "  </tbody>\n",
       "</table>\n",
       "<p>5 rows × 164 columns</p>\n",
       "</div>"
      ],
      "text/plain": [
       "                                Cell_ID  Animal_ID Animal_sex Behavior  \\\n",
       "0  1f9a8c19-b089-43d1-b609-7e791dc2c70f          1     Female    Naive   \n",
       "1  b13e98f4-5c2b-4e96-985e-3e93aedc7221          1     Female    Naive   \n",
       "2  d06cb29e-10ee-4bbc-b74e-90237999ef4b          1     Female    Naive   \n",
       "3  12e2a165-57c7-4f37-96dd-23f6574af4ba          1     Female    Naive   \n",
       "4  14a0f396-b13d-4d45-89a3-86c2047bf3f9          1     Female    Naive   \n",
       "\n",
       "   Bregma   Centroid_X   Centroid_Y  Cell_class Neuron_cluster_ID  Ace2  ...  \\\n",
       "0   -0.24 -3749.176078 -3749.458442   Astrocyte               NaN   0.0  ...   \n",
       "1   -0.24 -3746.226210 -3742.259347  Inhibitory               I-1   0.0  ...   \n",
       "2   -0.24 -3742.897643 -3790.648737  Inhibitory              I-13   0.0  ...   \n",
       "3   -0.24 -3738.423005 -3773.259265  Inhibitory              I-19   0.0  ...   \n",
       "4   -0.24 -3736.407620 -3895.590306   Pericytes               NaN   0.0  ...   \n",
       "\n",
       "       Penk  Scg2       Sln  Sst      Tac1      Tac2        Th  Trh      Ucn3  \\\n",
       "0  0.000000   0.0  0.000000  0.0  0.000000  0.000000  0.273327  0.0  0.003225   \n",
       "1  0.097542   0.0  0.000000  0.0  0.000000  0.016809  0.293094  0.0  0.006602   \n",
       "2  0.087302   0.0  0.063460  0.0  0.072791  0.000000  0.289555  0.0  0.000000   \n",
       "3  0.098912   0.0  0.000000  0.0  0.048410  0.000000  0.247843  0.0  0.000000   \n",
       "4  0.047054   0.0  0.178222  0.0  0.000000  0.000000  0.294404  0.0  0.000000   \n",
       "\n",
       "        Vgf  \n",
       "0  0.000000  \n",
       "1  0.018258  \n",
       "2  0.018325  \n",
       "3  0.008280  \n",
       "4  0.000000  \n",
       "\n",
       "[5 rows x 164 columns]"
      ]
     },
     "execution_count": 11,
     "metadata": {},
     "output_type": "execute_result"
    }
   ],
   "source": [
    "if running_data != '2celltypes':\n",
    "    df_sc = pd.read_csv(project_location + \"data/merfish/merfishVisium.csv\")\n",
    "else:\n",
    "    df_sc = pd.read_csv(project_location + \"data/FaultSingleCell.csv\")\n",
    "df_sc.head()"
   ]
  },
  {
   "cell_type": "code",
   "execution_count": 12,
   "id": "dc4a5656-557c-41c4-b957-be5dc8a86a21",
   "metadata": {
    "colab": {
     "base_uri": "https://localhost:8080/",
     "height": 206
    },
    "id": "dc4a5656-557c-41c4-b957-be5dc8a86a21",
    "outputId": "08dba24b-d916-4021-9c50-327dcfa51396"
   },
   "outputs": [
    {
     "data": {
      "text/html": [
       "<div>\n",
       "<style scoped>\n",
       "    .dataframe tbody tr th:only-of-type {\n",
       "        vertical-align: middle;\n",
       "    }\n",
       "\n",
       "    .dataframe tbody tr th {\n",
       "        vertical-align: top;\n",
       "    }\n",
       "\n",
       "    .dataframe thead th {\n",
       "        text-align: right;\n",
       "    }\n",
       "</style>\n",
       "<table border=\"1\" class=\"dataframe\">\n",
       "  <thead>\n",
       "    <tr style=\"text-align: right;\">\n",
       "      <th></th>\n",
       "      <th>Cell_ID</th>\n",
       "      <th>Animal_ID</th>\n",
       "      <th>Animal_sex</th>\n",
       "      <th>Behavior</th>\n",
       "      <th>Bregma</th>\n",
       "      <th>Centroid_X</th>\n",
       "      <th>Centroid_Y</th>\n",
       "      <th>Cell_class</th>\n",
       "      <th>Neuron_cluster_ID</th>\n",
       "    </tr>\n",
       "  </thead>\n",
       "  <tbody>\n",
       "    <tr>\n",
       "      <th>0</th>\n",
       "      <td>1f9a8c19-b089-43d1-b609-7e791dc2c70f</td>\n",
       "      <td>1</td>\n",
       "      <td>Female</td>\n",
       "      <td>Naive</td>\n",
       "      <td>-0.24</td>\n",
       "      <td>-3749.176078</td>\n",
       "      <td>-3749.458442</td>\n",
       "      <td>Astrocyte</td>\n",
       "      <td>NaN</td>\n",
       "    </tr>\n",
       "    <tr>\n",
       "      <th>1</th>\n",
       "      <td>b13e98f4-5c2b-4e96-985e-3e93aedc7221</td>\n",
       "      <td>1</td>\n",
       "      <td>Female</td>\n",
       "      <td>Naive</td>\n",
       "      <td>-0.24</td>\n",
       "      <td>-3746.226210</td>\n",
       "      <td>-3742.259347</td>\n",
       "      <td>Inhibitory</td>\n",
       "      <td>I-1</td>\n",
       "    </tr>\n",
       "    <tr>\n",
       "      <th>2</th>\n",
       "      <td>d06cb29e-10ee-4bbc-b74e-90237999ef4b</td>\n",
       "      <td>1</td>\n",
       "      <td>Female</td>\n",
       "      <td>Naive</td>\n",
       "      <td>-0.24</td>\n",
       "      <td>-3742.897643</td>\n",
       "      <td>-3790.648737</td>\n",
       "      <td>Inhibitory</td>\n",
       "      <td>I-13</td>\n",
       "    </tr>\n",
       "    <tr>\n",
       "      <th>3</th>\n",
       "      <td>12e2a165-57c7-4f37-96dd-23f6574af4ba</td>\n",
       "      <td>1</td>\n",
       "      <td>Female</td>\n",
       "      <td>Naive</td>\n",
       "      <td>-0.24</td>\n",
       "      <td>-3738.423005</td>\n",
       "      <td>-3773.259265</td>\n",
       "      <td>Inhibitory</td>\n",
       "      <td>I-19</td>\n",
       "    </tr>\n",
       "    <tr>\n",
       "      <th>4</th>\n",
       "      <td>14a0f396-b13d-4d45-89a3-86c2047bf3f9</td>\n",
       "      <td>1</td>\n",
       "      <td>Female</td>\n",
       "      <td>Naive</td>\n",
       "      <td>-0.24</td>\n",
       "      <td>-3736.407620</td>\n",
       "      <td>-3895.590306</td>\n",
       "      <td>Pericytes</td>\n",
       "      <td>NaN</td>\n",
       "    </tr>\n",
       "  </tbody>\n",
       "</table>\n",
       "</div>"
      ],
      "text/plain": [
       "                                Cell_ID  Animal_ID Animal_sex Behavior  \\\n",
       "0  1f9a8c19-b089-43d1-b609-7e791dc2c70f          1     Female    Naive   \n",
       "1  b13e98f4-5c2b-4e96-985e-3e93aedc7221          1     Female    Naive   \n",
       "2  d06cb29e-10ee-4bbc-b74e-90237999ef4b          1     Female    Naive   \n",
       "3  12e2a165-57c7-4f37-96dd-23f6574af4ba          1     Female    Naive   \n",
       "4  14a0f396-b13d-4d45-89a3-86c2047bf3f9          1     Female    Naive   \n",
       "\n",
       "   Bregma   Centroid_X   Centroid_Y  Cell_class Neuron_cluster_ID  \n",
       "0   -0.24 -3749.176078 -3749.458442   Astrocyte               NaN  \n",
       "1   -0.24 -3746.226210 -3742.259347  Inhibitory               I-1  \n",
       "2   -0.24 -3742.897643 -3790.648737  Inhibitory              I-13  \n",
       "3   -0.24 -3738.423005 -3773.259265  Inhibitory              I-19  \n",
       "4   -0.24 -3736.407620 -3895.590306   Pericytes               NaN  "
      ]
     },
     "execution_count": 12,
     "metadata": {},
     "output_type": "execute_result"
    }
   ],
   "source": [
    "counts_sc = df_sc[genes]\n",
    "obs_sc = df_sc[[x for x in df_sc.columns if x not in genes]]\n",
    "obs_sc.head()"
   ]
  },
  {
   "cell_type": "code",
   "execution_count": 13,
   "id": "d255844f",
   "metadata": {},
   "outputs": [],
   "source": [
    "df_sc.head()\n",
    "cellTypeColumn= df_sc[\"Cell_class\"].to_numpy()"
   ]
  },
  {
   "cell_type": "markdown",
   "id": "d2872087-f05b-4d88-b97d-1f609fa252a3",
   "metadata": {
    "id": "d2872087-f05b-4d88-b97d-1f609fa252a3"
   },
   "source": [
    "# Tangram"
   ]
  },
  {
   "cell_type": "code",
   "execution_count": 14,
   "id": "3f449636-4b11-47a4-8543-8dae8f71b4ba",
   "metadata": {
    "colab": {
     "base_uri": "https://localhost:8080/"
    },
    "id": "3f449636-4b11-47a4-8543-8dae8f71b4ba",
    "outputId": "18aeaf08-1137-4a7d-bede-ed1aca6abe2e"
   },
   "outputs": [
    {
     "name": "stdout",
     "output_type": "stream",
     "text": [
      "(6412, 155)\n",
      "(1283, 155)\n"
     ]
    }
   ],
   "source": [
    "adata_sc = ad.AnnData(counts_sc)\n",
    "adata_st = ad.AnnData(counts_st, obs=cellcount)\n",
    "print(adata_sc.shape)\n",
    "print(adata_st.shape)"
   ]
  },
  {
   "cell_type": "code",
   "execution_count": 15,
   "id": "0de9d4a8-ac4e-4b9e-abbd-7927cb30d35d",
   "metadata": {
    "colab": {
     "base_uri": "https://localhost:8080/"
    },
    "id": "0de9d4a8-ac4e-4b9e-abbd-7927cb30d35d",
    "outputId": "8d602a50-8df2-47eb-a530-aab016667b4d"
   },
   "outputs": [
    {
     "data": {
      "text/plain": [
       "0"
      ]
     },
     "execution_count": 15,
     "metadata": {},
     "output_type": "execute_result"
    }
   ],
   "source": [
    "adata_st.obs.head()\n",
    "zeroCount=(obs_sc[\"Cell_class\"]==0).sum()\n",
    "zeroCount"
   ]
  },
  {
   "cell_type": "code",
   "execution_count": 16,
   "id": "2d5914a0-ce64-47a0-ac5c-86f09264a6e7",
   "metadata": {
    "colab": {
     "base_uri": "https://localhost:8080/"
    },
    "id": "2d5914a0-ce64-47a0-ac5c-86f09264a6e7",
    "outputId": "395a6ea8-3461-4e10-f0b8-45491fd9dbc0"
   },
   "outputs": [
    {
     "name": "stderr",
     "output_type": "stream",
     "text": [
      "INFO:root:155 training genes are saved in `uns``training_genes` of both single cell and spatial Anndatas.\n",
      "INFO:root:155 overlapped genes are saved in `uns``overlap_genes` of both single cell and spatial Anndatas.\n",
      "INFO:root:uniform based density prior is calculated and saved in `obs``uniform_density` of the spatial Anndata.\n",
      "INFO:root:rna count based density prior is calculated and saved in `obs``rna_count_based_density` of the spatial Anndata.\n"
     ]
    }
   ],
   "source": [
    "tg.pp_adatas(adata_sc, adata_st, genes=None)"
   ]
  },
  {
   "cell_type": "code",
   "execution_count": 17,
   "id": "92f12376-0bab-4a09-b307-2ea3d5439aa5",
   "metadata": {
    "id": "92f12376-0bab-4a09-b307-2ea3d5439aa5"
   },
   "outputs": [],
   "source": [
    "# adata_map_rna = tg.map_cells_to_space(adata_sc, adata_st, device=device, num_epochs=500)"
   ]
  },
  {
   "cell_type": "code",
   "execution_count": 18,
   "id": "d7e49cb0-baa2-4fd4-89f2-2e149c9b2101",
   "metadata": {
    "colab": {
     "base_uri": "https://localhost:8080/"
    },
    "id": "d7e49cb0-baa2-4fd4-89f2-2e149c9b2101",
    "outputId": "acb11764-1dd3-4ec1-afff-b745558c87e8"
   },
   "outputs": [
    {
     "name": "stderr",
     "output_type": "stream",
     "text": [
      "INFO:root:Allocate tensors for mapping.\n",
      "INFO:root:Begin training with 155 genes and customized density_prior in cells mode...\n",
      "INFO:root:Printing scores every 100 epochs.\n"
     ]
    },
    {
     "name": "stdout",
     "output_type": "stream",
     "text": [
      "Score: 0.583, KL reg: 0.077\n",
      "Score: 0.993, KL reg: 0.000\n",
      "Score: 0.998, KL reg: 0.000\n",
      "Score: 0.999, KL reg: 0.000\n",
      "Score: 0.999, KL reg: 0.000\n"
     ]
    },
    {
     "name": "stderr",
     "output_type": "stream",
     "text": [
      "INFO:root:Saving results..\n"
     ]
    }
   ],
   "source": [
    "adata_map_cellcount = tg.map_cells_to_space(\n",
    "    adata_sc,\n",
    "    adata_st,\n",
    "    target_count=adata_st.obs.cellcount.sum(),\n",
    "    density_prior=np.array(adata_st.obs.cellcount) / adata_st.obs.cellcount.sum(),\n",
    "    device=device,\n",
    "    num_epochs=500\n",
    ")\n",
    "probabilityDf = adata_map_cellcount.to_df()"
   ]
  },
  {
   "cell_type": "code",
   "execution_count": 19,
   "id": "f9c6d70c",
   "metadata": {
    "colab": {
     "base_uri": "https://localhost:8080/"
    },
    "id": "f9c6d70c",
    "outputId": "8274dd1c-8938-436a-9d3b-cb480ae8dd95"
   },
   "outputs": [
    {
     "name": "stdout",
     "output_type": "stream",
     "text": [
      "   cellcount\n",
      "0          9\n",
      "1          5\n",
      "2          4\n",
      "3          3\n",
      "4          4\n",
      "<class 'numpy.int64'>\n"
     ]
    },
    {
     "data": {
      "text/plain": [
       "5"
      ]
     },
     "execution_count": 19,
     "metadata": {},
     "output_type": "execute_result"
    }
   ],
   "source": [
    "probabilityDf.shape\n",
    "# probabilityDf.head()\n",
    "print(cellcount.head())\n",
    "print(type(cellcount.iloc[2,0]))\n",
    "cellcount.iloc[1,0]"
   ]
  },
  {
   "cell_type": "markdown",
   "id": "7e4c8d2c",
   "metadata": {
    "id": "7e4c8d2c"
   },
   "source": [
    "# Probability analysis"
   ]
  },
  {
   "cell_type": "code",
   "execution_count": 33,
   "id": "bb878f38",
   "metadata": {},
   "outputs": [
    {
     "name": "stdout",
     "output_type": "stream",
     "text": [
      "1283 16\n"
     ]
    },
    {
     "data": {
      "text/html": [
       "<div>\n",
       "<style scoped>\n",
       "    .dataframe tbody tr th:only-of-type {\n",
       "        vertical-align: middle;\n",
       "    }\n",
       "\n",
       "    .dataframe tbody tr th {\n",
       "        vertical-align: top;\n",
       "    }\n",
       "\n",
       "    .dataframe thead th {\n",
       "        text-align: right;\n",
       "    }\n",
       "</style>\n",
       "<table border=\"1\" class=\"dataframe\">\n",
       "  <thead>\n",
       "    <tr style=\"text-align: right;\">\n",
       "      <th></th>\n",
       "      <th>Astrocyte</th>\n",
       "      <th>Inhibitory</th>\n",
       "      <th>Pericytes</th>\n",
       "      <th>Ambiguous</th>\n",
       "      <th>Endothelial1</th>\n",
       "      <th>Excitatory</th>\n",
       "      <th>ODImmature1</th>\n",
       "      <th>ODImmature2</th>\n",
       "      <th>Microglia</th>\n",
       "      <th>ODMature2</th>\n",
       "      <th>ODMature1</th>\n",
       "      <th>Endothelial3</th>\n",
       "      <th>ODMature3</th>\n",
       "      <th>ODMature4</th>\n",
       "      <th>Endothelial2</th>\n",
       "      <th>Ependymal</th>\n",
       "    </tr>\n",
       "  </thead>\n",
       "  <tbody>\n",
       "    <tr>\n",
       "      <th>0</th>\n",
       "      <td>0</td>\n",
       "      <td>2</td>\n",
       "      <td>0</td>\n",
       "      <td>1</td>\n",
       "      <td>1</td>\n",
       "      <td>0</td>\n",
       "      <td>1</td>\n",
       "      <td>0</td>\n",
       "      <td>0</td>\n",
       "      <td>1</td>\n",
       "      <td>2</td>\n",
       "      <td>1</td>\n",
       "      <td>0</td>\n",
       "      <td>0</td>\n",
       "      <td>0</td>\n",
       "      <td>0</td>\n",
       "    </tr>\n",
       "    <tr>\n",
       "      <th>1</th>\n",
       "      <td>0</td>\n",
       "      <td>0</td>\n",
       "      <td>0</td>\n",
       "      <td>1</td>\n",
       "      <td>0</td>\n",
       "      <td>0</td>\n",
       "      <td>0</td>\n",
       "      <td>0</td>\n",
       "      <td>0</td>\n",
       "      <td>4</td>\n",
       "      <td>0</td>\n",
       "      <td>0</td>\n",
       "      <td>0</td>\n",
       "      <td>0</td>\n",
       "      <td>0</td>\n",
       "      <td>0</td>\n",
       "    </tr>\n",
       "    <tr>\n",
       "      <th>2</th>\n",
       "      <td>0</td>\n",
       "      <td>0</td>\n",
       "      <td>0</td>\n",
       "      <td>1</td>\n",
       "      <td>0</td>\n",
       "      <td>0</td>\n",
       "      <td>0</td>\n",
       "      <td>0</td>\n",
       "      <td>0</td>\n",
       "      <td>2</td>\n",
       "      <td>1</td>\n",
       "      <td>0</td>\n",
       "      <td>0</td>\n",
       "      <td>0</td>\n",
       "      <td>0</td>\n",
       "      <td>0</td>\n",
       "    </tr>\n",
       "    <tr>\n",
       "      <th>3</th>\n",
       "      <td>0</td>\n",
       "      <td>0</td>\n",
       "      <td>0</td>\n",
       "      <td>0</td>\n",
       "      <td>0</td>\n",
       "      <td>0</td>\n",
       "      <td>0</td>\n",
       "      <td>0</td>\n",
       "      <td>0</td>\n",
       "      <td>2</td>\n",
       "      <td>1</td>\n",
       "      <td>0</td>\n",
       "      <td>0</td>\n",
       "      <td>0</td>\n",
       "      <td>0</td>\n",
       "      <td>0</td>\n",
       "    </tr>\n",
       "    <tr>\n",
       "      <th>4</th>\n",
       "      <td>0</td>\n",
       "      <td>0</td>\n",
       "      <td>0</td>\n",
       "      <td>0</td>\n",
       "      <td>1</td>\n",
       "      <td>0</td>\n",
       "      <td>0</td>\n",
       "      <td>0</td>\n",
       "      <td>1</td>\n",
       "      <td>1</td>\n",
       "      <td>0</td>\n",
       "      <td>1</td>\n",
       "      <td>0</td>\n",
       "      <td>0</td>\n",
       "      <td>0</td>\n",
       "      <td>0</td>\n",
       "    </tr>\n",
       "  </tbody>\n",
       "</table>\n",
       "</div>"
      ],
      "text/plain": [
       "   Astrocyte  Inhibitory  Pericytes  Ambiguous  Endothelial1  Excitatory  \\\n",
       "0          0           2          0          1             1           0   \n",
       "1          0           0          0          1             0           0   \n",
       "2          0           0          0          1             0           0   \n",
       "3          0           0          0          0             0           0   \n",
       "4          0           0          0          0             1           0   \n",
       "\n",
       "   ODImmature1  ODImmature2  Microglia  ODMature2  ODMature1  Endothelial3  \\\n",
       "0            1            0          0          1          2             1   \n",
       "1            0            0          0          4          0             0   \n",
       "2            0            0          0          2          1             0   \n",
       "3            0            0          0          2          1             0   \n",
       "4            0            0          1          1          0             1   \n",
       "\n",
       "   ODMature3  ODMature4  Endothelial2  Ependymal  \n",
       "0          0          0             0          0  \n",
       "1          0          0             0          0  \n",
       "2          0          0             0          0  \n",
       "3          0          0             0          0  \n",
       "4          0          0             0          0  "
      ]
     },
     "execution_count": 33,
     "metadata": {},
     "output_type": "execute_result"
    }
   ],
   "source": [
    "Nrows = len(df_st)\n",
    "Ncols = len(celltypes)\n",
    "print(Nrows, Ncols)\n",
    "probabilityDf[\"Cell_class\"]=cellTypeColumn\n",
    "# print(probabilityDf[\"Cell_class\"])\n",
    "\n",
    "df_prediction = pd.DataFrame(np.zeros((Nrows,Ncols)),columns=celltypes)\n",
    "tempDf = probabilityDf.copy()\n",
    "\n",
    "for i in range(Nrows):\n",
    "    tempDf= tempDf.sort_values(by=[str(i)], ascending=False)\n",
    "    \n",
    "    for  j in range(cellcount.iloc[i,0]):\n",
    "        cellClass = tempDf.iloc[j][\"Cell_class\"]\n",
    "        df_prediction.iloc[i][cellClass]+=1\n",
    "\n",
    "df_prediction = df_prediction.astype(int)\n",
    "deconvolveDf = df_prediction.copy()\n",
    "df_prediction.head()"
   ]
  },
  {
   "cell_type": "code",
   "execution_count": 21,
   "id": "789b580e",
   "metadata": {
    "colab": {
     "base_uri": "https://localhost:8080/"
    },
    "id": "789b580e",
    "outputId": "7a6f0d79-9e30-4339-afec-0ce67a659fed"
   },
   "outputs": [],
   "source": [
    "# np.argmax(probabilityDf.iloc[2])\n",
    "# # probabilityDf.iloc[2,1247]\n",
    "\n",
    "# Nrows = len(df_st)\n",
    "# Ncols = len(celltypes)\n",
    "# print(Nrows, Ncols)\n",
    "\n",
    "# df_prediction = pd.DataFrame(np.zeros((Nrows,Ncols)),columns=celltypes)\n",
    "# for i in range(len(probabilityDf)):\n",
    "#     spotNo = np.argmax(probabilityDf.iloc[i])\n",
    "#     cellClass = obs_sc.loc[i,\"Cell_class\"]\n",
    "#     df_prediction.loc[spotNo,cellClass] = df_prediction.loc[spotNo,cellClass] + 1\n",
    "\n",
    "\n",
    "# df_prediction = df_prediction.astype(int)\n",
    "# deconvolveDf = df_prediction.copy()\n",
    "# df_prediction.shape"
   ]
  },
  {
   "cell_type": "code",
   "execution_count": 22,
   "id": "c34c713a",
   "metadata": {
    "colab": {
     "base_uri": "https://localhost:8080/",
     "height": 226
    },
    "id": "c34c713a",
    "outputId": "6b39587d-b6db-42a0-f5b6-db12b0afcbe6"
   },
   "outputs": [
    {
     "data": {
      "text/html": [
       "<div>\n",
       "<style scoped>\n",
       "    .dataframe tbody tr th:only-of-type {\n",
       "        vertical-align: middle;\n",
       "    }\n",
       "\n",
       "    .dataframe tbody tr th {\n",
       "        vertical-align: top;\n",
       "    }\n",
       "\n",
       "    .dataframe thead th {\n",
       "        text-align: right;\n",
       "    }\n",
       "</style>\n",
       "<table border=\"1\" class=\"dataframe\">\n",
       "  <thead>\n",
       "    <tr style=\"text-align: right;\">\n",
       "      <th></th>\n",
       "      <th>Astrocyte</th>\n",
       "      <th>Inhibitory</th>\n",
       "      <th>Pericytes</th>\n",
       "      <th>Ambiguous</th>\n",
       "      <th>Endothelial1</th>\n",
       "      <th>Excitatory</th>\n",
       "      <th>ODImmature1</th>\n",
       "      <th>ODImmature2</th>\n",
       "      <th>Microglia</th>\n",
       "      <th>ODMature2</th>\n",
       "      <th>ODMature1</th>\n",
       "      <th>Endothelial3</th>\n",
       "      <th>ODMature3</th>\n",
       "      <th>ODMature4</th>\n",
       "      <th>Endothelial2</th>\n",
       "      <th>Ependymal</th>\n",
       "    </tr>\n",
       "  </thead>\n",
       "  <tbody>\n",
       "    <tr>\n",
       "      <th>0</th>\n",
       "      <td>2</td>\n",
       "      <td>2</td>\n",
       "      <td>0</td>\n",
       "      <td>1</td>\n",
       "      <td>0</td>\n",
       "      <td>4</td>\n",
       "      <td>0</td>\n",
       "      <td>0</td>\n",
       "      <td>0</td>\n",
       "      <td>0</td>\n",
       "      <td>0</td>\n",
       "      <td>0</td>\n",
       "      <td>0</td>\n",
       "      <td>0</td>\n",
       "      <td>0</td>\n",
       "      <td>0</td>\n",
       "    </tr>\n",
       "    <tr>\n",
       "      <th>1</th>\n",
       "      <td>0</td>\n",
       "      <td>2</td>\n",
       "      <td>0</td>\n",
       "      <td>2</td>\n",
       "      <td>0</td>\n",
       "      <td>1</td>\n",
       "      <td>0</td>\n",
       "      <td>0</td>\n",
       "      <td>0</td>\n",
       "      <td>0</td>\n",
       "      <td>0</td>\n",
       "      <td>0</td>\n",
       "      <td>0</td>\n",
       "      <td>0</td>\n",
       "      <td>0</td>\n",
       "      <td>0</td>\n",
       "    </tr>\n",
       "    <tr>\n",
       "      <th>2</th>\n",
       "      <td>1</td>\n",
       "      <td>2</td>\n",
       "      <td>0</td>\n",
       "      <td>0</td>\n",
       "      <td>1</td>\n",
       "      <td>0</td>\n",
       "      <td>0</td>\n",
       "      <td>0</td>\n",
       "      <td>0</td>\n",
       "      <td>0</td>\n",
       "      <td>0</td>\n",
       "      <td>0</td>\n",
       "      <td>0</td>\n",
       "      <td>0</td>\n",
       "      <td>0</td>\n",
       "      <td>0</td>\n",
       "    </tr>\n",
       "    <tr>\n",
       "      <th>3</th>\n",
       "      <td>0</td>\n",
       "      <td>1</td>\n",
       "      <td>0</td>\n",
       "      <td>0</td>\n",
       "      <td>0</td>\n",
       "      <td>2</td>\n",
       "      <td>0</td>\n",
       "      <td>0</td>\n",
       "      <td>0</td>\n",
       "      <td>0</td>\n",
       "      <td>0</td>\n",
       "      <td>0</td>\n",
       "      <td>0</td>\n",
       "      <td>0</td>\n",
       "      <td>0</td>\n",
       "      <td>0</td>\n",
       "    </tr>\n",
       "    <tr>\n",
       "      <th>4</th>\n",
       "      <td>0</td>\n",
       "      <td>2</td>\n",
       "      <td>0</td>\n",
       "      <td>2</td>\n",
       "      <td>0</td>\n",
       "      <td>0</td>\n",
       "      <td>0</td>\n",
       "      <td>0</td>\n",
       "      <td>0</td>\n",
       "      <td>0</td>\n",
       "      <td>0</td>\n",
       "      <td>0</td>\n",
       "      <td>0</td>\n",
       "      <td>0</td>\n",
       "      <td>0</td>\n",
       "      <td>0</td>\n",
       "    </tr>\n",
       "  </tbody>\n",
       "</table>\n",
       "</div>"
      ],
      "text/plain": [
       "   Astrocyte  Inhibitory  Pericytes  Ambiguous  Endothelial1  Excitatory  \\\n",
       "0          2           2          0          1             0           4   \n",
       "1          0           2          0          2             0           1   \n",
       "2          1           2          0          0             1           0   \n",
       "3          0           1          0          0             0           2   \n",
       "4          0           2          0          2             0           0   \n",
       "\n",
       "   ODImmature1  ODImmature2  Microglia  ODMature2  ODMature1  Endothelial3  \\\n",
       "0            0            0          0          0          0             0   \n",
       "1            0            0          0          0          0             0   \n",
       "2            0            0          0          0          0             0   \n",
       "3            0            0          0          0          0             0   \n",
       "4            0            0          0          0          0             0   \n",
       "\n",
       "   ODMature3  ODMature4  Endothelial2  Ependymal  \n",
       "0          0          0             0          0  \n",
       "1          0          0             0          0  \n",
       "2          0          0             0          0  \n",
       "3          0          0             0          0  \n",
       "4          0          0             0          0  "
      ]
     },
     "execution_count": 22,
     "metadata": {},
     "output_type": "execute_result"
    }
   ],
   "source": [
    "df_prediction.head()"
   ]
  },
  {
   "cell_type": "code",
   "execution_count": 35,
   "id": "7f6bd001",
   "metadata": {
    "id": "7f6bd001"
   },
   "outputs": [],
   "source": [
    "for i in range(len(df_prediction)):\n",
    "    deconvolveDf.iloc[i] = 100 * df_prediction.iloc[i]/df_prediction.iloc[i].sum()"
   ]
  },
  {
   "cell_type": "code",
   "execution_count": 36,
   "id": "fbcf15c0",
   "metadata": {
    "colab": {
     "base_uri": "https://localhost:8080/"
    },
    "id": "fbcf15c0",
    "outputId": "da73bf2e-3edb-4ab2-d1fc-82489ae911e4"
   },
   "outputs": [
    {
     "name": "stdout",
     "output_type": "stream",
     "text": [
      "   Astrocyte  Inhibitory  Pericytes  Ambiguous  Endothelial1  Excitatory  \\\n",
      "0        0.0   22.222222        0.0  11.111111     11.111111         0.0   \n",
      "1        0.0    0.000000        0.0  20.000000      0.000000         0.0   \n",
      "2        0.0    0.000000        0.0  25.000000      0.000000         0.0   \n",
      "3        0.0    0.000000        0.0   0.000000      0.000000         0.0   \n",
      "4        0.0    0.000000        0.0   0.000000     25.000000         0.0   \n",
      "\n",
      "   ODImmature1  ODImmature2  Microglia  ODMature2  ODMature1  Endothelial3  \\\n",
      "0    11.111111          0.0        0.0  11.111111  22.222222     11.111111   \n",
      "1     0.000000          0.0        0.0  80.000000   0.000000      0.000000   \n",
      "2     0.000000          0.0        0.0  50.000000  25.000000      0.000000   \n",
      "3     0.000000          0.0        0.0  66.666667  33.333333      0.000000   \n",
      "4     0.000000          0.0       25.0  25.000000   0.000000     25.000000   \n",
      "\n",
      "   ODMature3  ODMature4  Endothelial2  Ependymal  \n",
      "0        0.0        0.0           0.0        0.0  \n",
      "1        0.0        0.0           0.0        0.0  \n",
      "2        0.0        0.0           0.0        0.0  \n",
      "3        0.0        0.0           0.0        0.0  \n",
      "4        0.0        0.0           0.0        0.0  \n"
     ]
    },
    {
     "data": {
      "text/plain": [
       "Astrocyte       0\n",
       "Inhibitory      0\n",
       "Pericytes       0\n",
       "Ambiguous       0\n",
       "Endothelial1    0\n",
       "Excitatory      0\n",
       "ODImmature1     0\n",
       "ODImmature2     0\n",
       "Microglia       0\n",
       "ODMature2       0\n",
       "ODMature1       0\n",
       "Endothelial3    0\n",
       "ODMature3       0\n",
       "ODMature4       0\n",
       "Endothelial2    0\n",
       "Ependymal       0\n",
       "dtype: int64"
      ]
     },
     "execution_count": 36,
     "metadata": {},
     "output_type": "execute_result"
    }
   ],
   "source": [
    "print(deconvolveDf.head())\n",
    "deconvolveDf.to_csv(\"tangramDeconvolved.csv\",index= False)\n",
    "deconvolveDf.isnull().sum(axis = 0)"
   ]
  },
  {
   "cell_type": "code",
   "execution_count": 37,
   "id": "fef1a5a9",
   "metadata": {
    "id": "fef1a5a9"
   },
   "outputs": [],
   "source": [
    "# cellDict={}\n",
    "# for  c in ['Astrocyte']:\n",
    "#     uniqueCounts= (typeCountDf[c].unique())\n",
    "#     uniqueCounts = np.sort(uniqueCounts)\n",
    "#     for val in uniqueCounts:\n",
    "#         cellDict[val]=[deconvolveDf.iloc[Index][c] for Index  in range(len(deconvolveDf))  if abs(typeCountDf.iloc[Index][c]-val)<0.0000001 ]\n",
    "#     # print(cellDict[0])\n",
    "\n",
    "#     fig, ax  = plt.subplots()\n",
    "#     ax.boxplot(cellDict.values())\n",
    "#     ax.set_xticklabels(cellDict.keys())\n",
    "\n",
    "#     scatterDict={\n",
    "#         \"count\": typeCountDf[c],\n",
    "#         \"fraction\":deconvolveDf[c],\n",
    "#     }\n",
    "#     scatterDf=pd.DataFrame(scatterDict)   \n",
    "#     ax1 = scatterDf.plot.scatter(x='count',\n",
    "#                       y='fraction',\n",
    "#                     )\n",
    "#     # pdf = matplotlib.backends.backend_pdf.PdfPages(\"./output/merfish/tangram2c\"+c+\".pdf\")\n",
    "#     # pdf.savefig(ax)\n",
    "#     # pdf.savefig(ax1)"
   ]
  },
  {
   "cell_type": "markdown",
   "id": "271e5c9a-6b82-407d-a7be-d23354879dcf",
   "metadata": {
    "id": "271e5c9a-6b82-407d-a7be-d23354879dcf"
   },
   "source": [
    "# Spatial data exploration"
   ]
  },
  {
   "cell_type": "code",
   "execution_count": 38,
   "id": "01bb8151-4775-48d9-9e75-cfcdc767ac46",
   "metadata": {
    "colab": {
     "base_uri": "https://localhost:8080/"
    },
    "id": "01bb8151-4775-48d9-9e75-cfcdc767ac46",
    "outputId": "921e44f4-fea4-447b-d6f0-fe926377ae5e"
   },
   "outputs": [
    {
     "name": "stdout",
     "output_type": "stream",
     "text": [
      "3 Inhibitory 33.333333333333336\n",
      "2 Inhibitory 50.0\n",
      "2 Ambiguous 50.0\n",
      "3 Ambiguous 33.333333333333336\n",
      "3 Excitatory 33.333333333333336\n",
      "2 Excitatory 50.0\n",
      "2 Endothelial3 50.0\n"
     ]
    }
   ],
   "source": [
    "cnt_ = 0\n",
    "for j in range(deconvolveDf.shape[1]):\n",
    "    for i in range(deconvolveDf.shape[0]):\n",
    "        # if celltype-specific cellcount is zero and deconvolution percentage > threshold\n",
    "        if typeCountDf.iloc[i,j] == 0 and deconvolveDf.iloc[i,j] > 25:\n",
    "            print(cellcount.iloc[i][0], deconvolveDf.columns[j], deconvolveDf.iloc[i,j])\n",
    "            cnt_ += 1\n",
    "            if cnt_ > 10:\n",
    "                break"
   ]
  },
  {
   "cell_type": "code",
   "execution_count": 39,
   "id": "2bef1a1e-82be-479d-a16f-3fdba9b69b5e",
   "metadata": {
    "colab": {
     "base_uri": "https://localhost:8080/"
    },
    "id": "2bef1a1e-82be-479d-a16f-3fdba9b69b5e",
    "outputId": "c0d02d25-d83e-40d7-9596-ecef36508ae2"
   },
   "outputs": [
    {
     "data": {
      "text/plain": [
       "cellcount\n",
       "5            279\n",
       "4            247\n",
       "6            212\n",
       "3            179\n",
       "7            126\n",
       "2             82\n",
       "8             67\n",
       "9             38\n",
       "1             28\n",
       "10            17\n",
       "11             6\n",
       "12             1\n",
       "13             1\n",
       "dtype: int64"
      ]
     },
     "execution_count": 39,
     "metadata": {},
     "output_type": "execute_result"
    }
   ],
   "source": [
    "cellcount.value_counts()"
   ]
  },
  {
   "cell_type": "markdown",
   "id": "575ef18c-1bda-41f2-b2c1-db8cd6a2e437",
   "metadata": {
    "id": "575ef18c-1bda-41f2-b2c1-db8cd6a2e437"
   },
   "source": [
    "# TANGRAM mispredictions"
   ]
  },
  {
   "cell_type": "code",
   "execution_count": 40,
   "id": "1f356b71-b53f-4ba6-a8b2-88033d5b7b85",
   "metadata": {
    "id": "1f356b71-b53f-4ba6-a8b2-88033d5b7b85"
   },
   "outputs": [],
   "source": [
    "l = np.max(cellcount.values) + 1\n",
    "count_misprediction = dict.fromkeys(celltypes)\n",
    "for i in count_misprediction:\n",
    "    count_misprediction[i] = dict.fromkeys(range(l))\n",
    "    for j in count_misprediction[i]:\n",
    "        count_misprediction[i][j] = [0, 0, dict.fromkeys(celltypes,0)]\n",
    "\n",
    "for j in range(df_prediction.shape[1]):\n",
    "    for i in range(df_prediction.shape[0]):\n",
    "        actual_count = typeCountDf.iloc[i,j]\n",
    "        predicted_count = df_prediction.iloc[i,j]\n",
    "        tarr = count_misprediction[df_prediction.columns[j]][typeCountDf.iloc[i,j]]\n",
    "        tarr[0] += 1\n",
    "        if typeCountDf.iloc[i,j] != df_prediction.iloc[i,j]:\n",
    "            tarr[1] += 1\n",
    "            tarr[2] = {k: tarr[2].get(k, 0) + typeCountDf.iloc[i,:].to_dict().get(k, 0) \\\n",
    "                       for k in tarr[2].keys() | typeCountDf.iloc[i,:].to_dict().keys()}"
   ]
  },
  {
   "cell_type": "markdown",
   "id": "ea4cfa95-040d-4f10-976f-b451b40b88c7",
   "metadata": {
    "id": "ea4cfa95-040d-4f10-976f-b451b40b88c7"
   },
   "source": [
    "Plotting for each celltype the number of spots with mispredictions"
   ]
  },
  {
   "cell_type": "code",
   "execution_count": 41,
   "id": "4a55e892-bd29-4767-b385-ba735e325320",
   "metadata": {
    "colab": {
     "base_uri": "https://localhost:8080/",
     "height": 847
    },
    "id": "4a55e892-bd29-4767-b385-ba735e325320",
    "outputId": "19bbc416-47ec-4b65-c339-b7fd90149ef1"
   },
   "outputs": [
    {
     "data": {
      "image/png": "[encoded data removed]",
      "text/plain": [
       "<Figure size 1440x1080 with 16 Axes>"
      ]
     },
     "metadata": {
      "needs_background": "light"
     },
     "output_type": "display_data"
    }
   ],
   "source": [
    "plt.rcParams['figure.figsize'] = [20,15]\n",
    "\n",
    "for i, celltype in enumerate(celltypes):\n",
    "    x = list(count_misprediction[celltype].keys())\n",
    "    y = np.array(list(count_misprediction[celltype].values()))\n",
    "    plt.subplot(4, 4, i+1)\n",
    "    bar = plt.bar(x, y[:,1], width=0.8, color='g')\n",
    "    for j, rect in enumerate(bar):\n",
    "        height = rect.get_height()\n",
    "        plt.text(rect.get_x() + rect.get_width() / 2.0, height, f'{y[j,0]:.0f}', ha='center', va='bottom')\n",
    "    plt.title(celltype)\n",
    "    plt.tight_layout()\n",
    "    \n",
    "plt.rcParams['figure.figsize'] = [10,5]"
   ]
  },
  {
   "cell_type": "markdown",
   "id": "69a01dff-5b0f-4f68-a943-41e6bef84818",
   "metadata": {
    "id": "69a01dff-5b0f-4f68-a943-41e6bef84818"
   },
   "source": [
    "Plotting for each celltype the percentage of spots with mispredictions"
   ]
  },
  {
   "cell_type": "code",
   "execution_count": 42,
   "id": "4ae8dd52-ad99-4335-94e9-6b1dfb58f3c2",
   "metadata": {
    "colab": {
     "base_uri": "https://localhost:8080/",
     "height": 847
    },
    "id": "4ae8dd52-ad99-4335-94e9-6b1dfb58f3c2",
    "outputId": "d7c7d5f3-90eb-483b-ed00-79629e08ac0b"
   },
   "outputs": [
    {
     "data": {
      "image/png": "[encoded data removed]",
      "text/plain": [
       "<Figure size 1440x1080 with 16 Axes>"
      ]
     },
     "metadata": {
      "needs_background": "light"
     },
     "output_type": "display_data"
    }
   ],
   "source": [
    "plt.rcParams['figure.figsize'] = [20,15]\n",
    "\n",
    "for i, celltype in enumerate(celltypes):\n",
    "    x = list(count_misprediction[celltype].keys())\n",
    "    _y = np.array(list(count_misprediction[celltype].values()))[:,:2].astype(int)\n",
    "    y = np.nan_to_num((_y[:,1] / _y[:,0]) * 100)\n",
    "    # y = _y[:,1]\n",
    "    plt.subplot(4, 4, i+1)\n",
    "    bar = plt.bar(x, y, width=0.5, color='g')\n",
    "    for j, rect in enumerate(bar):\n",
    "        height = rect.get_height()\n",
    "        if _y[j,0] == 0:\n",
    "            plt.text(rect.get_x() + rect.get_width() / 2.0, height, f'N/A', ha='center', va='bottom')\n",
    "    plt.ylim((0,100))\n",
    "    plt.title(celltype)\n",
    "    plt.tight_layout()\n",
    "    \n",
    "plt.rcParams['figure.figsize'] = [10,5]"
   ]
  },
  {
   "cell_type": "code",
   "execution_count": 43,
   "id": "fT0PCVVPiK4n",
   "metadata": {
    "colab": {
     "base_uri": "https://localhost:8080/",
     "height": 1000
    },
    "id": "fT0PCVVPiK4n",
    "outputId": "8249adaa-b352-475a-db3c-44f4f5dcce2f"
   },
   "outputs": [
    {
     "data": {
      "image/png": "[encoded data removed]",
      "text/plain": [
       "<Figure size 1440x1080 with 16 Axes>"
      ]
     },
     "metadata": {
      "needs_background": "light"
     },
     "output_type": "display_data"
    }
   ],
   "source": [
    "maxcellcount = len(count_misprediction[celltypes[0]].keys())\n",
    "maxcellcount = 1\n",
    "\n",
    "plt.rcParams['figure.figsize'] = [20, 15*maxcellcount]\n",
    "\n",
    "j=0\n",
    "for j in range(maxcellcount):\n",
    "    for i, celltype in enumerate(celltypes):\n",
    "        x = list(count_misprediction[celltype][j][2].keys())\n",
    "        y = np.array(list(count_misprediction[celltype][j][2].values()))\n",
    "        plt.subplot(4*maxcellcount, 4, j*16+i+1)\n",
    "        bar = plt.bar(x, y, width=0.5, color='g')\n",
    "        plt.xticks(rotation=90)\n",
    "        # plt.ylim((0,100))\n",
    "        plt.title(celltype + \" - \" + str(j))\n",
    "        plt.tight_layout()\n",
    "    \n",
    "plt.rcParams['figure.figsize'] = [10,5]"
   ]
  },
  {
   "cell_type": "code",
   "execution_count": 44,
   "id": "12025cb0-350c-4722-a5cc-ca744b32ed3e",
   "metadata": {},
   "outputs": [
    {
     "data": {
      "text/plain": [
       "array([ 0,  0,  1,  0,  0,  0, 10,  2, 11,  0,  1,  0,  0,  0,  9,  2])"
      ]
     },
     "execution_count": 44,
     "metadata": {},
     "output_type": "execute_result"
    }
   ],
   "source": [
    "celltype = 'Astrocyte'\n",
    "np.array(list(count_misprediction[celltype][j][2].values()))"
   ]
  }
 ],
 "metadata": {
  "colab": {
   "collapsed_sections": [],
   "name": "MERFISH_Tangram.ipynb",
   "provenance": [],
   "toc_visible": true
  },
  "kernelspec": {
   "display_name": "Python 3 (ipykernel)",
   "language": "python",
   "name": "python3"
  },
  "language_info": {
   "codemirror_mode": {
    "name": "ipython",
    "version": 3
   },
   "file_extension": ".py",
   "mimetype": "text/x-python",
   "name": "python",
   "nbconvert_exporter": "python",
   "pygments_lexer": "ipython3",
   "version": "3.9.7"
  },
  "toc-autonumbering": true
 },
 "nbformat": 4,
 "nbformat_minor": 5
}
