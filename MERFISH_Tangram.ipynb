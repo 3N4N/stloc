{
 "cells": [
  {
   "cell_type": "markdown",
   "id": "1039e8e8-b2ce-4947-a78d-314b13f994e4",
   "metadata": {},
   "source": [
    "# Import libs"
   ]
  },
  {
   "cell_type": "code",
   "execution_count": 85,
   "id": "47e9908a-c33d-4596-a177-bfa06f720e23",
   "metadata": {},
   "outputs": [],
   "source": [
    "import numpy as np\n",
    "import pandas as pd\n",
    "import matplotlib.backends.backend_pdf\n",
    "import seaborn as sns\n",
    "\n",
    "from sklearn.preprocessing import MinMaxScaler\n",
    "\n",
    "import scanpy as sc\n",
    "import anndata as ad\n",
    "import tangram as tg\n",
    "import matplotlib.pyplot as plt\n",
    "import seaborn as sns\n",
    "import copy"
   ]
  },
  {
   "cell_type": "code",
   "execution_count": 2,
   "id": "b64b10e4-59b8-4106-b02b-d6910c149f11",
   "metadata": {},
   "outputs": [],
   "source": [
    "np.random.seed(10)\n",
    "\n",
    "%load_ext autoreload\n",
    "%autoreload 2\n",
    "%matplotlib inline\n",
    "plt.rcParams['figure.figsize'] = [10,5]"
   ]
  },
  {
   "cell_type": "code",
   "execution_count": 3,
   "id": "61b1c087-c701-4234-81cc-96e5c401566f",
   "metadata": {},
   "outputs": [],
   "source": [
    "import torch\n",
    "torch.cuda.empty_cache()\n",
    "device = torch.device(\"cpu\")"
   ]
  },
  {
   "cell_type": "code",
   "execution_count": 4,
   "id": "6a5b25dd-03b0-40bc-9010-d2f65c9063ba",
   "metadata": {},
   "outputs": [],
   "source": [
    "# project_location = \"e:/projects/stloc/\"\n",
    "project_location = \"./\""
   ]
  },
  {
   "cell_type": "markdown",
   "id": "0d60b61d-3d25-4f1a-97cd-4e0855f5eb6e",
   "metadata": {},
   "source": [
    "# Load data"
   ]
  },
  {
   "cell_type": "markdown",
   "id": "5acc4bcb-5428-4a06-98cf-ddaab40fbe64",
   "metadata": {},
   "source": [
    "## Spatial data"
   ]
  },
  {
   "cell_type": "code",
   "execution_count": 5,
   "id": "3946a17b-2db2-406a-9eca-f3be04ac8421",
   "metadata": {},
   "outputs": [
    {
     "data": {
      "text/html": [
       "<div>\n",
       "<style scoped>\n",
       "    .dataframe tbody tr th:only-of-type {\n",
       "        vertical-align: middle;\n",
       "    }\n",
       "\n",
       "    .dataframe tbody tr th {\n",
       "        vertical-align: top;\n",
       "    }\n",
       "\n",
       "    .dataframe thead th {\n",
       "        text-align: right;\n",
       "    }\n",
       "</style>\n",
       "<table border=\"1\" class=\"dataframe\">\n",
       "  <thead>\n",
       "    <tr style=\"text-align: right;\">\n",
       "      <th></th>\n",
       "      <th>Ace2</th>\n",
       "      <th>Adora2a</th>\n",
       "      <th>Aldh1l1</th>\n",
       "      <th>Amigo2</th>\n",
       "      <th>Ano3</th>\n",
       "      <th>Aqp4</th>\n",
       "      <th>Ar</th>\n",
       "      <th>Arhgap36</th>\n",
       "      <th>Avpr1a</th>\n",
       "      <th>Avpr2</th>\n",
       "      <th>...</th>\n",
       "      <th>ODImmature1</th>\n",
       "      <th>ODImmature2</th>\n",
       "      <th>Microglia</th>\n",
       "      <th>ODMature2</th>\n",
       "      <th>ODMature1</th>\n",
       "      <th>Endothelial3</th>\n",
       "      <th>ODMature3</th>\n",
       "      <th>ODMature4</th>\n",
       "      <th>Endothelial2</th>\n",
       "      <th>Ependymal</th>\n",
       "    </tr>\n",
       "  </thead>\n",
       "  <tbody>\n",
       "    <tr>\n",
       "      <th>0</th>\n",
       "      <td>0.000000</td>\n",
       "      <td>0.631323</td>\n",
       "      <td>2.783859</td>\n",
       "      <td>4.017283</td>\n",
       "      <td>0.707772</td>\n",
       "      <td>2.754597</td>\n",
       "      <td>1.262664</td>\n",
       "      <td>14.922339</td>\n",
       "      <td>0.707772</td>\n",
       "      <td>0.0</td>\n",
       "      <td>...</td>\n",
       "      <td>0</td>\n",
       "      <td>0</td>\n",
       "      <td>0</td>\n",
       "      <td>1</td>\n",
       "      <td>1</td>\n",
       "      <td>0</td>\n",
       "      <td>0</td>\n",
       "      <td>0</td>\n",
       "      <td>0</td>\n",
       "      <td>0</td>\n",
       "    </tr>\n",
       "    <tr>\n",
       "      <th>1</th>\n",
       "      <td>0.000000</td>\n",
       "      <td>0.000000</td>\n",
       "      <td>5.027816</td>\n",
       "      <td>0.000000</td>\n",
       "      <td>0.000000</td>\n",
       "      <td>10.056050</td>\n",
       "      <td>0.000000</td>\n",
       "      <td>0.000000</td>\n",
       "      <td>0.000000</td>\n",
       "      <td>0.0</td>\n",
       "      <td>...</td>\n",
       "      <td>0</td>\n",
       "      <td>0</td>\n",
       "      <td>0</td>\n",
       "      <td>1</td>\n",
       "      <td>0</td>\n",
       "      <td>0</td>\n",
       "      <td>0</td>\n",
       "      <td>0</td>\n",
       "      <td>0</td>\n",
       "      <td>0</td>\n",
       "    </tr>\n",
       "    <tr>\n",
       "      <th>2</th>\n",
       "      <td>0.000000</td>\n",
       "      <td>0.000000</td>\n",
       "      <td>0.000000</td>\n",
       "      <td>0.000000</td>\n",
       "      <td>0.000000</td>\n",
       "      <td>3.856702</td>\n",
       "      <td>0.000000</td>\n",
       "      <td>0.854257</td>\n",
       "      <td>0.427118</td>\n",
       "      <td>0.0</td>\n",
       "      <td>...</td>\n",
       "      <td>0</td>\n",
       "      <td>0</td>\n",
       "      <td>0</td>\n",
       "      <td>1</td>\n",
       "      <td>1</td>\n",
       "      <td>0</td>\n",
       "      <td>0</td>\n",
       "      <td>0</td>\n",
       "      <td>0</td>\n",
       "      <td>0</td>\n",
       "    </tr>\n",
       "    <tr>\n",
       "      <th>3</th>\n",
       "      <td>0.000000</td>\n",
       "      <td>0.000000</td>\n",
       "      <td>1.465245</td>\n",
       "      <td>0.732607</td>\n",
       "      <td>0.000000</td>\n",
       "      <td>2.323503</td>\n",
       "      <td>0.795436</td>\n",
       "      <td>0.732607</td>\n",
       "      <td>0.732607</td>\n",
       "      <td>0.0</td>\n",
       "      <td>...</td>\n",
       "      <td>0</td>\n",
       "      <td>0</td>\n",
       "      <td>0</td>\n",
       "      <td>2</td>\n",
       "      <td>0</td>\n",
       "      <td>0</td>\n",
       "      <td>0</td>\n",
       "      <td>0</td>\n",
       "      <td>0</td>\n",
       "      <td>0</td>\n",
       "    </tr>\n",
       "    <tr>\n",
       "      <th>4</th>\n",
       "      <td>6.311896</td>\n",
       "      <td>7.574326</td>\n",
       "      <td>0.000000</td>\n",
       "      <td>0.000000</td>\n",
       "      <td>0.000000</td>\n",
       "      <td>0.000000</td>\n",
       "      <td>0.000000</td>\n",
       "      <td>0.000000</td>\n",
       "      <td>0.000000</td>\n",
       "      <td>0.0</td>\n",
       "      <td>...</td>\n",
       "      <td>0</td>\n",
       "      <td>0</td>\n",
       "      <td>1</td>\n",
       "      <td>0</td>\n",
       "      <td>0</td>\n",
       "      <td>1</td>\n",
       "      <td>0</td>\n",
       "      <td>0</td>\n",
       "      <td>0</td>\n",
       "      <td>0</td>\n",
       "    </tr>\n",
       "  </tbody>\n",
       "</table>\n",
       "<p>5 rows × 171 columns</p>\n",
       "</div>"
      ],
      "text/plain": [
       "       Ace2   Adora2a   Aldh1l1    Amigo2      Ano3       Aqp4        Ar  \\\n",
       "0  0.000000  0.631323  2.783859  4.017283  0.707772   2.754597  1.262664   \n",
       "1  0.000000  0.000000  5.027816  0.000000  0.000000  10.056050  0.000000   \n",
       "2  0.000000  0.000000  0.000000  0.000000  0.000000   3.856702  0.000000   \n",
       "3  0.000000  0.000000  1.465245  0.732607  0.000000   2.323503  0.795436   \n",
       "4  6.311896  7.574326  0.000000  0.000000  0.000000   0.000000  0.000000   \n",
       "\n",
       "    Arhgap36    Avpr1a  Avpr2  ...  ODImmature1  ODImmature2  Microglia  \\\n",
       "0  14.922339  0.707772    0.0  ...            0            0          0   \n",
       "1   0.000000  0.000000    0.0  ...            0            0          0   \n",
       "2   0.854257  0.427118    0.0  ...            0            0          0   \n",
       "3   0.732607  0.732607    0.0  ...            0            0          0   \n",
       "4   0.000000  0.000000    0.0  ...            0            0          1   \n",
       "\n",
       "   ODMature2  ODMature1  Endothelial3  ODMature3  ODMature4  Endothelial2  \\\n",
       "0          1          1             0          0          0             0   \n",
       "1          1          0             0          0          0             0   \n",
       "2          1          1             0          0          0             0   \n",
       "3          2          0             0          0          0             0   \n",
       "4          0          0             1          0          0             0   \n",
       "\n",
       "   Ependymal  \n",
       "0          0  \n",
       "1          0  \n",
       "2          0  \n",
       "3          0  \n",
       "4          0  \n",
       "\n",
       "[5 rows x 171 columns]"
      ]
     },
     "execution_count": 5,
     "metadata": {},
     "output_type": "execute_result"
    }
   ],
   "source": [
    "df_st = pd.read_csv(project_location + \"data/merfish/merfishSpatial.csv\", sep=\" \")\n",
    "coords = df_st['coord']\n",
    "df_st.drop(columns=['coord'], inplace=True)\n",
    "cellTypeCount =16\n",
    "typeCountDf=  df_st.iloc[:,-cellTypeCount:]\n",
    "# df_st = df_st.iloc[: , :-cellTypeCount]\n",
    "df_st.head()"
   ]
  },
  {
   "cell_type": "code",
   "execution_count": 6,
   "id": "417f1300",
   "metadata": {},
   "outputs": [
    {
     "data": {
      "text/html": [
       "<div>\n",
       "<style scoped>\n",
       "    .dataframe tbody tr th:only-of-type {\n",
       "        vertical-align: middle;\n",
       "    }\n",
       "\n",
       "    .dataframe tbody tr th {\n",
       "        vertical-align: top;\n",
       "    }\n",
       "\n",
       "    .dataframe thead th {\n",
       "        text-align: right;\n",
       "    }\n",
       "</style>\n",
       "<table border=\"1\" class=\"dataframe\">\n",
       "  <thead>\n",
       "    <tr style=\"text-align: right;\">\n",
       "      <th></th>\n",
       "      <th>Astrocyte</th>\n",
       "      <th>Inhibitory</th>\n",
       "      <th>Pericytes</th>\n",
       "      <th>Ambiguous</th>\n",
       "      <th>Endothelial1</th>\n",
       "      <th>Excitatory</th>\n",
       "      <th>ODImmature1</th>\n",
       "      <th>ODImmature2</th>\n",
       "      <th>Microglia</th>\n",
       "      <th>ODMature2</th>\n",
       "      <th>ODMature1</th>\n",
       "      <th>Endothelial3</th>\n",
       "      <th>ODMature3</th>\n",
       "      <th>ODMature4</th>\n",
       "      <th>Endothelial2</th>\n",
       "      <th>Ependymal</th>\n",
       "    </tr>\n",
       "  </thead>\n",
       "  <tbody>\n",
       "    <tr>\n",
       "      <th>0</th>\n",
       "      <td>0</td>\n",
       "      <td>1</td>\n",
       "      <td>0</td>\n",
       "      <td>0</td>\n",
       "      <td>1</td>\n",
       "      <td>0</td>\n",
       "      <td>0</td>\n",
       "      <td>0</td>\n",
       "      <td>0</td>\n",
       "      <td>1</td>\n",
       "      <td>1</td>\n",
       "      <td>0</td>\n",
       "      <td>0</td>\n",
       "      <td>0</td>\n",
       "      <td>0</td>\n",
       "      <td>0</td>\n",
       "    </tr>\n",
       "    <tr>\n",
       "      <th>1</th>\n",
       "      <td>0</td>\n",
       "      <td>0</td>\n",
       "      <td>0</td>\n",
       "      <td>0</td>\n",
       "      <td>0</td>\n",
       "      <td>0</td>\n",
       "      <td>0</td>\n",
       "      <td>0</td>\n",
       "      <td>0</td>\n",
       "      <td>1</td>\n",
       "      <td>0</td>\n",
       "      <td>0</td>\n",
       "      <td>0</td>\n",
       "      <td>0</td>\n",
       "      <td>0</td>\n",
       "      <td>0</td>\n",
       "    </tr>\n",
       "    <tr>\n",
       "      <th>2</th>\n",
       "      <td>0</td>\n",
       "      <td>0</td>\n",
       "      <td>0</td>\n",
       "      <td>0</td>\n",
       "      <td>0</td>\n",
       "      <td>0</td>\n",
       "      <td>0</td>\n",
       "      <td>0</td>\n",
       "      <td>0</td>\n",
       "      <td>1</td>\n",
       "      <td>1</td>\n",
       "      <td>0</td>\n",
       "      <td>0</td>\n",
       "      <td>0</td>\n",
       "      <td>0</td>\n",
       "      <td>0</td>\n",
       "    </tr>\n",
       "    <tr>\n",
       "      <th>3</th>\n",
       "      <td>0</td>\n",
       "      <td>0</td>\n",
       "      <td>0</td>\n",
       "      <td>0</td>\n",
       "      <td>0</td>\n",
       "      <td>0</td>\n",
       "      <td>0</td>\n",
       "      <td>0</td>\n",
       "      <td>0</td>\n",
       "      <td>2</td>\n",
       "      <td>0</td>\n",
       "      <td>0</td>\n",
       "      <td>0</td>\n",
       "      <td>0</td>\n",
       "      <td>0</td>\n",
       "      <td>0</td>\n",
       "    </tr>\n",
       "    <tr>\n",
       "      <th>4</th>\n",
       "      <td>0</td>\n",
       "      <td>0</td>\n",
       "      <td>0</td>\n",
       "      <td>0</td>\n",
       "      <td>0</td>\n",
       "      <td>0</td>\n",
       "      <td>0</td>\n",
       "      <td>0</td>\n",
       "      <td>1</td>\n",
       "      <td>0</td>\n",
       "      <td>0</td>\n",
       "      <td>1</td>\n",
       "      <td>0</td>\n",
       "      <td>0</td>\n",
       "      <td>0</td>\n",
       "      <td>0</td>\n",
       "    </tr>\n",
       "  </tbody>\n",
       "</table>\n",
       "</div>"
      ],
      "text/plain": [
       "   Astrocyte  Inhibitory  Pericytes  Ambiguous  Endothelial1  Excitatory  \\\n",
       "0          0           1          0          0             1           0   \n",
       "1          0           0          0          0             0           0   \n",
       "2          0           0          0          0             0           0   \n",
       "3          0           0          0          0             0           0   \n",
       "4          0           0          0          0             0           0   \n",
       "\n",
       "   ODImmature1  ODImmature2  Microglia  ODMature2  ODMature1  Endothelial3  \\\n",
       "0            0            0          0          1          1             0   \n",
       "1            0            0          0          1          0             0   \n",
       "2            0            0          0          1          1             0   \n",
       "3            0            0          0          2          0             0   \n",
       "4            0            0          1          0          0             1   \n",
       "\n",
       "   ODMature3  ODMature4  Endothelial2  Ependymal  \n",
       "0          0          0             0          0  \n",
       "1          0          0             0          0  \n",
       "2          0          0             0          0  \n",
       "3          0          0             0          0  \n",
       "4          0          0             0          0  "
      ]
     },
     "execution_count": 6,
     "metadata": {},
     "output_type": "execute_result"
    }
   ],
   "source": [
    "typeCountDf.head()"
   ]
  },
  {
   "cell_type": "code",
   "execution_count": 7,
   "id": "8a37a3de-c289-4e0f-b72e-c241eb0546d1",
   "metadata": {},
   "outputs": [
    {
     "data": {
      "text/html": [
       "<div>\n",
       "<style scoped>\n",
       "    .dataframe tbody tr th:only-of-type {\n",
       "        vertical-align: middle;\n",
       "    }\n",
       "\n",
       "    .dataframe tbody tr th {\n",
       "        vertical-align: top;\n",
       "    }\n",
       "\n",
       "    .dataframe thead th {\n",
       "        text-align: right;\n",
       "    }\n",
       "</style>\n",
       "<table border=\"1\" class=\"dataframe\">\n",
       "  <thead>\n",
       "    <tr style=\"text-align: right;\">\n",
       "      <th></th>\n",
       "      <th>cell_type</th>\n",
       "      <th>marker_gene</th>\n",
       "    </tr>\n",
       "  </thead>\n",
       "  <tbody>\n",
       "    <tr>\n",
       "      <th>0</th>\n",
       "      <td>Astrocyte</td>\n",
       "      <td>Aldh1l1</td>\n",
       "    </tr>\n",
       "    <tr>\n",
       "      <th>1</th>\n",
       "      <td>Astrocyte</td>\n",
       "      <td>Aqp4</td>\n",
       "    </tr>\n",
       "    <tr>\n",
       "      <th>2</th>\n",
       "      <td>Astrocyte</td>\n",
       "      <td>Cxcl14</td>\n",
       "    </tr>\n",
       "    <tr>\n",
       "      <th>3</th>\n",
       "      <td>Astrocyte</td>\n",
       "      <td>Mlc1</td>\n",
       "    </tr>\n",
       "    <tr>\n",
       "      <th>4</th>\n",
       "      <td>Astrocyte</td>\n",
       "      <td>Ttyh2</td>\n",
       "    </tr>\n",
       "  </tbody>\n",
       "</table>\n",
       "</div>"
      ],
      "text/plain": [
       "   cell_type marker_gene\n",
       "0  Astrocyte     Aldh1l1\n",
       "1  Astrocyte        Aqp4\n",
       "2  Astrocyte      Cxcl14\n",
       "3  Astrocyte        Mlc1\n",
       "4  Astrocyte       Ttyh2"
      ]
     },
     "execution_count": 7,
     "metadata": {},
     "output_type": "execute_result"
    }
   ],
   "source": [
    "reference = pd.read_csv(project_location + \"data/merfish/markerGene_for_merfish_data.csv\")\n",
    "\n",
    "reference.drop(columns=['p_value'], inplace=True)\n",
    "# reference.drop(range(148,168))\n",
    "reference.drop(reference.index[reference.cell_type=='EpendymalInhibitory'].tolist(), inplace=True)\n",
    "reference['cell_type'] = reference['cell_type'].astype(str).str.replace(\" \", \"\")\n",
    "reference.head()"
   ]
  },
  {
   "cell_type": "code",
   "execution_count": 8,
   "id": "393cf07e-d271-4398-8081-76b70afff7b5",
   "metadata": {},
   "outputs": [],
   "source": [
    "genes = df_st.columns[:155]\n",
    "markers = reference.groupby('cell_type').agg(list).marker_gene\n",
    "celltypes = reference.cell_type.unique().tolist()\n",
    "expressions = df_st.drop(columns=celltypes)\n",
    "expressions = MinMaxScaler().fit_transform(expressions)\n",
    "counts_st = pd.DataFrame(expressions, columns=genes)\n",
    "cellcount = pd.DataFrame(np.sum(df_st[celltypes], axis=1), columns=['cellcount'])"
   ]
  },
  {
   "cell_type": "code",
   "execution_count": 9,
   "id": "524270ff-3da1-43f3-a291-2bbf3fce0033",
   "metadata": {},
   "outputs": [
    {
     "name": "stdout",
     "output_type": "stream",
     "text": [
      "      cellcount\n",
      "0             4\n",
      "1             1\n",
      "2             2\n",
      "3             2\n",
      "4             2\n",
      "...         ...\n",
      "1244          4\n",
      "1245          1\n",
      "1246          3\n",
      "1247          5\n",
      "1248          1\n",
      "\n",
      "[1249 rows x 1 columns]\n",
      "zero count is cellcount    0\n",
      "dtype: int64\n"
     ]
    },
    {
     "data": {
      "text/plain": [
       "16"
      ]
     },
     "execution_count": 9,
     "metadata": {},
     "output_type": "execute_result"
    }
   ],
   "source": [
    "print(cellcount)\n",
    "zero = (cellcount==0).sum()\n",
    "print('zero count is',zero)\n",
    "len(celltypes)"
   ]
  },
  {
   "cell_type": "markdown",
   "id": "8905e07e-3c1a-414d-80a8-60bc62fba36e",
   "metadata": {},
   "source": [
    "## Single-cell data"
   ]
  },
  {
   "cell_type": "code",
   "execution_count": 10,
   "id": "23df6a04-6ad2-4d36-a634-65ee063d69a0",
   "metadata": {},
   "outputs": [],
   "source": [
    "df_sc = pd.read_csv(project_location + \"data/merfish/merfishVisium.csv\")"
   ]
  },
  {
   "cell_type": "code",
   "execution_count": 11,
   "id": "dc4a5656-557c-41c4-b957-be5dc8a86a21",
   "metadata": {},
   "outputs": [
    {
     "data": {
      "text/html": [
       "<div>\n",
       "<style scoped>\n",
       "    .dataframe tbody tr th:only-of-type {\n",
       "        vertical-align: middle;\n",
       "    }\n",
       "\n",
       "    .dataframe tbody tr th {\n",
       "        vertical-align: top;\n",
       "    }\n",
       "\n",
       "    .dataframe thead th {\n",
       "        text-align: right;\n",
       "    }\n",
       "</style>\n",
       "<table border=\"1\" class=\"dataframe\">\n",
       "  <thead>\n",
       "    <tr style=\"text-align: right;\">\n",
       "      <th></th>\n",
       "      <th>Cell_ID</th>\n",
       "      <th>Animal_ID</th>\n",
       "      <th>Animal_sex</th>\n",
       "      <th>Behavior</th>\n",
       "      <th>Bregma</th>\n",
       "      <th>Centroid_X</th>\n",
       "      <th>Centroid_Y</th>\n",
       "      <th>Cell_class</th>\n",
       "      <th>Neuron_cluster_ID</th>\n",
       "    </tr>\n",
       "  </thead>\n",
       "  <tbody>\n",
       "    <tr>\n",
       "      <th>0</th>\n",
       "      <td>1f9a8c19-b089-43d1-b609-7e791dc2c70f</td>\n",
       "      <td>1</td>\n",
       "      <td>Female</td>\n",
       "      <td>Naive</td>\n",
       "      <td>-0.24</td>\n",
       "      <td>-3749.176078</td>\n",
       "      <td>-3749.458442</td>\n",
       "      <td>Astrocyte</td>\n",
       "      <td>NaN</td>\n",
       "    </tr>\n",
       "    <tr>\n",
       "      <th>1</th>\n",
       "      <td>b13e98f4-5c2b-4e96-985e-3e93aedc7221</td>\n",
       "      <td>1</td>\n",
       "      <td>Female</td>\n",
       "      <td>Naive</td>\n",
       "      <td>-0.24</td>\n",
       "      <td>-3746.226210</td>\n",
       "      <td>-3742.259347</td>\n",
       "      <td>Inhibitory</td>\n",
       "      <td>I-1</td>\n",
       "    </tr>\n",
       "    <tr>\n",
       "      <th>2</th>\n",
       "      <td>d06cb29e-10ee-4bbc-b74e-90237999ef4b</td>\n",
       "      <td>1</td>\n",
       "      <td>Female</td>\n",
       "      <td>Naive</td>\n",
       "      <td>-0.24</td>\n",
       "      <td>-3742.897643</td>\n",
       "      <td>-3790.648737</td>\n",
       "      <td>Inhibitory</td>\n",
       "      <td>I-13</td>\n",
       "    </tr>\n",
       "    <tr>\n",
       "      <th>3</th>\n",
       "      <td>12e2a165-57c7-4f37-96dd-23f6574af4ba</td>\n",
       "      <td>1</td>\n",
       "      <td>Female</td>\n",
       "      <td>Naive</td>\n",
       "      <td>-0.24</td>\n",
       "      <td>-3738.423005</td>\n",
       "      <td>-3773.259265</td>\n",
       "      <td>Inhibitory</td>\n",
       "      <td>I-19</td>\n",
       "    </tr>\n",
       "    <tr>\n",
       "      <th>4</th>\n",
       "      <td>14a0f396-b13d-4d45-89a3-86c2047bf3f9</td>\n",
       "      <td>1</td>\n",
       "      <td>Female</td>\n",
       "      <td>Naive</td>\n",
       "      <td>-0.24</td>\n",
       "      <td>-3736.407620</td>\n",
       "      <td>-3895.590306</td>\n",
       "      <td>Pericytes</td>\n",
       "      <td>NaN</td>\n",
       "    </tr>\n",
       "  </tbody>\n",
       "</table>\n",
       "</div>"
      ],
      "text/plain": [
       "                                Cell_ID  Animal_ID Animal_sex Behavior  \\\n",
       "0  1f9a8c19-b089-43d1-b609-7e791dc2c70f          1     Female    Naive   \n",
       "1  b13e98f4-5c2b-4e96-985e-3e93aedc7221          1     Female    Naive   \n",
       "2  d06cb29e-10ee-4bbc-b74e-90237999ef4b          1     Female    Naive   \n",
       "3  12e2a165-57c7-4f37-96dd-23f6574af4ba          1     Female    Naive   \n",
       "4  14a0f396-b13d-4d45-89a3-86c2047bf3f9          1     Female    Naive   \n",
       "\n",
       "   Bregma   Centroid_X   Centroid_Y  Cell_class Neuron_cluster_ID  \n",
       "0   -0.24 -3749.176078 -3749.458442   Astrocyte               NaN  \n",
       "1   -0.24 -3746.226210 -3742.259347  Inhibitory               I-1  \n",
       "2   -0.24 -3742.897643 -3790.648737  Inhibitory              I-13  \n",
       "3   -0.24 -3738.423005 -3773.259265  Inhibitory              I-19  \n",
       "4   -0.24 -3736.407620 -3895.590306   Pericytes               NaN  "
      ]
     },
     "execution_count": 11,
     "metadata": {},
     "output_type": "execute_result"
    }
   ],
   "source": [
    "counts_sc = df_sc[genes]\n",
    "obs_sc = df_sc[[x for x in df_sc.columns if x not in genes]]\n",
    "obs_sc.head()"
   ]
  },
  {
   "cell_type": "code",
   "execution_count": 12,
   "id": "4afa5c3d",
   "metadata": {},
   "outputs": [
    {
     "data": {
      "text/plain": [
       "'Astrocyte'"
      ]
     },
     "execution_count": 12,
     "metadata": {},
     "output_type": "execute_result"
    }
   ],
   "source": [
    "obs_sc.shape\n",
    "obs_sc.loc[0,\"Cell_class\"]"
   ]
  },
  {
   "cell_type": "markdown",
   "id": "d2872087-f05b-4d88-b97d-1f609fa252a3",
   "metadata": {},
   "source": [
    "# Tangram"
   ]
  },
  {
   "cell_type": "code",
   "execution_count": 13,
   "id": "3f449636-4b11-47a4-8543-8dae8f71b4ba",
   "metadata": {},
   "outputs": [
    {
     "name": "stdout",
     "output_type": "stream",
     "text": [
      "(6412, 155)\n",
      "(1249, 155)\n"
     ]
    }
   ],
   "source": [
    "adata_sc = ad.AnnData(counts_sc)\n",
    "adata_st = ad.AnnData(counts_st, obs=cellcount)\n",
    "print(adata_sc.shape)\n",
    "print(adata_st.shape)"
   ]
  },
  {
   "cell_type": "code",
   "execution_count": 14,
   "id": "0de9d4a8-ac4e-4b9e-abbd-7927cb30d35d",
   "metadata": {},
   "outputs": [
    {
     "data": {
      "text/plain": [
       "0"
      ]
     },
     "execution_count": 14,
     "metadata": {},
     "output_type": "execute_result"
    }
   ],
   "source": [
    "adata_st.obs.head()\n",
    "zeroCount=(obs_sc[\"Cell_class\"]==0).sum()\n",
    "zeroCount"
   ]
  },
  {
   "cell_type": "code",
   "execution_count": 15,
   "id": "2d5914a0-ce64-47a0-ac5c-86f09264a6e7",
   "metadata": {},
   "outputs": [
    {
     "name": "stderr",
     "output_type": "stream",
     "text": [
      "INFO:root:155 training genes are saved in `uns``training_genes` of both single cell and spatial Anndatas.\n",
      "INFO:root:155 overlapped genes are saved in `uns``overlap_genes` of both single cell and spatial Anndatas.\n",
      "INFO:root:uniform based density prior is calculated and saved in `obs``uniform_density` of the spatial Anndata.\n",
      "INFO:root:rna count based density prior is calculated and saved in `obs``rna_count_based_density` of the spatial Anndata.\n"
     ]
    }
   ],
   "source": [
    "tg.pp_adatas(adata_sc, adata_st, genes=None)"
   ]
  },
  {
   "cell_type": "code",
   "execution_count": 16,
   "id": "92f12376-0bab-4a09-b307-2ea3d5439aa5",
   "metadata": {},
   "outputs": [],
   "source": [
    "# adata_map_rna = tg.map_cells_to_space(adata_sc, adata_st, device=device, num_epochs=500)"
   ]
  },
  {
   "cell_type": "code",
   "execution_count": 17,
   "id": "d7e49cb0-baa2-4fd4-89f2-2e149c9b2101",
   "metadata": {},
   "outputs": [
    {
     "name": "stderr",
     "output_type": "stream",
     "text": [
      "INFO:root:Allocate tensors for mapping.\n",
      "INFO:root:Begin training with 155 genes and customized density_prior in cells mode...\n",
      "INFO:root:Printing scores every 100 epochs.\n"
     ]
    },
    {
     "name": "stdout",
     "output_type": "stream",
     "text": [
      "Score: 0.508, KL reg: 0.107\n",
      "Score: 0.986, KL reg: 0.000\n",
      "Score: 0.990, KL reg: 0.000\n",
      "Score: 0.991, KL reg: 0.000\n",
      "Score: 0.991, KL reg: 0.000\n"
     ]
    },
    {
     "name": "stderr",
     "output_type": "stream",
     "text": [
      "INFO:root:Saving results..\n"
     ]
    }
   ],
   "source": [
    "adata_map_cellcount = tg.map_cells_to_space(\n",
    "    adata_sc,\n",
    "    adata_st,\n",
    "    target_count=adata_st.obs.cellcount.sum(),\n",
    "    density_prior=np.array(adata_st.obs.cellcount) / adata_st.obs.cellcount.sum(),\n",
    "    device=device,\n",
    "    num_epochs=500\n",
    ")\n",
    "probabilityDf= adata_map_cellcount.to_df()"
   ]
  },
  {
   "cell_type": "code",
   "execution_count": 18,
   "id": "f9c6d70c",
   "metadata": {},
   "outputs": [
    {
     "data": {
      "text/plain": [
       "(6412, 1249)"
      ]
     },
     "execution_count": 18,
     "metadata": {},
     "output_type": "execute_result"
    }
   ],
   "source": [
    "probabilityDf.shape"
   ]
  },
  {
   "cell_type": "markdown",
   "id": "7e4c8d2c",
   "metadata": {},
   "source": [
    "# probability analysis"
   ]
  },
  {
   "cell_type": "code",
   "execution_count": 96,
   "id": "789b580e",
   "metadata": {},
   "outputs": [
    {
     "data": {
      "text/plain": [
       "(1249, 16)"
      ]
     },
     "execution_count": 96,
     "metadata": {},
     "output_type": "execute_result"
    }
   ],
   "source": [
    "np.argmax(probabilityDf.iloc[2])\n",
    "# probabilityDf.iloc[2,1247]\n",
    "\n",
    "Nrows= len(df_st)\n",
    "Ncols= len(celltypes)\n",
    "\n",
    "deconvDf = pd.DataFrame(np.zeros((Nrows,Ncols)),columns=celltypes)\n",
    "for i in range(len(probabilityDf)):\n",
    "    spotNo = np.argmax(probabilityDf.iloc[i])\n",
    "    cellClass= obs_sc.loc[i,\"Cell_class\"]\n",
    "    deconvDf.loc[spotNo,cellClass] = deconvDf.loc[spotNo,cellClass] +1\n",
    "\n",
    "\n",
    "deconvDf = deconvDf.astype(int)\n",
    "deconvolveDf = deconvDf.copy()\n",
    "deconvDf.shape"
   ]
  },
  {
   "cell_type": "code",
   "execution_count": 20,
   "id": "c34c713a",
   "metadata": {},
   "outputs": [
    {
     "data": {
      "text/html": [
       "<div>\n",
       "<style scoped>\n",
       "    .dataframe tbody tr th:only-of-type {\n",
       "        vertical-align: middle;\n",
       "    }\n",
       "\n",
       "    .dataframe tbody tr th {\n",
       "        vertical-align: top;\n",
       "    }\n",
       "\n",
       "    .dataframe thead th {\n",
       "        text-align: right;\n",
       "    }\n",
       "</style>\n",
       "<table border=\"1\" class=\"dataframe\">\n",
       "  <thead>\n",
       "    <tr style=\"text-align: right;\">\n",
       "      <th></th>\n",
       "      <th>Astrocyte</th>\n",
       "      <th>Inhibitory</th>\n",
       "      <th>Pericytes</th>\n",
       "      <th>Ambiguous</th>\n",
       "      <th>Endothelial1</th>\n",
       "      <th>Excitatory</th>\n",
       "      <th>ODImmature1</th>\n",
       "      <th>ODImmature2</th>\n",
       "      <th>Microglia</th>\n",
       "      <th>ODMature2</th>\n",
       "      <th>ODMature1</th>\n",
       "      <th>Endothelial3</th>\n",
       "      <th>ODMature3</th>\n",
       "      <th>ODMature4</th>\n",
       "      <th>Endothelial2</th>\n",
       "      <th>Ependymal</th>\n",
       "    </tr>\n",
       "  </thead>\n",
       "  <tbody>\n",
       "    <tr>\n",
       "      <th>0</th>\n",
       "      <td>0.0</td>\n",
       "      <td>3.0</td>\n",
       "      <td>0.0</td>\n",
       "      <td>0.0</td>\n",
       "      <td>1.0</td>\n",
       "      <td>0.0</td>\n",
       "      <td>0.0</td>\n",
       "      <td>0.0</td>\n",
       "      <td>0.0</td>\n",
       "      <td>4.0</td>\n",
       "      <td>2.0</td>\n",
       "      <td>0.0</td>\n",
       "      <td>0.0</td>\n",
       "      <td>0.0</td>\n",
       "      <td>0.0</td>\n",
       "      <td>0.0</td>\n",
       "    </tr>\n",
       "    <tr>\n",
       "      <th>1</th>\n",
       "      <td>0.0</td>\n",
       "      <td>0.0</td>\n",
       "      <td>0.0</td>\n",
       "      <td>1.0</td>\n",
       "      <td>0.0</td>\n",
       "      <td>0.0</td>\n",
       "      <td>0.0</td>\n",
       "      <td>0.0</td>\n",
       "      <td>0.0</td>\n",
       "      <td>1.0</td>\n",
       "      <td>0.0</td>\n",
       "      <td>0.0</td>\n",
       "      <td>0.0</td>\n",
       "      <td>0.0</td>\n",
       "      <td>0.0</td>\n",
       "      <td>0.0</td>\n",
       "    </tr>\n",
       "    <tr>\n",
       "      <th>2</th>\n",
       "      <td>0.0</td>\n",
       "      <td>0.0</td>\n",
       "      <td>0.0</td>\n",
       "      <td>0.0</td>\n",
       "      <td>0.0</td>\n",
       "      <td>0.0</td>\n",
       "      <td>0.0</td>\n",
       "      <td>0.0</td>\n",
       "      <td>0.0</td>\n",
       "      <td>3.0</td>\n",
       "      <td>1.0</td>\n",
       "      <td>0.0</td>\n",
       "      <td>0.0</td>\n",
       "      <td>0.0</td>\n",
       "      <td>0.0</td>\n",
       "      <td>0.0</td>\n",
       "    </tr>\n",
       "    <tr>\n",
       "      <th>3</th>\n",
       "      <td>0.0</td>\n",
       "      <td>0.0</td>\n",
       "      <td>0.0</td>\n",
       "      <td>1.0</td>\n",
       "      <td>0.0</td>\n",
       "      <td>0.0</td>\n",
       "      <td>0.0</td>\n",
       "      <td>0.0</td>\n",
       "      <td>0.0</td>\n",
       "      <td>2.0</td>\n",
       "      <td>0.0</td>\n",
       "      <td>0.0</td>\n",
       "      <td>0.0</td>\n",
       "      <td>0.0</td>\n",
       "      <td>0.0</td>\n",
       "      <td>0.0</td>\n",
       "    </tr>\n",
       "    <tr>\n",
       "      <th>4</th>\n",
       "      <td>0.0</td>\n",
       "      <td>0.0</td>\n",
       "      <td>0.0</td>\n",
       "      <td>0.0</td>\n",
       "      <td>1.0</td>\n",
       "      <td>0.0</td>\n",
       "      <td>0.0</td>\n",
       "      <td>0.0</td>\n",
       "      <td>1.0</td>\n",
       "      <td>0.0</td>\n",
       "      <td>1.0</td>\n",
       "      <td>1.0</td>\n",
       "      <td>0.0</td>\n",
       "      <td>0.0</td>\n",
       "      <td>0.0</td>\n",
       "      <td>0.0</td>\n",
       "    </tr>\n",
       "  </tbody>\n",
       "</table>\n",
       "</div>"
      ],
      "text/plain": [
       "   Astrocyte  Inhibitory  Pericytes  Ambiguous  Endothelial1  Excitatory  \\\n",
       "0        0.0         3.0        0.0        0.0           1.0         0.0   \n",
       "1        0.0         0.0        0.0        1.0           0.0         0.0   \n",
       "2        0.0         0.0        0.0        0.0           0.0         0.0   \n",
       "3        0.0         0.0        0.0        1.0           0.0         0.0   \n",
       "4        0.0         0.0        0.0        0.0           1.0         0.0   \n",
       "\n",
       "   ODImmature1  ODImmature2  Microglia  ODMature2  ODMature1  Endothelial3  \\\n",
       "0          0.0          0.0        0.0        4.0        2.0           0.0   \n",
       "1          0.0          0.0        0.0        1.0        0.0           0.0   \n",
       "2          0.0          0.0        0.0        3.0        1.0           0.0   \n",
       "3          0.0          0.0        0.0        2.0        0.0           0.0   \n",
       "4          0.0          0.0        1.0        0.0        1.0           1.0   \n",
       "\n",
       "   ODMature3  ODMature4  Endothelial2  Ependymal  \n",
       "0        0.0        0.0           0.0        0.0  \n",
       "1        0.0        0.0           0.0        0.0  \n",
       "2        0.0        0.0           0.0        0.0  \n",
       "3        0.0        0.0           0.0        0.0  \n",
       "4        0.0        0.0           0.0        0.0  "
      ]
     },
     "execution_count": 20,
     "metadata": {},
     "output_type": "execute_result"
    }
   ],
   "source": [
    "deconvDf.head()"
   ]
  },
  {
   "cell_type": "code",
   "execution_count": 21,
   "id": "7f6bd001",
   "metadata": {},
   "outputs": [],
   "source": [
    "for i in range(len(deconvDf)):\n",
    "    deconvolveDf.iloc[i] = 100 * deconvDf.iloc[i]/deconvDf.iloc[i].sum()"
   ]
  },
  {
   "cell_type": "code",
   "execution_count": 22,
   "id": "fbcf15c0",
   "metadata": {},
   "outputs": [
    {
     "name": "stdout",
     "output_type": "stream",
     "text": [
      "   Astrocyte  Inhibitory  Pericytes  Ambiguous  Endothelial1  Excitatory  \\\n",
      "0        0.0        30.0        0.0   0.000000          10.0         0.0   \n",
      "1        0.0         0.0        0.0  50.000000           0.0         0.0   \n",
      "2        0.0         0.0        0.0   0.000000           0.0         0.0   \n",
      "3        0.0         0.0        0.0  33.333333           0.0         0.0   \n",
      "4        0.0         0.0        0.0   0.000000          25.0         0.0   \n",
      "\n",
      "   ODImmature1  ODImmature2  Microglia  ODMature2  ODMature1  Endothelial3  \\\n",
      "0          0.0          0.0        0.0  40.000000       20.0           0.0   \n",
      "1          0.0          0.0        0.0  50.000000        0.0           0.0   \n",
      "2          0.0          0.0        0.0  75.000000       25.0           0.0   \n",
      "3          0.0          0.0        0.0  66.666667        0.0           0.0   \n",
      "4          0.0          0.0       25.0   0.000000       25.0          25.0   \n",
      "\n",
      "   ODMature3  ODMature4  Endothelial2  Ependymal  \n",
      "0        0.0        0.0           0.0        0.0  \n",
      "1        0.0        0.0           0.0        0.0  \n",
      "2        0.0        0.0           0.0        0.0  \n",
      "3        0.0        0.0           0.0        0.0  \n",
      "4        0.0        0.0           0.0        0.0  \n"
     ]
    },
    {
     "data": {
      "text/plain": [
       "Astrocyte       0\n",
       "Inhibitory      0\n",
       "Pericytes       0\n",
       "Ambiguous       0\n",
       "Endothelial1    0\n",
       "Excitatory      0\n",
       "ODImmature1     0\n",
       "ODImmature2     0\n",
       "Microglia       0\n",
       "ODMature2       0\n",
       "ODMature1       0\n",
       "Endothelial3    0\n",
       "ODMature3       0\n",
       "ODMature4       0\n",
       "Endothelial2    0\n",
       "Ependymal       0\n",
       "dtype: int64"
      ]
     },
     "execution_count": 22,
     "metadata": {},
     "output_type": "execute_result"
    }
   ],
   "source": [
    "print(deconvolveDf.head())\n",
    "deconvolveDf.to_csv(\"tangramDeconvolved.csv\",index= False)\n",
    "deconvolveDf.isnull().sum(axis = 0)"
   ]
  },
  {
   "cell_type": "code",
   "execution_count": 59,
   "id": "fef1a5a9",
   "metadata": {},
   "outputs": [
    {
     "data": {
      "image/png": "[encoded data removed]",
      "text/plain": [
       "<Figure size 720x360 with 1 Axes>"
      ]
     },
     "metadata": {
      "needs_background": "light"
     },
     "output_type": "display_data"
    },
    {
     "data": {
      "image/png": "[encoded data removed]",
      "text/plain": [
       "<Figure size 720x360 with 1 Axes>"
      ]
     },
     "metadata": {
      "needs_background": "light"
     },
     "output_type": "display_data"
    }
   ],
   "source": [
    "# cellDict={}\n",
    "# for  c in ['Astrocyte']:\n",
    "#     uniqueCounts= (typeCountDf[c].unique())\n",
    "#     uniqueCounts = np.sort(uniqueCounts)\n",
    "#     for val in uniqueCounts:\n",
    "#         cellDict[val]=[deconvolveDf.iloc[Index][c] for Index  in range(len(deconvolveDf))  if abs(typeCountDf.iloc[Index][c]-val)<0.0000001 ]\n",
    "#     # print(cellDict[0])\n",
    "\n",
    "#     fig, ax  = plt.subplots()\n",
    "#     ax.boxplot(cellDict.values())\n",
    "#     ax.set_xticklabels(cellDict.keys())\n",
    "\n",
    "#     scatterDict={\n",
    "#         \"count\": typeCountDf[c],\n",
    "#         \"fraction\":deconvolveDf[c],\n",
    "#     }\n",
    "#     scatterDf=pd.DataFrame(scatterDict)   \n",
    "#     ax1 = scatterDf.plot.scatter(x='count',\n",
    "#                       y='fraction',\n",
    "#                     )\n",
    "#     # pdf = matplotlib.backends.backend_pdf.PdfPages(\"./output/merfish/tangram2c\"+c+\".pdf\")\n",
    "#     # pdf.savefig(ax)\n",
    "#     # pdf.savefig(ax1)"
   ]
  },
  {
   "cell_type": "markdown",
   "id": "271e5c9a-6b82-407d-a7be-d23354879dcf",
   "metadata": {},
   "source": [
    "# Spatial data exploration"
   ]
  },
  {
   "cell_type": "code",
   "execution_count": 24,
   "id": "01bb8151-4775-48d9-9e75-cfcdc767ac46",
   "metadata": {},
   "outputs": [
    {
     "name": "stdout",
     "output_type": "stream",
     "text": [
      "1 Ambiguous 50.0\n",
      "2 Ambiguous 33.333333333333336\n",
      "1 Ambiguous 66.66666666666667\n",
      "4 Excitatory 33.333333333333336\n",
      "2 Astrocyte 33.333333333333336\n",
      "2 Inhibitory 28.571428571428573\n",
      "1 Inhibitory 33.333333333333336\n",
      "1 Inhibitory 40.0\n",
      "1 Ambiguous 50.0\n",
      "1 Excitatory 50.0\n",
      "1 Ambiguous 50.0\n",
      "2 Ambiguous 33.333333333333336\n",
      "1 Ambiguous 66.66666666666667\n",
      "2 Inhibitory 33.333333333333336\n",
      "3 ODMature1 40.0\n",
      "2 ODImmature1 33.333333333333336\n",
      "2 Ambiguous 33.333333333333336\n",
      "2 Ambiguous 33.333333333333336\n",
      "2 Ambiguous 40.0\n",
      "1 Astrocyte 50.0\n",
      "2 Inhibitory 50.0\n",
      "3 Inhibitory 40.0\n",
      "2 ODMature2 33.333333333333336\n",
      "2 Inhibitory 33.333333333333336\n",
      "2 Astrocyte 50.0\n",
      "3 Astrocyte 28.571428571428573\n",
      "3 Excitatory 40.0\n",
      "2 Excitatory 33.333333333333336\n",
      "2 Inhibitory 33.333333333333336\n",
      "1 Ambiguous 50.0\n",
      "2 Astrocyte 33.333333333333336\n",
      "2 Excitatory 33.333333333333336\n",
      "2 Ambiguous 33.333333333333336\n",
      "2 Excitatory 33.333333333333336\n",
      "1 Astrocyte 50.0\n",
      "1 Astrocyte 66.66666666666667\n",
      "1 Excitatory 33.333333333333336\n",
      "1 Ambiguous 50.0\n",
      "1 Ambiguous 33.333333333333336\n",
      "1 Inhibitory 50.0\n",
      "2 Ambiguous 33.333333333333336\n",
      "3 Ambiguous 50.0\n",
      "2 Inhibitory 33.333333333333336\n",
      "2 Ambiguous 60.0\n",
      "1 Inhibitory 50.0\n",
      "1 Inhibitory 33.333333333333336\n",
      "2 Inhibitory 33.333333333333336\n",
      "1 Astrocyte 100.0\n",
      "2 Excitatory 33.333333333333336\n",
      "2 Ambiguous 33.333333333333336\n",
      "5 Inhibitory 30.0\n",
      "3 Ambiguous 33.333333333333336\n",
      "2 Ambiguous 33.333333333333336\n",
      "2 Ambiguous 33.333333333333336\n",
      "3 Astrocyte 40.0\n",
      "2 Excitatory 33.333333333333336\n",
      "2 Pericytes 33.333333333333336\n",
      "3 Ambiguous 44.44444444444444\n",
      "3 Astrocyte 40.0\n",
      "1 Ambiguous 50.0\n",
      "2 ODMature1 33.333333333333336\n",
      "2 Ambiguous 40.0\n",
      "3 Ambiguous 28.571428571428573\n",
      "2 Astrocyte 33.333333333333336\n",
      "2 Endothelial1 33.333333333333336\n",
      "1 ODMature3 50.0\n",
      "2 Ambiguous 33.333333333333336\n",
      "3 Excitatory 28.571428571428573\n",
      "2 ODMature2 33.333333333333336\n",
      "1 Excitatory 50.0\n",
      "1 Excitatory 33.333333333333336\n",
      "1 Inhibitory 50.0\n",
      "3 Ambiguous 28.571428571428573\n",
      "2 Inhibitory 33.333333333333336\n",
      "2 Ambiguous 33.333333333333336\n",
      "2 Microglia 33.333333333333336\n",
      "2 Excitatory 50.0\n",
      "2 Ambiguous 50.0\n",
      "5 Inhibitory 30.0\n",
      "1 Inhibitory 50.0\n",
      "3 Excitatory 28.571428571428573\n",
      "1 Excitatory 50.0\n",
      "1 Excitatory 50.0\n",
      "1 Inhibitory 50.0\n",
      "3 Inhibitory 28.571428571428573\n",
      "2 ODMature2 33.333333333333336\n",
      "3 Ambiguous 28.571428571428573\n",
      "1 Excitatory 33.333333333333336\n",
      "2 Ambiguous 33.333333333333336\n",
      "1 Ambiguous 33.333333333333336\n"
     ]
    }
   ],
   "source": [
    "for i in range(deconvolveDf.shape[0]):\n",
    "    for j in range(deconvolveDf.shape[1]):\n",
    "        # if celltype-specific cellcount is zero and deconvolution percentage > threshold\n",
    "        if typeCountDf.iloc[i,j] == 0 and deconvolveDf.iloc[i,j] > 25:\n",
    "            print(cellcount.iloc[i][0], deconvolveDf.columns[j], deconvolveDf.iloc[i,j])"
   ]
  },
  {
   "cell_type": "code",
   "execution_count": 25,
   "id": "2bef1a1e-82be-479d-a16f-3fdba9b69b5e",
   "metadata": {},
   "outputs": [
    {
     "data": {
      "text/plain": [
       "cellcount\n",
       "2            363\n",
       "3            350\n",
       "1            224\n",
       "4            207\n",
       "5             78\n",
       "6             24\n",
       "7              2\n",
       "8              1\n",
       "dtype: int64"
      ]
     },
     "execution_count": 25,
     "metadata": {},
     "output_type": "execute_result"
    }
   ],
   "source": [
    "cellcount.value_counts()"
   ]
  },
  {
   "cell_type": "code",
   "execution_count": 153,
   "id": "1f356b71-b53f-4ba6-a8b2-88033d5b7b85",
   "metadata": {},
   "outputs": [
    {
     "data": {
      "text/plain": [
       "{'Astrocyte': {0: [914, 79],\n",
       "  1: [292, 141],\n",
       "  2: [40, 33],\n",
       "  3: [3, 3],\n",
       "  4: [0, 0],\n",
       "  5: [0, 0],\n",
       "  6: [0, 0],\n",
       "  7: [0, 0],\n",
       "  8: [0, 0]},\n",
       " 'Inhibitory': {0: [534, 80],\n",
       "  1: [391, 184],\n",
       "  2: [217, 159],\n",
       "  3: [86, 82],\n",
       "  4: [16, 16],\n",
       "  5: [3, 3],\n",
       "  6: [1, 1],\n",
       "  7: [1, 1],\n",
       "  8: [0, 0]},\n",
       " 'Pericytes': {0: [1233, 11],\n",
       "  1: [9, 5],\n",
       "  2: [1, 1],\n",
       "  3: [6, 6],\n",
       "  4: [0, 0],\n",
       "  5: [0, 0],\n",
       "  6: [0, 0],\n",
       "  7: [0, 0],\n",
       "  8: [0, 0]},\n",
       " 'Ambiguous': {0: [850, 166],\n",
       "  1: [328, 104],\n",
       "  2: [63, 37],\n",
       "  3: [8, 5],\n",
       "  4: [0, 0],\n",
       "  5: [0, 0],\n",
       "  6: [0, 0],\n",
       "  7: [0, 0],\n",
       "  8: [0, 0]},\n",
       " 'Endothelial1': {0: [1109, 31],\n",
       "  1: [129, 62],\n",
       "  2: [9, 8],\n",
       "  3: [1, 1],\n",
       "  4: [1, 1],\n",
       "  5: [0, 0],\n",
       "  6: [0, 0],\n",
       "  7: [0, 0],\n",
       "  8: [0, 0]},\n",
       " 'Excitatory': {0: [753, 97],\n",
       "  1: [374, 177],\n",
       "  2: [97, 76],\n",
       "  3: [20, 18],\n",
       "  4: [5, 5],\n",
       "  5: [0, 0],\n",
       "  6: [0, 0],\n",
       "  7: [0, 0],\n",
       "  8: [0, 0]},\n",
       " 'ODImmature1': {0: [1139, 31],\n",
       "  1: [107, 49],\n",
       "  2: [3, 2],\n",
       "  3: [0, 0],\n",
       "  4: [0, 0],\n",
       "  5: [0, 0],\n",
       "  6: [0, 0],\n",
       "  7: [0, 0],\n",
       "  8: [0, 0]},\n",
       " 'ODImmature2': {0: [1247, 5],\n",
       "  1: [2, 0],\n",
       "  2: [0, 0],\n",
       "  3: [0, 0],\n",
       "  4: [0, 0],\n",
       "  5: [0, 0],\n",
       "  6: [0, 0],\n",
       "  7: [0, 0],\n",
       "  8: [0, 0]},\n",
       " 'Microglia': {0: [1193, 13],\n",
       "  1: [56, 24],\n",
       "  2: [0, 0],\n",
       "  3: [0, 0],\n",
       "  4: [0, 0],\n",
       "  5: [0, 0],\n",
       "  6: [0, 0],\n",
       "  7: [0, 0],\n",
       "  8: [0, 0]},\n",
       " 'ODMature2': {0: [1144, 17],\n",
       "  1: [78, 33],\n",
       "  2: [23, 17],\n",
       "  3: [4, 3],\n",
       "  4: [0, 0],\n",
       "  5: [0, 0],\n",
       "  6: [0, 0],\n",
       "  7: [0, 0],\n",
       "  8: [0, 0]},\n",
       " 'ODMature1': {0: [1229, 23],\n",
       "  1: [20, 4],\n",
       "  2: [0, 0],\n",
       "  3: [0, 0],\n",
       "  4: [0, 0],\n",
       "  5: [0, 0],\n",
       "  6: [0, 0],\n",
       "  7: [0, 0],\n",
       "  8: [0, 0]},\n",
       " 'Endothelial3': {0: [1183, 12],\n",
       "  1: [63, 23],\n",
       "  2: [3, 2],\n",
       "  3: [0, 0],\n",
       "  4: [0, 0],\n",
       "  5: [0, 0],\n",
       "  6: [0, 0],\n",
       "  7: [0, 0],\n",
       "  8: [0, 0]},\n",
       " 'ODMature3': {0: [1247, 4],\n",
       "  1: [2, 0],\n",
       "  2: [0, 0],\n",
       "  3: [0, 0],\n",
       "  4: [0, 0],\n",
       "  5: [0, 0],\n",
       "  6: [0, 0],\n",
       "  7: [0, 0],\n",
       "  8: [0, 0]},\n",
       " 'ODMature4': {0: [1245, 3],\n",
       "  1: [3, 0],\n",
       "  2: [1, 1],\n",
       "  3: [0, 0],\n",
       "  4: [0, 0],\n",
       "  5: [0, 0],\n",
       "  6: [0, 0],\n",
       "  7: [0, 0],\n",
       "  8: [0, 0]},\n",
       " 'Endothelial2': {0: [1243, 8],\n",
       "  1: [6, 3],\n",
       "  2: [0, 0],\n",
       "  3: [0, 0],\n",
       "  4: [0, 0],\n",
       "  5: [0, 0],\n",
       "  6: [0, 0],\n",
       "  7: [0, 0],\n",
       "  8: [0, 0]},\n",
       " 'Ependymal': {0: [1217, 17],\n",
       "  1: [4, 4],\n",
       "  2: [8, 7],\n",
       "  3: [7, 6],\n",
       "  4: [3, 3],\n",
       "  5: [5, 5],\n",
       "  6: [3, 3],\n",
       "  7: [2, 2],\n",
       "  8: [0, 0]}}"
      ]
     },
     "execution_count": 153,
     "metadata": {},
     "output_type": "execute_result"
    }
   ],
   "source": [
    "l = np.max(cellcount.values) + 1\n",
    "count_misprediction = dict.fromkeys(celltypes)\n",
    "for i in count_misprediction:\n",
    "    count_misprediction[i] = dict.fromkeys(range(l))\n",
    "    for j in count_misprediction[i]:\n",
    "        count_misprediction[i][j] = [0,0]\n",
    "\n",
    "for j in range(deconvDf.shape[1]):\n",
    "    for i in range(deconvDf.shape[0]):\n",
    "        actual_count = typeCountDf.iloc[i,j]\n",
    "        predicted_count = deconvDf.iloc[i,j]\n",
    "        count_misprediction[deconvDf.columns[j]][typeCountDf.iloc[i,j]][0] += 1\n",
    "        if typeCountDf.iloc[i,j] != deconvDf.iloc[i,j]:\n",
    "            count_misprediction[deconvDf.columns[j]][typeCountDf.iloc[i,j]][1] += 1\n",
    "count_misprediction"
   ]
  },
  {
   "cell_type": "code",
   "execution_count": 135,
   "id": "ff6bdc4a-a71d-483e-9071-5627a7b12a5c",
   "metadata": {},
   "outputs": [
    {
     "data": {
      "text/plain": [
       "(597, (1249, 16), 2.9873899119295437)"
      ]
     },
     "execution_count": 135,
     "metadata": {},
     "output_type": "execute_result"
    }
   ],
   "source": [
    "z = 0\n",
    "for i in count_misprediction:\n",
    "    z += count_misprediction[i][0][1]\n",
    "    \n",
    "z, deconvDf.shape, (z / np.prod(deconvDf.shape)) * 100"
   ]
  },
  {
   "cell_type": "code",
   "execution_count": 185,
   "id": "4a55e892-bd29-4767-b385-ba735e325320",
   "metadata": {},
   "outputs": [
    {
     "data": {
      "image/png": "[encoded data removed]",
      "text/plain": [
       "<Figure size 1440x1800 with 16 Axes>"
      ]
     },
     "metadata": {
      "needs_background": "light"
     },
     "output_type": "display_data"
    }
   ],
   "source": [
    "plt.rcParams['figure.figsize'] = [20,25]\n",
    "\n",
    "for i, celltype in enumerate(celltypes):\n",
    "    x = list(count_misprediction[celltype].keys())\n",
    "    y = np.array(list(count_misprediction[celltype].values()))\n",
    "    plt.subplot(4, 4, i+1)\n",
    "    bar = plt.bar(x, y[:,1], width=0.8, color='g')\n",
    "    for j, rect in enumerate(bar):\n",
    "        height = rect.get_height()\n",
    "        plt.text(rect.get_x() + rect.get_width() / 2.0, height, f'{y[j,0]:.0f}', ha='center', va='bottom')\n",
    "    plt.title(celltype)\n",
    "    # plt.legend()\n",
    "    # plt.subplots_adjust(hspace = 0.4)\n",
    "    plt.tight_layout()\n",
    "    \n",
    "plt.rcParams['figure.figsize'] = [10,5]"
   ]
  },
  {
   "cell_type": "code",
   "execution_count": 149,
   "id": "736c03c1-fa23-4d89-8245-9804024ea139",
   "metadata": {},
   "outputs": [
    {
     "data": {
      "text/plain": [
       "array([914, 292,  40,   3,   0,   0,   0,   0,   0])"
      ]
     },
     "execution_count": 149,
     "metadata": {},
     "output_type": "execute_result"
    }
   ],
   "source": [
    "z = np.array(list(count_misprediction[celltype].values()))\n",
    "z[:,0]"
   ]
  },
  {
   "cell_type": "code",
   "execution_count": 160,
   "id": "b64d2b25-ef29-497d-87d9-790eb4624487",
   "metadata": {},
   "outputs": [
    {
     "data": {
      "text/plain": [
       "[-0.4, 0.6, 1.6, 2.6, 3.6, 4.6, 5.6, 6.6, 7.6]"
      ]
     },
     "execution_count": 160,
     "metadata": {},
     "output_type": "execute_result"
    }
   ],
   "source": [
    "x = list(count_misprediction['Astrocyte'].keys())\n",
    "[i-0.4 for i in x]"
   ]
  }
 ],
 "metadata": {
  "kernelspec": {
   "display_name": "Python 3 (ipykernel)",
   "language": "python",
   "name": "python3"
  },
  "language_info": {
   "codemirror_mode": {
    "name": "ipython",
    "version": 3
   },
   "file_extension": ".py",
   "mimetype": "text/x-python",
   "name": "python",
   "nbconvert_exporter": "python",
   "pygments_lexer": "ipython3",
   "version": "3.9.7"
  }
 },
 "nbformat": 4,
 "nbformat_minor": 5
}
