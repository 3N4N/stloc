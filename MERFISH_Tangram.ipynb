{
 "cells": [
  {
   "cell_type": "markdown",
   "id": "1039e8e8-b2ce-4947-a78d-314b13f994e4",
   "metadata": {
    "id": "1039e8e8-b2ce-4947-a78d-314b13f994e4"
   },
   "source": [
    "# Import libs"
   ]
  },
  {
   "cell_type": "code",
   "execution_count": 43,
   "id": "47e9908a-c33d-4596-a177-bfa06f720e23",
   "metadata": {
    "id": "47e9908a-c33d-4596-a177-bfa06f720e23"
   },
   "outputs": [],
   "source": [
    "import numpy as np\n",
    "import pandas as pd\n",
    "import matplotlib.backends.backend_pdf\n",
    "import seaborn as sns\n",
    "\n",
    "from sklearn.preprocessing import MinMaxScaler\n",
    "\n",
    "import scanpy as sc\n",
    "import anndata as ad\n",
    "import tangram as tg\n",
    "import matplotlib.pyplot as plt\n",
    "import seaborn as sns\n",
    "import copy"
   ]
  },
  {
   "cell_type": "code",
   "execution_count": 44,
   "id": "b64b10e4-59b8-4106-b02b-d6910c149f11",
   "metadata": {
    "id": "b64b10e4-59b8-4106-b02b-d6910c149f11"
   },
   "outputs": [
    {
     "name": "stdout",
     "output_type": "stream",
     "text": [
      "The autoreload extension is already loaded. To reload it, use:\n",
      "  %reload_ext autoreload\n"
     ]
    }
   ],
   "source": [
    "np.random.seed(10)\n",
    "\n",
    "%load_ext autoreload\n",
    "%autoreload 2\n",
    "%matplotlib inline\n",
    "plt.rcParams['figure.figsize'] = [10,5]"
   ]
  },
  {
   "cell_type": "code",
   "execution_count": 45,
   "id": "61b1c087-c701-4234-81cc-96e5c401566f",
   "metadata": {
    "id": "61b1c087-c701-4234-81cc-96e5c401566f"
   },
   "outputs": [],
   "source": [
    "import torch\n",
    "torch.cuda.empty_cache()\n",
    "device = torch.device(\"cpu\")"
   ]
  },
  {
   "cell_type": "code",
   "execution_count": 46,
   "id": "6a5b25dd-03b0-40bc-9010-d2f65c9063ba",
   "metadata": {
    "id": "6a5b25dd-03b0-40bc-9010-d2f65c9063ba"
   },
   "outputs": [],
   "source": [
    "project_location = \"./\"\n",
    "# project_location = \"e:/projects/stloc/\""
   ]
  },
  {
   "cell_type": "markdown",
   "id": "0d60b61d-3d25-4f1a-97cd-4e0855f5eb6e",
   "metadata": {
    "id": "0d60b61d-3d25-4f1a-97cd-4e0855f5eb6e"
   },
   "source": [
    "# Load data"
   ]
  },
  {
   "cell_type": "code",
   "execution_count": 47,
   "id": "dNFong2ZKR0K",
   "metadata": {
    "id": "dNFong2ZKR0K"
   },
   "outputs": [],
   "source": [
    "running_data = None\n",
    "running_data = '2celltypes'"
   ]
  },
  {
   "cell_type": "markdown",
   "id": "5acc4bcb-5428-4a06-98cf-ddaab40fbe64",
   "metadata": {
    "id": "5acc4bcb-5428-4a06-98cf-ddaab40fbe64"
   },
   "source": [
    "## Spatial data"
   ]
  },
  {
   "cell_type": "code",
   "execution_count": 48,
   "id": "3946a17b-2db2-406a-9eca-f3be04ac8421",
   "metadata": {
    "colab": {
     "base_uri": "https://localhost:8080/",
     "height": 255
    },
    "id": "3946a17b-2db2-406a-9eca-f3be04ac8421",
    "outputId": "58d0b1cf-68d3-499b-f11b-b9d8b2baeb9c"
   },
   "outputs": [
    {
     "data": {
      "text/html": [
       "<div>\n",
       "<style scoped>\n",
       "    .dataframe tbody tr th:only-of-type {\n",
       "        vertical-align: middle;\n",
       "    }\n",
       "\n",
       "    .dataframe tbody tr th {\n",
       "        vertical-align: top;\n",
       "    }\n",
       "\n",
       "    .dataframe thead th {\n",
       "        text-align: right;\n",
       "    }\n",
       "</style>\n",
       "<table border=\"1\" class=\"dataframe\">\n",
       "  <thead>\n",
       "    <tr style=\"text-align: right;\">\n",
       "      <th></th>\n",
       "      <th>Ace2</th>\n",
       "      <th>Adora2a</th>\n",
       "      <th>Aldh1l1</th>\n",
       "      <th>Amigo2</th>\n",
       "      <th>Ano3</th>\n",
       "      <th>Aqp4</th>\n",
       "      <th>Ar</th>\n",
       "      <th>Arhgap36</th>\n",
       "      <th>Avpr1a</th>\n",
       "      <th>Avpr2</th>\n",
       "      <th>...</th>\n",
       "      <th>Sln</th>\n",
       "      <th>Sst</th>\n",
       "      <th>Tac1</th>\n",
       "      <th>Tac2</th>\n",
       "      <th>Th</th>\n",
       "      <th>Trh</th>\n",
       "      <th>Ucn3</th>\n",
       "      <th>Vgf</th>\n",
       "      <th>Astrocyte</th>\n",
       "      <th>Inhibitory</th>\n",
       "    </tr>\n",
       "  </thead>\n",
       "  <tbody>\n",
       "    <tr>\n",
       "      <th>0</th>\n",
       "      <td>0.0</td>\n",
       "      <td>0.0</td>\n",
       "      <td>24.042835</td>\n",
       "      <td>7.490070</td>\n",
       "      <td>0.000000</td>\n",
       "      <td>43.764002</td>\n",
       "      <td>0.0</td>\n",
       "      <td>7.061948</td>\n",
       "      <td>0.000000</td>\n",
       "      <td>0.0</td>\n",
       "      <td>...</td>\n",
       "      <td>0.00000</td>\n",
       "      <td>0.0</td>\n",
       "      <td>0.000000</td>\n",
       "      <td>0.016809</td>\n",
       "      <td>0.566421</td>\n",
       "      <td>0.000000</td>\n",
       "      <td>0.009827</td>\n",
       "      <td>0.018258</td>\n",
       "      <td>1.0</td>\n",
       "      <td>1.0</td>\n",
       "    </tr>\n",
       "    <tr>\n",
       "      <th>1</th>\n",
       "      <td>0.0</td>\n",
       "      <td>0.0</td>\n",
       "      <td>18.998619</td>\n",
       "      <td>18.594585</td>\n",
       "      <td>0.630872</td>\n",
       "      <td>40.359521</td>\n",
       "      <td>0.0</td>\n",
       "      <td>3.154416</td>\n",
       "      <td>1.261778</td>\n",
       "      <td>0.0</td>\n",
       "      <td>...</td>\n",
       "      <td>0.06346</td>\n",
       "      <td>0.0</td>\n",
       "      <td>0.072791</td>\n",
       "      <td>0.000000</td>\n",
       "      <td>0.562883</td>\n",
       "      <td>0.000000</td>\n",
       "      <td>0.003225</td>\n",
       "      <td>0.018325</td>\n",
       "      <td>1.0</td>\n",
       "      <td>1.0</td>\n",
       "    </tr>\n",
       "    <tr>\n",
       "      <th>2</th>\n",
       "      <td>0.0</td>\n",
       "      <td>0.0</td>\n",
       "      <td>20.779869</td>\n",
       "      <td>12.360754</td>\n",
       "      <td>0.000000</td>\n",
       "      <td>41.509898</td>\n",
       "      <td>0.0</td>\n",
       "      <td>3.562470</td>\n",
       "      <td>0.000000</td>\n",
       "      <td>0.0</td>\n",
       "      <td>...</td>\n",
       "      <td>0.00000</td>\n",
       "      <td>0.0</td>\n",
       "      <td>0.048410</td>\n",
       "      <td>0.000000</td>\n",
       "      <td>0.521170</td>\n",
       "      <td>0.000000</td>\n",
       "      <td>0.003225</td>\n",
       "      <td>0.008280</td>\n",
       "      <td>1.0</td>\n",
       "      <td>1.0</td>\n",
       "    </tr>\n",
       "    <tr>\n",
       "      <th>3</th>\n",
       "      <td>0.0</td>\n",
       "      <td>0.0</td>\n",
       "      <td>18.998619</td>\n",
       "      <td>3.454716</td>\n",
       "      <td>0.000000</td>\n",
       "      <td>39.728649</td>\n",
       "      <td>0.0</td>\n",
       "      <td>0.000000</td>\n",
       "      <td>0.000000</td>\n",
       "      <td>0.0</td>\n",
       "      <td>...</td>\n",
       "      <td>0.00000</td>\n",
       "      <td>0.0</td>\n",
       "      <td>0.000000</td>\n",
       "      <td>0.000000</td>\n",
       "      <td>0.541505</td>\n",
       "      <td>0.014588</td>\n",
       "      <td>0.019870</td>\n",
       "      <td>0.000000</td>\n",
       "      <td>1.0</td>\n",
       "      <td>1.0</td>\n",
       "    </tr>\n",
       "    <tr>\n",
       "      <th>4</th>\n",
       "      <td>0.0</td>\n",
       "      <td>0.0</td>\n",
       "      <td>26.470893</td>\n",
       "      <td>3.454716</td>\n",
       "      <td>0.000000</td>\n",
       "      <td>57.875616</td>\n",
       "      <td>0.0</td>\n",
       "      <td>1.067474</td>\n",
       "      <td>0.533734</td>\n",
       "      <td>0.0</td>\n",
       "      <td>...</td>\n",
       "      <td>0.00000</td>\n",
       "      <td>0.0</td>\n",
       "      <td>0.000000</td>\n",
       "      <td>0.000000</td>\n",
       "      <td>0.510875</td>\n",
       "      <td>0.004664</td>\n",
       "      <td>0.024305</td>\n",
       "      <td>0.000000</td>\n",
       "      <td>1.0</td>\n",
       "      <td>1.0</td>\n",
       "    </tr>\n",
       "  </tbody>\n",
       "</table>\n",
       "<p>5 rows × 157 columns</p>\n",
       "</div>"
      ],
      "text/plain": [
       "   Ace2  Adora2a    Aldh1l1     Amigo2      Ano3       Aqp4   Ar  Arhgap36  \\\n",
       "0   0.0      0.0  24.042835   7.490070  0.000000  43.764002  0.0  7.061948   \n",
       "1   0.0      0.0  18.998619  18.594585  0.630872  40.359521  0.0  3.154416   \n",
       "2   0.0      0.0  20.779869  12.360754  0.000000  41.509898  0.0  3.562470   \n",
       "3   0.0      0.0  18.998619   3.454716  0.000000  39.728649  0.0  0.000000   \n",
       "4   0.0      0.0  26.470893   3.454716  0.000000  57.875616  0.0  1.067474   \n",
       "\n",
       "     Avpr1a  Avpr2  ...      Sln  Sst      Tac1      Tac2        Th       Trh  \\\n",
       "0  0.000000    0.0  ...  0.00000  0.0  0.000000  0.016809  0.566421  0.000000   \n",
       "1  1.261778    0.0  ...  0.06346  0.0  0.072791  0.000000  0.562883  0.000000   \n",
       "2  0.000000    0.0  ...  0.00000  0.0  0.048410  0.000000  0.521170  0.000000   \n",
       "3  0.000000    0.0  ...  0.00000  0.0  0.000000  0.000000  0.541505  0.014588   \n",
       "4  0.533734    0.0  ...  0.00000  0.0  0.000000  0.000000  0.510875  0.004664   \n",
       "\n",
       "       Ucn3       Vgf  Astrocyte  Inhibitory  \n",
       "0  0.009827  0.018258        1.0         1.0  \n",
       "1  0.003225  0.018325        1.0         1.0  \n",
       "2  0.003225  0.008280        1.0         1.0  \n",
       "3  0.019870  0.000000        1.0         1.0  \n",
       "4  0.024305  0.000000        1.0         1.0  \n",
       "\n",
       "[5 rows x 157 columns]"
      ]
     },
     "execution_count": 48,
     "metadata": {},
     "output_type": "execute_result"
    }
   ],
   "source": [
    "if running_data != '2celltypes':\n",
    "    df_st = pd.read_csv(project_location + \"data/merfish/merfishSpatial.csv\", sep=\" \")\n",
    "else:\n",
    "    df_st = pd.read_csv(project_location + \"data/twoType/spatialData/\" + \"Astrocyte\"+\"Inhibitory\" + \"Spatial.csv\", sep=\",\")\n",
    "coords = df_st['coord']\n",
    "df_st.drop(columns=['coord'], inplace=True)\n",
    "df_st.head()"
   ]
  },
  {
   "cell_type": "code",
   "execution_count": 49,
   "id": "8a37a3de-c289-4e0f-b72e-c241eb0546d1",
   "metadata": {
    "colab": {
     "base_uri": "https://localhost:8080/",
     "height": 206
    },
    "id": "8a37a3de-c289-4e0f-b72e-c241eb0546d1",
    "outputId": "d500e6c8-962e-4950-db96-823b73746902"
   },
   "outputs": [
    {
     "data": {
      "text/html": [
       "<div>\n",
       "<style scoped>\n",
       "    .dataframe tbody tr th:only-of-type {\n",
       "        vertical-align: middle;\n",
       "    }\n",
       "\n",
       "    .dataframe tbody tr th {\n",
       "        vertical-align: top;\n",
       "    }\n",
       "\n",
       "    .dataframe thead th {\n",
       "        text-align: right;\n",
       "    }\n",
       "</style>\n",
       "<table border=\"1\" class=\"dataframe\">\n",
       "  <thead>\n",
       "    <tr style=\"text-align: right;\">\n",
       "      <th></th>\n",
       "      <th>cell_type</th>\n",
       "      <th>marker_gene</th>\n",
       "    </tr>\n",
       "  </thead>\n",
       "  <tbody>\n",
       "    <tr>\n",
       "      <th>0</th>\n",
       "      <td>Astrocyte</td>\n",
       "      <td>Aldh1l1</td>\n",
       "    </tr>\n",
       "    <tr>\n",
       "      <th>1</th>\n",
       "      <td>Astrocyte</td>\n",
       "      <td>Aqp4</td>\n",
       "    </tr>\n",
       "    <tr>\n",
       "      <th>2</th>\n",
       "      <td>Astrocyte</td>\n",
       "      <td>Cxcl14</td>\n",
       "    </tr>\n",
       "    <tr>\n",
       "      <th>3</th>\n",
       "      <td>Astrocyte</td>\n",
       "      <td>Mlc1</td>\n",
       "    </tr>\n",
       "    <tr>\n",
       "      <th>4</th>\n",
       "      <td>Astrocyte</td>\n",
       "      <td>Ttyh2</td>\n",
       "    </tr>\n",
       "  </tbody>\n",
       "</table>\n",
       "</div>"
      ],
      "text/plain": [
       "   cell_type marker_gene\n",
       "0  Astrocyte     Aldh1l1\n",
       "1  Astrocyte        Aqp4\n",
       "2  Astrocyte      Cxcl14\n",
       "3  Astrocyte        Mlc1\n",
       "4  Astrocyte       Ttyh2"
      ]
     },
     "execution_count": 49,
     "metadata": {},
     "output_type": "execute_result"
    }
   ],
   "source": [
    "reference = pd.read_csv(project_location + \"data/merfish/markerGene_for_merfish_data.csv\")\n",
    "reference.drop(columns=['p_value'], inplace=True)\n",
    "# reference.drop(range(148,168))\n",
    "reference.drop(reference.index[reference.cell_type=='EpendymalInhibitory'].tolist(), inplace=True)\n",
    "reference['cell_type'] = reference['cell_type'].astype(str).str.replace(\" \", \"\")\n",
    "reference.head()"
   ]
  },
  {
   "cell_type": "code",
   "execution_count": 50,
   "id": "393cf07e-d271-4398-8081-76b70afff7b5",
   "metadata": {
    "colab": {
     "base_uri": "https://localhost:8080/",
     "height": 444
    },
    "id": "393cf07e-d271-4398-8081-76b70afff7b5",
    "outputId": "af8e9fee-0e13-4769-f08c-be70facc8371"
   },
   "outputs": [
    {
     "data": {
      "text/html": [
       "<div>\n",
       "<style scoped>\n",
       "    .dataframe tbody tr th:only-of-type {\n",
       "        vertical-align: middle;\n",
       "    }\n",
       "\n",
       "    .dataframe tbody tr th {\n",
       "        vertical-align: top;\n",
       "    }\n",
       "\n",
       "    .dataframe thead th {\n",
       "        text-align: right;\n",
       "    }\n",
       "</style>\n",
       "<table border=\"1\" class=\"dataframe\">\n",
       "  <thead>\n",
       "    <tr style=\"text-align: right;\">\n",
       "      <th></th>\n",
       "      <th>Astrocyte</th>\n",
       "      <th>Inhibitory</th>\n",
       "    </tr>\n",
       "  </thead>\n",
       "  <tbody>\n",
       "    <tr>\n",
       "      <th>0</th>\n",
       "      <td>1</td>\n",
       "      <td>1</td>\n",
       "    </tr>\n",
       "    <tr>\n",
       "      <th>1</th>\n",
       "      <td>1</td>\n",
       "      <td>1</td>\n",
       "    </tr>\n",
       "    <tr>\n",
       "      <th>2</th>\n",
       "      <td>1</td>\n",
       "      <td>1</td>\n",
       "    </tr>\n",
       "    <tr>\n",
       "      <th>3</th>\n",
       "      <td>1</td>\n",
       "      <td>1</td>\n",
       "    </tr>\n",
       "    <tr>\n",
       "      <th>4</th>\n",
       "      <td>1</td>\n",
       "      <td>1</td>\n",
       "    </tr>\n",
       "    <tr>\n",
       "      <th>...</th>\n",
       "      <td>...</td>\n",
       "      <td>...</td>\n",
       "    </tr>\n",
       "    <tr>\n",
       "      <th>246</th>\n",
       "      <td>4</td>\n",
       "      <td>4</td>\n",
       "    </tr>\n",
       "    <tr>\n",
       "      <th>247</th>\n",
       "      <td>4</td>\n",
       "      <td>4</td>\n",
       "    </tr>\n",
       "    <tr>\n",
       "      <th>248</th>\n",
       "      <td>4</td>\n",
       "      <td>4</td>\n",
       "    </tr>\n",
       "    <tr>\n",
       "      <th>249</th>\n",
       "      <td>4</td>\n",
       "      <td>4</td>\n",
       "    </tr>\n",
       "    <tr>\n",
       "      <th>250</th>\n",
       "      <td>5</td>\n",
       "      <td>5</td>\n",
       "    </tr>\n",
       "  </tbody>\n",
       "</table>\n",
       "<p>251 rows × 2 columns</p>\n",
       "</div>"
      ],
      "text/plain": [
       "     Astrocyte  Inhibitory\n",
       "0            1           1\n",
       "1            1           1\n",
       "2            1           1\n",
       "3            1           1\n",
       "4            1           1\n",
       "..         ...         ...\n",
       "246          4           4\n",
       "247          4           4\n",
       "248          4           4\n",
       "249          4           4\n",
       "250          5           5\n",
       "\n",
       "[251 rows x 2 columns]"
      ]
     },
     "execution_count": 50,
     "metadata": {},
     "output_type": "execute_result"
    }
   ],
   "source": [
    "genes = df_st.columns[:155]\n",
    "markers = reference.groupby('cell_type').agg(list).marker_gene\n",
    "celltypes = reference.cell_type.unique().tolist()\n",
    "if running_data == '2celltypes':\n",
    "    celltypes = df_st.columns[-2:]\n",
    "expressions = df_st.drop(columns=celltypes)\n",
    "expressions = MinMaxScaler().fit_transform(expressions)\n",
    "counts_st = pd.DataFrame(expressions, columns=genes)\n",
    "cellcount = pd.DataFrame(np.sum(df_st[celltypes], axis=1), columns=['cellcount']).astype(int)\n",
    "typeCountDf = df_st[celltypes].astype(int)\n",
    "typeCountDf"
   ]
  },
  {
   "cell_type": "code",
   "execution_count": 51,
   "id": "524270ff-3da1-43f3-a291-2bbf3fce0033",
   "metadata": {
    "colab": {
     "base_uri": "https://localhost:8080/"
    },
    "id": "524270ff-3da1-43f3-a291-2bbf3fce0033",
    "outputId": "9d80475f-6d46-4102-b202-eb8d56af4dc9"
   },
   "outputs": [
    {
     "name": "stdout",
     "output_type": "stream",
     "text": [
      "     cellcount\n",
      "0            2\n",
      "1            2\n",
      "2            2\n",
      "3            2\n",
      "4            2\n",
      "..         ...\n",
      "246          8\n",
      "247          8\n",
      "248          8\n",
      "249          8\n",
      "250         10\n",
      "\n",
      "[251 rows x 1 columns]\n",
      "zero count is cellcount    0\n",
      "dtype: int64\n"
     ]
    },
    {
     "data": {
      "text/plain": [
       "2"
      ]
     },
     "execution_count": 51,
     "metadata": {},
     "output_type": "execute_result"
    }
   ],
   "source": [
    "print(cellcount)\n",
    "zero = (cellcount==0).sum()\n",
    "print('zero count is',zero)\n",
    "len(celltypes)"
   ]
  },
  {
   "cell_type": "markdown",
   "id": "8905e07e-3c1a-414d-80a8-60bc62fba36e",
   "metadata": {
    "id": "8905e07e-3c1a-414d-80a8-60bc62fba36e"
   },
   "source": [
    "## Single-cell data"
   ]
  },
  {
   "cell_type": "code",
   "execution_count": 78,
   "id": "23df6a04-6ad2-4d36-a634-65ee063d69a0",
   "metadata": {
    "colab": {
     "base_uri": "https://localhost:8080/",
     "height": 342
    },
    "id": "23df6a04-6ad2-4d36-a634-65ee063d69a0",
    "outputId": "53ec25fd-14c7-4bee-a922-3d7c83961a60"
   },
   "outputs": [
    {
     "data": {
      "text/html": [
       "<div>\n",
       "<style scoped>\n",
       "    .dataframe tbody tr th:only-of-type {\n",
       "        vertical-align: middle;\n",
       "    }\n",
       "\n",
       "    .dataframe tbody tr th {\n",
       "        vertical-align: top;\n",
       "    }\n",
       "\n",
       "    .dataframe thead th {\n",
       "        text-align: right;\n",
       "    }\n",
       "</style>\n",
       "<table border=\"1\" class=\"dataframe\">\n",
       "  <thead>\n",
       "    <tr style=\"text-align: right;\">\n",
       "      <th></th>\n",
       "      <th>Cell_ID</th>\n",
       "      <th>Animal_ID</th>\n",
       "      <th>Animal_sex</th>\n",
       "      <th>Behavior</th>\n",
       "      <th>Bregma</th>\n",
       "      <th>Centroid_X</th>\n",
       "      <th>Centroid_Y</th>\n",
       "      <th>Cell_class</th>\n",
       "      <th>Neuron_cluster_ID</th>\n",
       "      <th>Ace2</th>\n",
       "      <th>...</th>\n",
       "      <th>Penk</th>\n",
       "      <th>Scg2</th>\n",
       "      <th>Sln</th>\n",
       "      <th>Sst</th>\n",
       "      <th>Tac1</th>\n",
       "      <th>Tac2</th>\n",
       "      <th>Th</th>\n",
       "      <th>Trh</th>\n",
       "      <th>Ucn3</th>\n",
       "      <th>Vgf</th>\n",
       "    </tr>\n",
       "  </thead>\n",
       "  <tbody>\n",
       "    <tr>\n",
       "      <th>0</th>\n",
       "      <td>1f9a8c19-b089-43d1-b609-7e791dc2c70f</td>\n",
       "      <td>1</td>\n",
       "      <td>Female</td>\n",
       "      <td>Naive</td>\n",
       "      <td>-0.24</td>\n",
       "      <td>-3749.176078</td>\n",
       "      <td>-3749.458442</td>\n",
       "      <td>Astrocyte</td>\n",
       "      <td>NaN</td>\n",
       "      <td>0.0</td>\n",
       "      <td>...</td>\n",
       "      <td>0.0</td>\n",
       "      <td>0.0</td>\n",
       "      <td>0.0</td>\n",
       "      <td>0.0</td>\n",
       "      <td>0.0</td>\n",
       "      <td>0.0</td>\n",
       "      <td>0.273327</td>\n",
       "      <td>0.0</td>\n",
       "      <td>0.003225</td>\n",
       "      <td>0.0</td>\n",
       "    </tr>\n",
       "    <tr>\n",
       "      <th>1</th>\n",
       "      <td>1f9a8c19-b089-43d1-b609-7e791dc2c70f</td>\n",
       "      <td>1</td>\n",
       "      <td>Female</td>\n",
       "      <td>Naive</td>\n",
       "      <td>-0.24</td>\n",
       "      <td>-3749.176078</td>\n",
       "      <td>-3749.458442</td>\n",
       "      <td>Astrocyte</td>\n",
       "      <td>NaN</td>\n",
       "      <td>0.0</td>\n",
       "      <td>...</td>\n",
       "      <td>0.0</td>\n",
       "      <td>0.0</td>\n",
       "      <td>0.0</td>\n",
       "      <td>0.0</td>\n",
       "      <td>0.0</td>\n",
       "      <td>0.0</td>\n",
       "      <td>0.273327</td>\n",
       "      <td>0.0</td>\n",
       "      <td>0.003225</td>\n",
       "      <td>0.0</td>\n",
       "    </tr>\n",
       "  </tbody>\n",
       "</table>\n",
       "<p>2 rows × 164 columns</p>\n",
       "</div>"
      ],
      "text/plain": [
       "                                Cell_ID  Animal_ID Animal_sex Behavior  \\\n",
       "0  1f9a8c19-b089-43d1-b609-7e791dc2c70f          1     Female    Naive   \n",
       "1  1f9a8c19-b089-43d1-b609-7e791dc2c70f          1     Female    Naive   \n",
       "\n",
       "   Bregma   Centroid_X   Centroid_Y Cell_class Neuron_cluster_ID  Ace2  ...  \\\n",
       "0   -0.24 -3749.176078 -3749.458442  Astrocyte               NaN   0.0  ...   \n",
       "1   -0.24 -3749.176078 -3749.458442  Astrocyte               NaN   0.0  ...   \n",
       "\n",
       "   Penk  Scg2  Sln  Sst  Tac1  Tac2        Th  Trh      Ucn3  Vgf  \n",
       "0   0.0   0.0  0.0  0.0   0.0   0.0  0.273327  0.0  0.003225  0.0  \n",
       "1   0.0   0.0  0.0  0.0   0.0   0.0  0.273327  0.0  0.003225  0.0  \n",
       "\n",
       "[2 rows x 164 columns]"
      ]
     },
     "execution_count": 78,
     "metadata": {},
     "output_type": "execute_result"
    }
   ],
   "source": [
    "if running_data != '2celltypes':\n",
    "    df_sc = pd.read_csv(project_location + \"data/merfish/merfishVisium.csv\")\n",
    "else:\n",
    "    df_sc = pd.read_csv(project_location + \"data/twoType/singleCell/\" + celltypes[0] + celltypes[1] + \"Single.csv\")\n",
    "df_sc.head(2)"
   ]
  },
  {
   "cell_type": "code",
   "execution_count": 79,
   "id": "dc4a5656-557c-41c4-b957-be5dc8a86a21",
   "metadata": {
    "colab": {
     "base_uri": "https://localhost:8080/",
     "height": 206
    },
    "id": "dc4a5656-557c-41c4-b957-be5dc8a86a21",
    "outputId": "08dba24b-d916-4021-9c50-327dcfa51396"
   },
   "outputs": [
    {
     "data": {
      "text/html": [
       "<div>\n",
       "<style scoped>\n",
       "    .dataframe tbody tr th:only-of-type {\n",
       "        vertical-align: middle;\n",
       "    }\n",
       "\n",
       "    .dataframe tbody tr th {\n",
       "        vertical-align: top;\n",
       "    }\n",
       "\n",
       "    .dataframe thead th {\n",
       "        text-align: right;\n",
       "    }\n",
       "</style>\n",
       "<table border=\"1\" class=\"dataframe\">\n",
       "  <thead>\n",
       "    <tr style=\"text-align: right;\">\n",
       "      <th></th>\n",
       "      <th>Cell_ID</th>\n",
       "      <th>Animal_ID</th>\n",
       "      <th>Animal_sex</th>\n",
       "      <th>Behavior</th>\n",
       "      <th>Bregma</th>\n",
       "      <th>Centroid_X</th>\n",
       "      <th>Centroid_Y</th>\n",
       "      <th>Cell_class</th>\n",
       "      <th>Neuron_cluster_ID</th>\n",
       "    </tr>\n",
       "  </thead>\n",
       "  <tbody>\n",
       "    <tr>\n",
       "      <th>0</th>\n",
       "      <td>1f9a8c19-b089-43d1-b609-7e791dc2c70f</td>\n",
       "      <td>1</td>\n",
       "      <td>Female</td>\n",
       "      <td>Naive</td>\n",
       "      <td>-0.24</td>\n",
       "      <td>-3749.176078</td>\n",
       "      <td>-3749.458442</td>\n",
       "      <td>Astrocyte</td>\n",
       "      <td>NaN</td>\n",
       "    </tr>\n",
       "    <tr>\n",
       "      <th>1</th>\n",
       "      <td>1f9a8c19-b089-43d1-b609-7e791dc2c70f</td>\n",
       "      <td>1</td>\n",
       "      <td>Female</td>\n",
       "      <td>Naive</td>\n",
       "      <td>-0.24</td>\n",
       "      <td>-3749.176078</td>\n",
       "      <td>-3749.458442</td>\n",
       "      <td>Astrocyte</td>\n",
       "      <td>NaN</td>\n",
       "    </tr>\n",
       "    <tr>\n",
       "      <th>2</th>\n",
       "      <td>1f9a8c19-b089-43d1-b609-7e791dc2c70f</td>\n",
       "      <td>1</td>\n",
       "      <td>Female</td>\n",
       "      <td>Naive</td>\n",
       "      <td>-0.24</td>\n",
       "      <td>-3749.176078</td>\n",
       "      <td>-3749.458442</td>\n",
       "      <td>Astrocyte</td>\n",
       "      <td>NaN</td>\n",
       "    </tr>\n",
       "    <tr>\n",
       "      <th>3</th>\n",
       "      <td>1f9a8c19-b089-43d1-b609-7e791dc2c70f</td>\n",
       "      <td>1</td>\n",
       "      <td>Female</td>\n",
       "      <td>Naive</td>\n",
       "      <td>-0.24</td>\n",
       "      <td>-3749.176078</td>\n",
       "      <td>-3749.458442</td>\n",
       "      <td>Astrocyte</td>\n",
       "      <td>NaN</td>\n",
       "    </tr>\n",
       "    <tr>\n",
       "      <th>4</th>\n",
       "      <td>1f9a8c19-b089-43d1-b609-7e791dc2c70f</td>\n",
       "      <td>1</td>\n",
       "      <td>Female</td>\n",
       "      <td>Naive</td>\n",
       "      <td>-0.24</td>\n",
       "      <td>-3749.176078</td>\n",
       "      <td>-3749.458442</td>\n",
       "      <td>Astrocyte</td>\n",
       "      <td>NaN</td>\n",
       "    </tr>\n",
       "  </tbody>\n",
       "</table>\n",
       "</div>"
      ],
      "text/plain": [
       "                                Cell_ID  Animal_ID Animal_sex Behavior  \\\n",
       "0  1f9a8c19-b089-43d1-b609-7e791dc2c70f          1     Female    Naive   \n",
       "1  1f9a8c19-b089-43d1-b609-7e791dc2c70f          1     Female    Naive   \n",
       "2  1f9a8c19-b089-43d1-b609-7e791dc2c70f          1     Female    Naive   \n",
       "3  1f9a8c19-b089-43d1-b609-7e791dc2c70f          1     Female    Naive   \n",
       "4  1f9a8c19-b089-43d1-b609-7e791dc2c70f          1     Female    Naive   \n",
       "\n",
       "   Bregma   Centroid_X   Centroid_Y Cell_class Neuron_cluster_ID  \n",
       "0   -0.24 -3749.176078 -3749.458442  Astrocyte               NaN  \n",
       "1   -0.24 -3749.176078 -3749.458442  Astrocyte               NaN  \n",
       "2   -0.24 -3749.176078 -3749.458442  Astrocyte               NaN  \n",
       "3   -0.24 -3749.176078 -3749.458442  Astrocyte               NaN  \n",
       "4   -0.24 -3749.176078 -3749.458442  Astrocyte               NaN  "
      ]
     },
     "execution_count": 79,
     "metadata": {},
     "output_type": "execute_result"
    }
   ],
   "source": [
    "counts_sc = df_sc[genes]\n",
    "obs_sc = df_sc[[x for x in df_sc.columns if x not in genes]]\n",
    "obs_sc.head()"
   ]
  },
  {
   "cell_type": "code",
   "execution_count": 83,
   "id": "d255844f",
   "metadata": {},
   "outputs": [],
   "source": [
    "cellTypeColumn = df_sc[\"Cell_class\"].to_numpy()\n",
    "assert set(np.unique(cellTypeColumn)) == set(celltypes), \"cellTypeColumn contains unknown celltype\""
   ]
  },
  {
   "cell_type": "markdown",
   "id": "d2872087-f05b-4d88-b97d-1f609fa252a3",
   "metadata": {
    "id": "d2872087-f05b-4d88-b97d-1f609fa252a3"
   },
   "source": [
    "# Tangram"
   ]
  },
  {
   "cell_type": "code",
   "execution_count": 84,
   "id": "3f449636-4b11-47a4-8543-8dae8f71b4ba",
   "metadata": {
    "colab": {
     "base_uri": "https://localhost:8080/"
    },
    "id": "3f449636-4b11-47a4-8543-8dae8f71b4ba",
    "outputId": "18aeaf08-1137-4a7d-bede-ed1aca6abe2e"
   },
   "outputs": [
    {
     "name": "stdout",
     "output_type": "stream",
     "text": [
      "(1260, 155)\n",
      "(251, 155)\n"
     ]
    }
   ],
   "source": [
    "adata_sc = ad.AnnData(counts_sc)\n",
    "adata_st = ad.AnnData(counts_st, obs=cellcount)\n",
    "print(adata_sc.shape)\n",
    "print(adata_st.shape)"
   ]
  },
  {
   "cell_type": "code",
   "execution_count": 85,
   "id": "0de9d4a8-ac4e-4b9e-abbd-7927cb30d35d",
   "metadata": {
    "colab": {
     "base_uri": "https://localhost:8080/"
    },
    "id": "0de9d4a8-ac4e-4b9e-abbd-7927cb30d35d",
    "outputId": "8d602a50-8df2-47eb-a530-aab016667b4d"
   },
   "outputs": [
    {
     "data": {
      "text/plain": [
       "0"
      ]
     },
     "execution_count": 85,
     "metadata": {},
     "output_type": "execute_result"
    }
   ],
   "source": [
    "adata_st.obs.head()\n",
    "zeroCount=(obs_sc[\"Cell_class\"]==0).sum()\n",
    "zeroCount"
   ]
  },
  {
   "cell_type": "code",
   "execution_count": 86,
   "id": "2d5914a0-ce64-47a0-ac5c-86f09264a6e7",
   "metadata": {
    "colab": {
     "base_uri": "https://localhost:8080/"
    },
    "id": "2d5914a0-ce64-47a0-ac5c-86f09264a6e7",
    "outputId": "395a6ea8-3461-4e10-f0b8-45491fd9dbc0"
   },
   "outputs": [
    {
     "name": "stderr",
     "output_type": "stream",
     "text": [
      "INFO:root:139 training genes are saved in `uns``training_genes` of both single cell and spatial Anndatas.\n",
      "INFO:root:139 overlapped genes are saved in `uns``overlap_genes` of both single cell and spatial Anndatas.\n",
      "INFO:root:uniform based density prior is calculated and saved in `obs``uniform_density` of the spatial Anndata.\n",
      "INFO:root:rna count based density prior is calculated and saved in `obs``rna_count_based_density` of the spatial Anndata.\n"
     ]
    }
   ],
   "source": [
    "tg.pp_adatas(adata_sc, adata_st, genes=None)"
   ]
  },
  {
   "cell_type": "code",
   "execution_count": 87,
   "id": "92f12376-0bab-4a09-b307-2ea3d5439aa5",
   "metadata": {
    "id": "92f12376-0bab-4a09-b307-2ea3d5439aa5"
   },
   "outputs": [],
   "source": [
    "# adata_map_rna = tg.map_cells_to_space(adata_sc, adata_st, device=device, num_epochs=500)"
   ]
  },
  {
   "cell_type": "code",
   "execution_count": 88,
   "id": "d7e49cb0-baa2-4fd4-89f2-2e149c9b2101",
   "metadata": {
    "colab": {
     "base_uri": "https://localhost:8080/"
    },
    "id": "d7e49cb0-baa2-4fd4-89f2-2e149c9b2101",
    "outputId": "acb11764-1dd3-4ec1-afff-b745558c87e8"
   },
   "outputs": [
    {
     "name": "stderr",
     "output_type": "stream",
     "text": [
      "INFO:root:Allocate tensors for mapping.\n",
      "INFO:root:Begin training with 139 genes and customized density_prior in cells mode...\n",
      "INFO:root:Printing scores every 100 epochs.\n"
     ]
    },
    {
     "name": "stdout",
     "output_type": "stream",
     "text": [
      "Score: 0.830, KL reg: 0.057\n",
      "Score: 0.999, KL reg: 0.000\n",
      "Score: 0.999, KL reg: 0.000\n",
      "Score: 1.000, KL reg: 0.000\n",
      "Score: 1.000, KL reg: 0.000\n"
     ]
    },
    {
     "name": "stderr",
     "output_type": "stream",
     "text": [
      "INFO:root:Saving results..\n"
     ]
    }
   ],
   "source": [
    "adata_map_cellcount = tg.map_cells_to_space(\n",
    "    adata_sc,\n",
    "    adata_st,\n",
    "    target_count=adata_st.obs.cellcount.sum(),\n",
    "    density_prior=np.array(adata_st.obs.cellcount) / adata_st.obs.cellcount.sum(),\n",
    "    device=device,\n",
    "    num_epochs=500\n",
    ")\n",
    "probabilityDf = adata_map_cellcount.to_df()"
   ]
  },
  {
   "cell_type": "code",
   "execution_count": 89,
   "id": "f9c6d70c",
   "metadata": {
    "colab": {
     "base_uri": "https://localhost:8080/"
    },
    "id": "f9c6d70c",
    "outputId": "8274dd1c-8938-436a-9d3b-cb480ae8dd95"
   },
   "outputs": [
    {
     "name": "stdout",
     "output_type": "stream",
     "text": [
      "   cellcount\n",
      "0          2\n",
      "1          2\n",
      "2          2\n",
      "3          2\n",
      "4          2\n",
      "<class 'numpy.int32'>\n"
     ]
    },
    {
     "data": {
      "text/plain": [
       "2"
      ]
     },
     "execution_count": 89,
     "metadata": {},
     "output_type": "execute_result"
    }
   ],
   "source": [
    "probabilityDf.shape\n",
    "# probabilityDf.head()\n",
    "print(cellcount.head())\n",
    "print(type(cellcount.iloc[2,0]))\n",
    "cellcount.iloc[1,0]"
   ]
  },
  {
   "cell_type": "markdown",
   "id": "7e4c8d2c",
   "metadata": {
    "id": "7e4c8d2c"
   },
   "source": [
    "# Probability analysis"
   ]
  },
  {
   "cell_type": "code",
   "execution_count": 91,
   "id": "bb878f38",
   "metadata": {},
   "outputs": [
    {
     "name": "stdout",
     "output_type": "stream",
     "text": [
      "251 2\n"
     ]
    },
    {
     "data": {
      "text/html": [
       "<div>\n",
       "<style scoped>\n",
       "    .dataframe tbody tr th:only-of-type {\n",
       "        vertical-align: middle;\n",
       "    }\n",
       "\n",
       "    .dataframe tbody tr th {\n",
       "        vertical-align: top;\n",
       "    }\n",
       "\n",
       "    .dataframe thead th {\n",
       "        text-align: right;\n",
       "    }\n",
       "</style>\n",
       "<table border=\"1\" class=\"dataframe\">\n",
       "  <thead>\n",
       "    <tr style=\"text-align: right;\">\n",
       "      <th></th>\n",
       "      <th>Astrocyte</th>\n",
       "      <th>Inhibitory</th>\n",
       "    </tr>\n",
       "  </thead>\n",
       "  <tbody>\n",
       "    <tr>\n",
       "      <th>0</th>\n",
       "      <td>1</td>\n",
       "      <td>1</td>\n",
       "    </tr>\n",
       "    <tr>\n",
       "      <th>1</th>\n",
       "      <td>1</td>\n",
       "      <td>1</td>\n",
       "    </tr>\n",
       "    <tr>\n",
       "      <th>2</th>\n",
       "      <td>2</td>\n",
       "      <td>0</td>\n",
       "    </tr>\n",
       "    <tr>\n",
       "      <th>3</th>\n",
       "      <td>2</td>\n",
       "      <td>0</td>\n",
       "    </tr>\n",
       "    <tr>\n",
       "      <th>4</th>\n",
       "      <td>1</td>\n",
       "      <td>1</td>\n",
       "    </tr>\n",
       "  </tbody>\n",
       "</table>\n",
       "</div>"
      ],
      "text/plain": [
       "   Astrocyte  Inhibitory\n",
       "0          1           1\n",
       "1          1           1\n",
       "2          2           0\n",
       "3          2           0\n",
       "4          1           1"
      ]
     },
     "execution_count": 91,
     "metadata": {},
     "output_type": "execute_result"
    }
   ],
   "source": [
    "Nrows = len(df_st)\n",
    "Ncols = len(celltypes)\n",
    "print(Nrows, Ncols)\n",
    "probabilityDf[\"Cell_class\"]=cellTypeColumn\n",
    "# print(probabilityDf[\"Cell_class\"])\n",
    "\n",
    "df_prediction = pd.DataFrame(np.zeros((Nrows,Ncols)),columns=celltypes)\n",
    "tempDf = probabilityDf.copy()\n",
    "\n",
    "for i in range(Nrows):\n",
    "    tempDf = tempDf.sort_values(by=[str(i)], ascending=False)\n",
    "    \n",
    "    for  j in range(cellcount.iloc[i,0]):\n",
    "        cellClass = tempDf.iloc[j][\"Cell_class\"]\n",
    "        df_prediction.iloc[i][cellClass]+=1\n",
    "\n",
    "df_prediction = df_prediction.astype(int)\n",
    "deconvolveDf = df_prediction.copy()\n",
    "df_prediction.head()"
   ]
  },
  {
   "cell_type": "code",
   "execution_count": 92,
   "id": "7f6bd001",
   "metadata": {
    "id": "7f6bd001"
   },
   "outputs": [],
   "source": [
    "for i in range(len(df_prediction)):\n",
    "    deconvolveDf.iloc[i] = 100 * df_prediction.iloc[i]/df_prediction.iloc[i].sum()"
   ]
  },
  {
   "cell_type": "code",
   "execution_count": 93,
   "id": "fbcf15c0",
   "metadata": {
    "colab": {
     "base_uri": "https://localhost:8080/"
    },
    "id": "fbcf15c0",
    "outputId": "da73bf2e-3edb-4ab2-d1fc-82489ae911e4"
   },
   "outputs": [
    {
     "data": {
      "text/plain": [
       "Astrocyte     0\n",
       "Inhibitory    0\n",
       "dtype: int64"
      ]
     },
     "execution_count": 93,
     "metadata": {},
     "output_type": "execute_result"
    }
   ],
   "source": [
    "deconvolveDf.to_csv(\"tangramDeconvolved.csv\",index= False)\n",
    "deconvolveDf.isnull().sum(axis = 0)"
   ]
  },
  {
   "cell_type": "markdown",
   "id": "271e5c9a-6b82-407d-a7be-d23354879dcf",
   "metadata": {
    "id": "271e5c9a-6b82-407d-a7be-d23354879dcf"
   },
   "source": [
    "# Spatial data exploration"
   ]
  },
  {
   "cell_type": "code",
   "execution_count": 94,
   "id": "01bb8151-4775-48d9-9e75-cfcdc767ac46",
   "metadata": {
    "colab": {
     "base_uri": "https://localhost:8080/"
    },
    "id": "01bb8151-4775-48d9-9e75-cfcdc767ac46",
    "outputId": "921e44f4-fea4-447b-d6f0-fe926377ae5e"
   },
   "outputs": [],
   "source": [
    "cnt_ = 0\n",
    "for j in range(deconvolveDf.shape[1]):\n",
    "    for i in range(deconvolveDf.shape[0]):\n",
    "        # if celltype-specific cellcount is zero and deconvolution percentage > threshold\n",
    "        if typeCountDf.iloc[i,j] == 0 and deconvolveDf.iloc[i,j] > 25:\n",
    "            print(cellcount.iloc[i][0], deconvolveDf.columns[j], deconvolveDf.iloc[i,j])\n",
    "            cnt_ += 1\n",
    "            if cnt_ > 10:\n",
    "                break"
   ]
  },
  {
   "cell_type": "code",
   "execution_count": 95,
   "id": "2bef1a1e-82be-479d-a16f-3fdba9b69b5e",
   "metadata": {
    "colab": {
     "base_uri": "https://localhost:8080/"
    },
    "id": "2bef1a1e-82be-479d-a16f-3fdba9b69b5e",
    "outputId": "c0d02d25-d83e-40d7-9596-ecef36508ae2"
   },
   "outputs": [
    {
     "data": {
      "text/plain": [
       "cellcount\n",
       "4            100\n",
       "6            100\n",
       "2             25\n",
       "8             25\n",
       "10             1\n",
       "dtype: int64"
      ]
     },
     "execution_count": 95,
     "metadata": {},
     "output_type": "execute_result"
    }
   ],
   "source": [
    "cellcount.value_counts()"
   ]
  },
  {
   "cell_type": "markdown",
   "id": "575ef18c-1bda-41f2-b2c1-db8cd6a2e437",
   "metadata": {
    "id": "575ef18c-1bda-41f2-b2c1-db8cd6a2e437"
   },
   "source": [
    "# TANGRAM mispredictions"
   ]
  },
  {
   "cell_type": "code",
   "execution_count": 96,
   "id": "1f356b71-b53f-4ba6-a8b2-88033d5b7b85",
   "metadata": {
    "id": "1f356b71-b53f-4ba6-a8b2-88033d5b7b85"
   },
   "outputs": [],
   "source": [
    "l = np.max(cellcount.values) + 1\n",
    "count_misprediction = dict.fromkeys(celltypes)\n",
    "for i in count_misprediction:\n",
    "    count_misprediction[i] = dict.fromkeys(range(l))\n",
    "    for j in count_misprediction[i]:\n",
    "        count_misprediction[i][j] = [0, 0, dict.fromkeys(celltypes,0)]\n",
    "\n",
    "for j in range(df_prediction.shape[1]):\n",
    "    for i in range(df_prediction.shape[0]):\n",
    "        actual_count = typeCountDf.iloc[i,j]\n",
    "        predicted_count = df_prediction.iloc[i,j]\n",
    "        tarr = count_misprediction[df_prediction.columns[j]][typeCountDf.iloc[i,j]]\n",
    "        tarr[0] += 1\n",
    "        if typeCountDf.iloc[i,j] != df_prediction.iloc[i,j]:\n",
    "            tarr[1] += 1\n",
    "            tarr[2] = {k: tarr[2].get(k, 0) + typeCountDf.iloc[i,:].to_dict().get(k, 0) \\\n",
    "                       for k in tarr[2].keys() | typeCountDf.iloc[i,:].to_dict().keys()}"
   ]
  },
  {
   "cell_type": "markdown",
   "id": "ea4cfa95-040d-4f10-976f-b451b40b88c7",
   "metadata": {
    "id": "ea4cfa95-040d-4f10-976f-b451b40b88c7"
   },
   "source": [
    "Plotting for each celltype the number of spots with mispredictions"
   ]
  },
  {
   "cell_type": "code",
   "execution_count": 97,
   "id": "4a55e892-bd29-4767-b385-ba735e325320",
   "metadata": {
    "colab": {
     "base_uri": "https://localhost:8080/",
     "height": 847
    },
    "id": "4a55e892-bd29-4767-b385-ba735e325320",
    "outputId": "19bbc416-47ec-4b65-c339-b7fd90149ef1"
   },
   "outputs": [
    {
     "data": {
      "image/png": "[encoded data removed]",
      "text/plain": [
       "<Figure size 1440x1080 with 2 Axes>"
      ]
     },
     "metadata": {
      "needs_background": "light"
     },
     "output_type": "display_data"
    }
   ],
   "source": [
    "plt.rcParams['figure.figsize'] = [20,15]\n",
    "\n",
    "for i, celltype in enumerate(celltypes):\n",
    "    x = list(count_misprediction[celltype].keys())\n",
    "    y = np.array(list(count_misprediction[celltype].values()))\n",
    "    plt.subplot(4, 4, i+1)\n",
    "    bar = plt.bar(x, y[:,1], width=0.8, color='g')\n",
    "    for j, rect in enumerate(bar):\n",
    "        height = rect.get_height()\n",
    "        plt.text(rect.get_x() + rect.get_width() / 2.0, height, f'{y[j,0]:.0f}', ha='center', va='bottom')\n",
    "    plt.title(celltype)\n",
    "    plt.tight_layout()\n",
    "    \n",
    "plt.rcParams['figure.figsize'] = [10,5]"
   ]
  },
  {
   "cell_type": "markdown",
   "id": "69a01dff-5b0f-4f68-a943-41e6bef84818",
   "metadata": {
    "id": "69a01dff-5b0f-4f68-a943-41e6bef84818"
   },
   "source": [
    "Plotting for each celltype the percentage of spots with mispredictions"
   ]
  },
  {
   "cell_type": "code",
   "execution_count": 98,
   "id": "4ae8dd52-ad99-4335-94e9-6b1dfb58f3c2",
   "metadata": {
    "colab": {
     "base_uri": "https://localhost:8080/",
     "height": 847
    },
    "id": "4ae8dd52-ad99-4335-94e9-6b1dfb58f3c2",
    "outputId": "d7c7d5f3-90eb-483b-ed00-79629e08ac0b"
   },
   "outputs": [
    {
     "data": {
      "image/png": "[encoded data removed]",
      "text/plain": [
       "<Figure size 1440x1080 with 2 Axes>"
      ]
     },
     "metadata": {
      "needs_background": "light"
     },
     "output_type": "display_data"
    }
   ],
   "source": [
    "plt.rcParams['figure.figsize'] = [20,15]\n",
    "\n",
    "for i, celltype in enumerate(celltypes):\n",
    "    x = list(count_misprediction[celltype].keys())\n",
    "    _y = np.array(list(count_misprediction[celltype].values()))[:,:2].astype(int)\n",
    "    y = np.nan_to_num((_y[:,1] / _y[:,0]) * 100)\n",
    "    # y = _y[:,1]\n",
    "    plt.subplot(4, 4, i+1)\n",
    "    bar = plt.bar(x, y, width=0.5, color='g')\n",
    "    for j, rect in enumerate(bar):\n",
    "        height = rect.get_height()\n",
    "        if _y[j,0] == 0:\n",
    "            plt.text(rect.get_x() + rect.get_width() / 2.0, height, f'N/A', ha='center', va='bottom')\n",
    "    plt.ylim((0,100))\n",
    "    plt.title(celltype)\n",
    "    plt.tight_layout()\n",
    "    \n",
    "plt.rcParams['figure.figsize'] = [10,5]"
   ]
  },
  {
   "cell_type": "code",
   "execution_count": 99,
   "id": "fT0PCVVPiK4n",
   "metadata": {
    "colab": {
     "base_uri": "https://localhost:8080/",
     "height": 1000
    },
    "id": "fT0PCVVPiK4n",
    "outputId": "8249adaa-b352-475a-db3c-44f4f5dcce2f"
   },
   "outputs": [
    {
     "data": {
      "image/png": "[encoded data removed]",
      "text/plain": [
       "<Figure size 1440x1080 with 2 Axes>"
      ]
     },
     "metadata": {
      "needs_background": "light"
     },
     "output_type": "display_data"
    }
   ],
   "source": [
    "maxcellcount = len(count_misprediction[celltypes[0]].keys())\n",
    "maxcellcount = 1\n",
    "\n",
    "plt.rcParams['figure.figsize'] = [20, 15*maxcellcount]\n",
    "\n",
    "j=0\n",
    "for j in range(maxcellcount):\n",
    "    for i, celltype in enumerate(celltypes):\n",
    "        x = list(count_misprediction[celltype][j][2].keys())\n",
    "        y = np.array(list(count_misprediction[celltype][j][2].values()))\n",
    "        plt.subplot(4*maxcellcount, 4, j*16+i+1)\n",
    "        bar = plt.bar(x, y, width=0.5, color='g')\n",
    "        plt.xticks(rotation=90)\n",
    "        # plt.ylim((0,100))\n",
    "        plt.title(celltype + \" - \" + str(j))\n",
    "        plt.tight_layout()\n",
    "    \n",
    "plt.rcParams['figure.figsize'] = [10,5]"
   ]
  },
  {
   "cell_type": "code",
   "execution_count": 100,
   "id": "12025cb0-350c-4722-a5cc-ca744b32ed3e",
   "metadata": {},
   "outputs": [
    {
     "data": {
      "text/plain": [
       "array([0, 0])"
      ]
     },
     "execution_count": 100,
     "metadata": {},
     "output_type": "execute_result"
    }
   ],
   "source": [
    "celltype = 'Astrocyte'\n",
    "np.array(list(count_misprediction[celltype][j][2].values()))"
   ]
  },
  {
   "cell_type": "markdown",
   "id": "1dc4c975-c9af-4a72-84fb-6ac2c030acf2",
   "metadata": {},
   "source": [
    "# Fraction to cellcount ratio"
   ]
  },
  {
   "cell_type": "code",
   "execution_count": 101,
   "id": "c29390bc-6d0b-4985-b7c2-f452d6ab0d1e",
   "metadata": {},
   "outputs": [
    {
     "data": {
      "text/html": [
       "<div>\n",
       "<style scoped>\n",
       "    .dataframe tbody tr th:only-of-type {\n",
       "        vertical-align: middle;\n",
       "    }\n",
       "\n",
       "    .dataframe tbody tr th {\n",
       "        vertical-align: top;\n",
       "    }\n",
       "\n",
       "    .dataframe thead th {\n",
       "        text-align: right;\n",
       "    }\n",
       "</style>\n",
       "<table border=\"1\" class=\"dataframe\">\n",
       "  <thead>\n",
       "    <tr style=\"text-align: right;\">\n",
       "      <th></th>\n",
       "      <th>Astrocyte</th>\n",
       "      <th>Inhibitory</th>\n",
       "    </tr>\n",
       "  </thead>\n",
       "  <tbody>\n",
       "    <tr>\n",
       "      <th>0</th>\n",
       "      <td>1</td>\n",
       "      <td>1</td>\n",
       "    </tr>\n",
       "    <tr>\n",
       "      <th>1</th>\n",
       "      <td>1</td>\n",
       "      <td>1</td>\n",
       "    </tr>\n",
       "    <tr>\n",
       "      <th>2</th>\n",
       "      <td>1</td>\n",
       "      <td>1</td>\n",
       "    </tr>\n",
       "    <tr>\n",
       "      <th>3</th>\n",
       "      <td>1</td>\n",
       "      <td>1</td>\n",
       "    </tr>\n",
       "    <tr>\n",
       "      <th>4</th>\n",
       "      <td>1</td>\n",
       "      <td>1</td>\n",
       "    </tr>\n",
       "  </tbody>\n",
       "</table>\n",
       "</div>"
      ],
      "text/plain": [
       "   Astrocyte  Inhibitory\n",
       "0          1           1\n",
       "1          1           1\n",
       "2          1           1\n",
       "3          1           1\n",
       "4          1           1"
      ]
     },
     "execution_count": 101,
     "metadata": {},
     "output_type": "execute_result"
    }
   ],
   "source": [
    "typeCountDf.head()"
   ]
  },
  {
   "cell_type": "code",
   "execution_count": 102,
   "id": "461b0e18-22b7-4b96-8f90-5998498143b5",
   "metadata": {},
   "outputs": [
    {
     "data": {
      "text/html": [
       "<div>\n",
       "<style scoped>\n",
       "    .dataframe tbody tr th:only-of-type {\n",
       "        vertical-align: middle;\n",
       "    }\n",
       "\n",
       "    .dataframe tbody tr th {\n",
       "        vertical-align: top;\n",
       "    }\n",
       "\n",
       "    .dataframe thead th {\n",
       "        text-align: right;\n",
       "    }\n",
       "</style>\n",
       "<table border=\"1\" class=\"dataframe\">\n",
       "  <thead>\n",
       "    <tr style=\"text-align: right;\">\n",
       "      <th></th>\n",
       "      <th>Astrocyte</th>\n",
       "      <th>Inhibitory</th>\n",
       "      <th>Cellcount</th>\n",
       "    </tr>\n",
       "  </thead>\n",
       "  <tbody>\n",
       "    <tr>\n",
       "      <th>0</th>\n",
       "      <td>0.5</td>\n",
       "      <td>0.5</td>\n",
       "      <td>1</td>\n",
       "    </tr>\n",
       "    <tr>\n",
       "      <th>1</th>\n",
       "      <td>0.5</td>\n",
       "      <td>0.5</td>\n",
       "      <td>1</td>\n",
       "    </tr>\n",
       "    <tr>\n",
       "      <th>2</th>\n",
       "      <td>1.0</td>\n",
       "      <td>0.0</td>\n",
       "      <td>1</td>\n",
       "    </tr>\n",
       "    <tr>\n",
       "      <th>3</th>\n",
       "      <td>1.0</td>\n",
       "      <td>0.0</td>\n",
       "      <td>1</td>\n",
       "    </tr>\n",
       "    <tr>\n",
       "      <th>4</th>\n",
       "      <td>0.5</td>\n",
       "      <td>0.5</td>\n",
       "      <td>1</td>\n",
       "    </tr>\n",
       "  </tbody>\n",
       "</table>\n",
       "</div>"
      ],
      "text/plain": [
       "   Astrocyte  Inhibitory  Cellcount\n",
       "0        0.5         0.5          1\n",
       "1        0.5         0.5          1\n",
       "2        1.0         0.0          1\n",
       "3        1.0         0.0          1\n",
       "4        0.5         0.5          1"
      ]
     },
     "execution_count": 102,
     "metadata": {},
     "output_type": "execute_result"
    }
   ],
   "source": [
    "df_fraction = df_prediction.divide(df_prediction.sum(axis=1), axis=0)\n",
    "df_fraction['Cellcount'] = typeCountDf[celltypes[0]]\n",
    "df_fraction.head()"
   ]
  },
  {
   "cell_type": "code",
   "execution_count": 103,
   "id": "9789a795-59f1-4b6f-8fc1-48175b7a22f2",
   "metadata": {},
   "outputs": [
    {
     "data": {
      "image/png": "[encoded data removed]",
      "text/plain": [
       "<Figure size 864x288 with 2 Axes>"
      ]
     },
     "metadata": {
      "needs_background": "light"
     },
     "output_type": "display_data"
    }
   ],
   "source": [
    "fix, axs = plt.subplots(1, len(celltypes), figsize=(12, 4))\n",
    "\n",
    "for i, celltype in enumerate(celltypes):\n",
    "    df_fraction.plot.scatter(x='Cellcount', y=celltype, ax=axs[i])"
   ]
  },
  {
   "cell_type": "code",
   "execution_count": 104,
   "id": "b1323258-9296-4e4f-9a5a-e7b16606f72d",
   "metadata": {},
   "outputs": [
    {
     "data": {
      "image/png": "[encoded data removed]",
      "text/plain": [
       "<Figure size 720x360 with 2 Axes>"
      ]
     },
     "metadata": {
      "needs_background": "light"
     },
     "output_type": "display_data"
    }
   ],
   "source": [
    "df_fraction.boxplot(by='Cellcount', grid=False);"
   ]
  }
 ],
 "metadata": {
  "colab": {
   "collapsed_sections": [],
   "name": "MERFISH_Tangram.ipynb",
   "provenance": [],
   "toc_visible": true
  },
  "kernelspec": {
   "display_name": "Python 3 (ipykernel)",
   "language": "python",
   "name": "python3"
  },
  "language_info": {
   "codemirror_mode": {
    "name": "ipython",
    "version": 3
   },
   "file_extension": ".py",
   "mimetype": "text/x-python",
   "name": "python",
   "nbconvert_exporter": "python",
   "pygments_lexer": "ipython3",
   "version": "3.9.7"
  },
  "toc-autonumbering": true
 },
 "nbformat": 4,
 "nbformat_minor": 5
}
